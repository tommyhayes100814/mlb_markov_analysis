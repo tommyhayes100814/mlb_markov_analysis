{
 "cells": [
  {
   "cell_type": "code",
   "execution_count": 26,
   "metadata": {},
   "outputs": [],
   "source": [
    "import pandas as pd\n",
    "import matplotlib.pyplot as plt\n",
    "import numpy as np\n",
    "import random"
   ]
  },
  {
   "cell_type": "code",
   "execution_count": 2,
   "metadata": {},
   "outputs": [],
   "source": [
    "pd.set_option('display.max_rows', 500)\n",
    "pd.set_option('display.max_columns', 500)\n",
    "pd.set_option('display.width', 1000000)\n",
    "pd.options.mode.chained_assignment = None "
   ]
  },
  {
   "cell_type": "code",
   "execution_count": 3,
   "metadata": {},
   "outputs": [],
   "source": [
    "clean_df = pd.read_csv('data/play_by_play_2016.csv').drop(columns='Unnamed: 0')"
   ]
  },
  {
   "cell_type": "code",
   "execution_count": 4,
   "metadata": {},
   "outputs": [],
   "source": [
    "remove_cols = ['Fielders Choice', 'Sacrifice Fly', 'Fielder\\'s Choice-Adv-2nd', \n",
    "               'Sacrifice Bunt', 'Reached on error-Adv-3rd', 'Reached on error-Adv-2nd', \n",
    "               'Catcher Interference', 'Sacrifice Bunt-Adv-2nd', 'Sacrifice Bunt', \n",
    "               'Dirt Ball', 'Sacrifice Fly-Adv-2nd', 'Fielders Choice - Out at 2nd', \n",
    "               'Sacrifice Fly-Adv-1st', 'Sacrifice Bunt-Adv-1st', 'Reached On Error - Out at 2nd', \n",
    "               'Balk', 'Reached on error', 'Hit by pitch']\n",
    "\n",
    "high_level_groupings = {\n",
    "    'ball' : ['Ball', 'Intentional Ball', 'Pitch Out'], \n",
    "    \n",
    "    'strike' : \n",
    "        ['Strike Looking', 'Strike Swinging', ' Strike Swinging - Out at Home', \n",
    "         'Strike-swinging-Adv-1st', 'Strike-looking-Adv-1st', 'Single - Out at 3rd', \n",
    "         'Strike Looking - Out at 1st'], \n",
    "    \n",
    "    'contact_in_play_out' : \n",
    "        ['Pop Out', 'Ground Out', 'Fly Out', 'Line Out'], \n",
    "    \n",
    "    'contact_in_on_base' : \n",
    "        ['Homerun', 'Single', 'Double', 'Single - Out at 2nd', 'Triple', 'Single-Adv-2nd', \n",
    "         'Double-Adv-3rd', 'Double Out at 3rd', 'Single-Adv-Home', 'Single-Adv-3rd', 'Double-Adv-Home', \n",
    "         'Triple-Adv-Home', 'Triple - Out at Home', 'Double-Adv-Home'], \n",
    "    \n",
    "    'contact_foul' : ['Foul Ball', 'Foul Tip', ]\n",
    "}"
   ]
  },
  {
   "cell_type": "code",
   "execution_count": 5,
   "metadata": {},
   "outputs": [],
   "source": [
    "# remove any bat_id with 'rare' events (~10% of at-bats)\n",
    "remove_ids = clean_df.loc[clean_df['outcomeDescription'].isin(remove_cols)]['bat_id'].unique()\n",
    "clean_df = clean_df.loc[~clean_df['bat_id'].isin(remove_ids)]\n",
    "\n",
    "# theres currently no assignment for a walk; create new column for outcome called walk\n",
    "clean_df['walk_flag'] = np.where(\n",
    "    ((clean_df['startingBalls'] == 3) & \n",
    "     (clean_df['outcomeDescription'].isin(high_level_groupings['ball']))), 1, 0\n",
    ")\n",
    "\n",
    "# do the same for strikes\n",
    "clean_df['strikeout_flag'] = np.where(\n",
    "    ((clean_df['startingStrikes'] == 2) & \n",
    "    (clean_df['outcomeDescription'].isin(high_level_groupings['strike']))), 1, 0\n",
    ")\n",
    "\n",
    "# put the previous ids in the data\n",
    "clean_df['prev_state_id'] = (\n",
    "    clean_df.sort_values(by=['bat_id', 'event_num'], ascending=True)\n",
    "      .groupby('bat_id')['outcomeId']\n",
    "      .shift(1)\n",
    "      .fillna('bFP')\n",
    ")\n",
    "\n",
    "clean_df['prev_state_desc'] = (\n",
    "    clean_df.sort_values(by=['bat_id', 'event_num'], ascending=True)\n",
    "      .groupby('bat_id')['outcomeDescription']\n",
    "      .shift(1)\n",
    "      .fillna('First Pitch')\n",
    ")\n",
    "\n",
    "# assign based on the dictonary above\n",
    "clean_df['assigned_outcome'] = ''\n",
    "clean_df['prev_assigned_outcome'] = ''\n",
    "for outcome, grouping in high_level_groupings.items(): \n",
    "    clean_df['assigned_outcome'] = np.where(\n",
    "        clean_df['walk_flag'] == 1, 'walk', \n",
    "            np.where(clean_df['strikeout_flag'] == 1, 'strikeout',\n",
    "                np.where(\n",
    "                    clean_df['outcomeDescription'].isin(grouping), outcome, clean_df['assigned_outcome']\n",
    "                )\n",
    "            )          \n",
    "        )\n",
    "    \n",
    "    # has the previous outcomes as the same grouping (except itis imporssible to get a walk here)\n",
    "    clean_df['prev_assigned_outcome'] = np.where(\n",
    "            clean_df['prev_state_desc'] == 'First Pitch', 'first_pitch',\n",
    "            np.where(\n",
    "                clean_df['prev_state_desc'].isin(grouping), outcome, clean_df['prev_assigned_outcome']\n",
    "            )\n",
    "    )"
   ]
  },
  {
   "cell_type": "markdown",
   "metadata": {},
   "source": [
    "There are some fluke occurrences that will lead to werid things in the data. I'll remove these for this analysis rather than trying to compensate (about 450 AB's)\n",
    "\n",
    "For an example (Home Run called back on second pitch), see here: https://www.mlb.com/video/search?q=BatterId+%3D+%5B467793%5D+AND+PlayerId+%3D%3D+%5B112526%5D+AND+Inning+%3D+%5B1%5D+Order+By+Timestamp+DESC\n",
    "\n"
   ]
  },
  {
   "cell_type": "code",
   "execution_count": 6,
   "metadata": {},
   "outputs": [],
   "source": [
    "bad_cols = ['contact_in_on_base', 'contact_in_play_out']\n",
    "bad_records = clean_df.loc[clean_df['prev_assigned_outcome'].isin(bad_cols)]['bat_id'].unique()\n",
    "\n",
    "# remove these records from the data\n",
    "clean_df = clean_df.loc[~clean_df['bat_id'].isin(bad_records)]"
   ]
  },
  {
   "cell_type": "markdown",
   "metadata": {},
   "source": [
    "### Get the transition matrix for the Entire MLB"
   ]
  },
  {
   "cell_type": "code",
   "execution_count": 7,
   "metadata": {},
   "outputs": [],
   "source": [
    "def compute_transition_matrix(matrix_df): \n",
    "    transition_matrix = pd.pivot_table(\n",
    "        data=matrix_df[['pitch_id', 'assigned_outcome', 'prev_assigned_outcome']], \n",
    "        index='prev_assigned_outcome', \n",
    "        columns='assigned_outcome',\n",
    "        aggfunc='count', \n",
    "        fill_value=0\n",
    "    )\n",
    "\n",
    "    transition_matrix.columns = [i[1] for i in transition_matrix.columns.to_flat_index()]\n",
    "    transition_matrix = (\n",
    "        transition_matrix.reset_index().rename(columns={'prev_assigned_outcome' : 'previous_play'})\n",
    "    )\n",
    "\n",
    "    transition_matrix['total'] = transition_matrix.sum(axis=1)\n",
    "    for col in [i for i in transition_matrix.columns if i not in ['previous_play', 'total']]: \n",
    "        transition_matrix[col] = transition_matrix[col] / transition_matrix['total']\n",
    "\n",
    "    # transition_matrix = transition_matrix.drop(columns='total')\n",
    "    return transition_matrix"
   ]
  },
  {
   "cell_type": "code",
   "execution_count": 8,
   "metadata": {},
   "outputs": [
    {
     "name": "stderr",
     "output_type": "stream",
     "text": [
      "/usr/local/lib/python3.7/site-packages/ipykernel_launcher.py:15: FutureWarning: Dropping of nuisance columns in DataFrame reductions (with 'numeric_only=None') is deprecated; in a future version this will raise TypeError.  Select only valid columns before calling the reduction.\n",
      "  from ipykernel import kernelapp as app\n"
     ]
    },
    {
     "data": {
      "text/html": [
       "<div>\n",
       "<style scoped>\n",
       "    .dataframe tbody tr th:only-of-type {\n",
       "        vertical-align: middle;\n",
       "    }\n",
       "\n",
       "    .dataframe tbody tr th {\n",
       "        vertical-align: top;\n",
       "    }\n",
       "\n",
       "    .dataframe thead th {\n",
       "        text-align: right;\n",
       "    }\n",
       "</style>\n",
       "<table border=\"1\" class=\"dataframe\">\n",
       "  <thead>\n",
       "    <tr style=\"text-align: right;\">\n",
       "      <th></th>\n",
       "      <th>previous_play</th>\n",
       "      <th>ball</th>\n",
       "      <th>contact_foul</th>\n",
       "      <th>contact_in_on_base</th>\n",
       "      <th>contact_in_play_out</th>\n",
       "      <th>strike</th>\n",
       "      <th>strikeout</th>\n",
       "      <th>walk</th>\n",
       "      <th>total</th>\n",
       "    </tr>\n",
       "  </thead>\n",
       "  <tbody>\n",
       "    <tr>\n",
       "      <th>0</th>\n",
       "      <td>ball</td>\n",
       "      <td>0.278140</td>\n",
       "      <td>0.199762</td>\n",
       "      <td>0.073851</td>\n",
       "      <td>0.136458</td>\n",
       "      <td>0.224339</td>\n",
       "      <td>0.048297</td>\n",
       "      <td>0.039153</td>\n",
       "      <td>192374</td>\n",
       "    </tr>\n",
       "    <tr>\n",
       "      <th>1</th>\n",
       "      <td>contact_foul</td>\n",
       "      <td>0.320865</td>\n",
       "      <td>0.234311</td>\n",
       "      <td>0.077727</td>\n",
       "      <td>0.152527</td>\n",
       "      <td>0.062540</td>\n",
       "      <td>0.129723</td>\n",
       "      <td>0.022307</td>\n",
       "      <td>102526</td>\n",
       "    </tr>\n",
       "    <tr>\n",
       "      <th>2</th>\n",
       "      <td>first_pitch</td>\n",
       "      <td>0.386704</td>\n",
       "      <td>0.107284</td>\n",
       "      <td>0.041843</td>\n",
       "      <td>0.073729</td>\n",
       "      <td>0.390428</td>\n",
       "      <td>0.000007</td>\n",
       "      <td>0.000007</td>\n",
       "      <td>152763</td>\n",
       "    </tr>\n",
       "    <tr>\n",
       "      <th>3</th>\n",
       "      <td>strike</td>\n",
       "      <td>0.361585</td>\n",
       "      <td>0.198030</td>\n",
       "      <td>0.066151</td>\n",
       "      <td>0.132555</td>\n",
       "      <td>0.160950</td>\n",
       "      <td>0.068333</td>\n",
       "      <td>0.012396</td>\n",
       "      <td>130127</td>\n",
       "    </tr>\n",
       "  </tbody>\n",
       "</table>\n",
       "</div>"
      ],
      "text/plain": [
       "  previous_play      ball  contact_foul  contact_in_on_base  contact_in_play_out    strike  strikeout      walk   total\n",
       "0          ball  0.278140      0.199762            0.073851             0.136458  0.224339   0.048297  0.039153  192374\n",
       "1  contact_foul  0.320865      0.234311            0.077727             0.152527  0.062540   0.129723  0.022307  102526\n",
       "2   first_pitch  0.386704      0.107284            0.041843             0.073729  0.390428   0.000007  0.000007  152763\n",
       "3        strike  0.361585      0.198030            0.066151             0.132555  0.160950   0.068333  0.012396  130127"
      ]
     },
     "execution_count": 8,
     "metadata": {},
     "output_type": "execute_result"
    }
   ],
   "source": [
    "# see the matrix for the entire mlb\n",
    "compute_transition_matrix(matrix_df=clean_df)"
   ]
  },
  {
   "cell_type": "markdown",
   "metadata": {},
   "source": [
    "### Get this for a certain batter and at a certain time (pitch count)"
   ]
  },
  {
   "cell_type": "markdown",
   "metadata": {},
   "source": [
    "### Compute the transition matrix at every point in a certain at bat"
   ]
  },
  {
   "cell_type": "code",
   "execution_count": 9,
   "metadata": {},
   "outputs": [],
   "source": [
    "def prob_next_state(hitter_matrix, pitcher_matrix): \n",
    "    \n",
    "    # get the columns that are in pitcher but not in hitter (for 0 prob)\n",
    "    h_missing_cols = [i for i in pitcher_matrix.columns if i not in hitter_matrix.columns]\n",
    "    p_missing_cols = [i for i in hitter_matrix.columns if i not in pitcher_matrix.columns]\n",
    "\n",
    "    # add the columns with 0's if not in\n",
    "    if len(h_missing_cols) > 0:\n",
    "        for i in h_missing_cols: \n",
    "            hitter_matrix[i] = 0\n",
    "\n",
    "    if len(p_missing_cols) > 0:\n",
    "        for i in p_missing_cols: \n",
    "            pitcher_matrix[i] = 0\n",
    "\n",
    "    # make sure the rows are (for prev play) are in the same order\n",
    "    common_rows = [\n",
    "        i for i in hitter_matrix['previous_play'].unique() \n",
    "        if i in pitcher_matrix['previous_play'].unique()\n",
    "    ]\n",
    "\n",
    "    # get the common order between the two\n",
    "    row_order = {i:j for i,j in enumerate(common_rows)}\n",
    "    \n",
    "    # force the dataframes to be in that order\n",
    "    hitter_m = hitter_matrix.sort_values(by=['previous_play'], key=lambda x: x.map(row_order))\n",
    "    pitcher_m  = pitcher_matrix.sort_values(by=['previous_play'], key=lambda x: x.map(row_order))\n",
    "    \n",
    "    results_df = pd.DataFrame()\n",
    "    cols = [i for i in hitter_matrix.columns if i not in ['previous_play', 'total']]\n",
    "    results_df['previous_play'] = common_rows\n",
    "    for col in cols:\n",
    "        results_df[col] = cumulative_prob(\n",
    "            pa=hitter_matrix[col], \n",
    "            pb=pitcher_matrix[col], \n",
    "            an=hitter_matrix['total'], \n",
    "            bn=pitcher_matrix['total']\n",
    "    )\n",
    "        \n",
    "    return results_df\n",
    "\n",
    "def compute_hitter_matrix(clean_df, hitter, strikes, balls, bat_id): \n",
    "    # compute for all the hitter matrix\n",
    "    hitter_state_df = clean_df.loc[\n",
    "        ((clean_df['hitter_full_name'] == hitter) & \n",
    "         (clean_df['bat_id'] != bat_id) & \n",
    "         (clean_df['startingStrikes'] == strikes) & \n",
    "         (clean_df['startingBalls'] == balls))\n",
    "    ]\n",
    "    \n",
    "    hitter_matrix = compute_transition_matrix(matrix_df=hitter_state_df)\n",
    "    return hitter_matrix\n",
    "\n",
    "def compute_pitcher_matrix(clean_df, pitcher, strikes, balls, bat_id): \n",
    "    pitcher_state_df = clean_df.loc[\n",
    "        ((clean_df['pitcher_full_name'] == pitcher) & \n",
    "         (clean_df['bat_id'] != bat_id) & \n",
    "         (clean_df['startingStrikes'] == strikes) & \n",
    "         (clean_df['startingBalls'] == balls))\n",
    "    ]\n",
    "    \n",
    "    pitcher_matrix = compute_transition_matrix(matrix_df=pitcher_state_df)\n",
    "    return pitcher_matrix\n",
    "\n",
    "def cumulative_prob(pa, pb, an, bn): \n",
    "    a_prob = pa * (1-bn/(an+bn))\n",
    "    b_prob = pb * (1-an/(bn+an))\n",
    "    cumul_prob = a_prob + b_prob\n",
    "    return cumul_prob"
   ]
  },
  {
   "cell_type": "code",
   "execution_count": 37,
   "metadata": {},
   "outputs": [],
   "source": [
    "# choose 20000 random at-bats\n",
    "r_bat_id = random.randint(0, len(clean_df['bat_id'].unique()))\n",
    "n = 20000\n",
    "test_bat_ids = clean_df['bat_id'].unique()[r_bat_id:r_bat_id+n]"
   ]
  },
  {
   "cell_type": "code",
   "execution_count": 38,
   "metadata": {
    "scrolled": false
   },
   "outputs": [
    {
     "name": "stderr",
     "output_type": "stream",
     "text": [
      "/usr/local/lib/python3.7/site-packages/ipykernel_launcher.py:15: FutureWarning: Dropping of nuisance columns in DataFrame reductions (with 'numeric_only=None') is deprecated; in a future version this will raise TypeError.  Select only valid columns before calling the reduction.\n",
      "  from ipykernel import kernelapp as app\n"
     ]
    }
   ],
   "source": [
    "results_df = pd.DataFrame()\n",
    "for counter_i, test_bat_id in enumerate(test_bat_ids): \n",
    "    bat_df = clean_df.loc[clean_df['bat_id'] == test_bat_id]\n",
    "    \n",
    "    # get the name of the hitter and pitcher\n",
    "    hitter, pitcher = bat_df['hitter_full_name'].unique().item(), bat_df['pitcher_full_name'].unique().item()\n",
    "    total_events = sorted(bat_df['event_num'].tolist())\n",
    "\n",
    "    for event in total_events: \n",
    "        # get the count at that event in time\n",
    "        count_df = bat_df.loc[bat_df['event_num'] == event]\n",
    "        pitch_id = count_df['pitch_id'].item()\n",
    "        prev_outcome = count_df['prev_assigned_outcome'].item()\n",
    "        actual_outcome = count_df['assigned_outcome'].item()\n",
    "        balls, strikes = count_df['startingBalls'].item(), count_df['startingStrikes'].item()\n",
    "        \n",
    "        # pull the transition matrix for all times this count occured in the dataset\n",
    "        # remove this certain at bat for both hitter and pitcher\n",
    "        hitter_matrix = compute_hitter_matrix(\n",
    "            clean_df=clean_df, \n",
    "            hitter=hitter, \n",
    "            strikes=strikes, \n",
    "            balls=balls, \n",
    "            bat_id=bat_id\n",
    "        )\n",
    "\n",
    "\n",
    "        pitcher_matrix = compute_pitcher_matrix(\n",
    "            clean_df=clean_df, \n",
    "            pitcher=pitcher, \n",
    "            strikes=strikes, \n",
    "            balls=balls, \n",
    "            bat_id=bat_id\n",
    "        )\n",
    "\n",
    "        # print(f'Balls: {balls}; Strikes: {strikes};')\n",
    "        all_comb_prob = prob_next_state(hitter_matrix, pitcher_matrix)\n",
    "        certain_comb_prob = all_comb_prob.loc[all_comb_prob['previous_play'] == prev_outcome]\n",
    "        certain_comb_prob['actual_outcome'] = actual_outcome\n",
    "        certain_comb_prob['pitch_id'] = pitch_id\n",
    "        results_df = pd.concat([results_df, certain_comb_prob], axis=0)\n",
    "    \n",
    "    # write out to csv in case something goes wrong (every 500 iterations)\n",
    "    if counter_i % 500 == 0: \n",
    "        results_df.to_csv(f'results_df_{counter_i}.csv')"
   ]
  },
  {
   "cell_type": "code",
   "execution_count": 40,
   "metadata": {},
   "outputs": [],
   "source": [
    "import os\n",
    "# get all of the csvs that have written out from process\n",
    "csvs = sorted([i for i in os.listdir() if i.startswith('results_df')])\n",
    "\n",
    "results_df = pd.DataFrame()\n",
    "for csv in csvs:\n",
    "    t = pd.read_csv(csv)\n",
    "    results_df = pd.concat([results_df, t], axis=0)"
   ]
  },
  {
   "cell_type": "code",
   "execution_count": 41,
   "metadata": {
    "scrolled": false
   },
   "outputs": [
    {
     "data": {
      "text/html": [
       "<div>\n",
       "<style scoped>\n",
       "    .dataframe tbody tr th:only-of-type {\n",
       "        vertical-align: middle;\n",
       "    }\n",
       "\n",
       "    .dataframe tbody tr th {\n",
       "        vertical-align: top;\n",
       "    }\n",
       "\n",
       "    .dataframe thead th {\n",
       "        text-align: right;\n",
       "    }\n",
       "</style>\n",
       "<table border=\"1\" class=\"dataframe\">\n",
       "  <thead>\n",
       "    <tr style=\"text-align: right;\">\n",
       "      <th></th>\n",
       "      <th>Unnamed: 0</th>\n",
       "      <th>previous_play</th>\n",
       "      <th>ball</th>\n",
       "      <th>contact_foul</th>\n",
       "      <th>contact_in_on_base</th>\n",
       "      <th>contact_in_play_out</th>\n",
       "      <th>strike</th>\n",
       "      <th>actual_outcome</th>\n",
       "      <th>pitch_id</th>\n",
       "      <th>strikeout</th>\n",
       "      <th>walk</th>\n",
       "    </tr>\n",
       "  </thead>\n",
       "  <tbody>\n",
       "    <tr>\n",
       "      <th>0</th>\n",
       "      <td>0</td>\n",
       "      <td>first_pitch</td>\n",
       "      <td>0.350211</td>\n",
       "      <td>0.122363</td>\n",
       "      <td>0.037975</td>\n",
       "      <td>0.056259</td>\n",
       "      <td>0.433193</td>\n",
       "      <td>ball</td>\n",
       "      <td>b77ac3a4-673b-4644-b7fd-dcc720bca88b565de4be-d...</td>\n",
       "      <td>NaN</td>\n",
       "      <td>NaN</td>\n",
       "    </tr>\n",
       "    <tr>\n",
       "      <th>1</th>\n",
       "      <td>0</td>\n",
       "      <td>ball</td>\n",
       "      <td>0.322581</td>\n",
       "      <td>0.149194</td>\n",
       "      <td>0.060484</td>\n",
       "      <td>0.104839</td>\n",
       "      <td>0.362903</td>\n",
       "      <td>strike</td>\n",
       "      <td>b77ac3a4-673b-4644-b7fd-dcc720bca88b565de4be-d...</td>\n",
       "      <td>NaN</td>\n",
       "      <td>NaN</td>\n",
       "    </tr>\n",
       "    <tr>\n",
       "      <th>2</th>\n",
       "      <td>2</td>\n",
       "      <td>strike</td>\n",
       "      <td>0.344444</td>\n",
       "      <td>0.188889</td>\n",
       "      <td>0.066667</td>\n",
       "      <td>0.100000</td>\n",
       "      <td>0.300000</td>\n",
       "      <td>strike</td>\n",
       "      <td>b77ac3a4-673b-4644-b7fd-dcc720bca88b565de4be-d...</td>\n",
       "      <td>NaN</td>\n",
       "      <td>NaN</td>\n",
       "    </tr>\n",
       "    <tr>\n",
       "      <th>3</th>\n",
       "      <td>2</td>\n",
       "      <td>strike</td>\n",
       "      <td>0.348837</td>\n",
       "      <td>0.255814</td>\n",
       "      <td>0.116279</td>\n",
       "      <td>0.104651</td>\n",
       "      <td>NaN</td>\n",
       "      <td>contact_in_on_base</td>\n",
       "      <td>b77ac3a4-673b-4644-b7fd-dcc720bca88b565de4be-d...</td>\n",
       "      <td>0.174419</td>\n",
       "      <td>NaN</td>\n",
       "    </tr>\n",
       "    <tr>\n",
       "      <th>4</th>\n",
       "      <td>0</td>\n",
       "      <td>first_pitch</td>\n",
       "      <td>0.368347</td>\n",
       "      <td>0.107843</td>\n",
       "      <td>0.036415</td>\n",
       "      <td>0.079832</td>\n",
       "      <td>0.407563</td>\n",
       "      <td>strike</td>\n",
       "      <td>b7b37ed4-5752-4a4f-a581-d7312ed598aa565de4be-d...</td>\n",
       "      <td>NaN</td>\n",
       "      <td>NaN</td>\n",
       "    </tr>\n",
       "    <tr>\n",
       "      <th>5</th>\n",
       "      <td>1</td>\n",
       "      <td>strike</td>\n",
       "      <td>0.384880</td>\n",
       "      <td>0.230241</td>\n",
       "      <td>0.044674</td>\n",
       "      <td>0.120275</td>\n",
       "      <td>0.219931</td>\n",
       "      <td>ball</td>\n",
       "      <td>b7b37ed4-5752-4a4f-a581-d7312ed598aa565de4be-d...</td>\n",
       "      <td>NaN</td>\n",
       "      <td>NaN</td>\n",
       "    </tr>\n",
       "    <tr>\n",
       "      <th>6</th>\n",
       "      <td>0</td>\n",
       "      <td>ball</td>\n",
       "      <td>0.312057</td>\n",
       "      <td>0.234043</td>\n",
       "      <td>0.078014</td>\n",
       "      <td>0.127660</td>\n",
       "      <td>0.248227</td>\n",
       "      <td>contact_in_on_base</td>\n",
       "      <td>b7b37ed4-5752-4a4f-a581-d7312ed598aa565de4be-d...</td>\n",
       "      <td>NaN</td>\n",
       "      <td>NaN</td>\n",
       "    </tr>\n",
       "    <tr>\n",
       "      <th>7</th>\n",
       "      <td>0</td>\n",
       "      <td>first_pitch</td>\n",
       "      <td>0.370044</td>\n",
       "      <td>0.104626</td>\n",
       "      <td>0.048458</td>\n",
       "      <td>0.089207</td>\n",
       "      <td>0.387665</td>\n",
       "      <td>strike</td>\n",
       "      <td>b7b712f2-35a6-4802-8289-4f14af92d13c565de4be-d...</td>\n",
       "      <td>NaN</td>\n",
       "      <td>NaN</td>\n",
       "    </tr>\n",
       "    <tr>\n",
       "      <th>8</th>\n",
       "      <td>1</td>\n",
       "      <td>strike</td>\n",
       "      <td>0.474432</td>\n",
       "      <td>0.167614</td>\n",
       "      <td>0.056818</td>\n",
       "      <td>0.102273</td>\n",
       "      <td>0.198864</td>\n",
       "      <td>ball</td>\n",
       "      <td>b7b712f2-35a6-4802-8289-4f14af92d13c565de4be-d...</td>\n",
       "      <td>NaN</td>\n",
       "      <td>NaN</td>\n",
       "    </tr>\n",
       "    <tr>\n",
       "      <th>9</th>\n",
       "      <td>0</td>\n",
       "      <td>ball</td>\n",
       "      <td>0.328431</td>\n",
       "      <td>0.210784</td>\n",
       "      <td>0.053922</td>\n",
       "      <td>0.186275</td>\n",
       "      <td>0.220588</td>\n",
       "      <td>ball</td>\n",
       "      <td>b7b712f2-35a6-4802-8289-4f14af92d13c565de4be-d...</td>\n",
       "      <td>NaN</td>\n",
       "      <td>NaN</td>\n",
       "    </tr>\n",
       "    <tr>\n",
       "      <th>10</th>\n",
       "      <td>0</td>\n",
       "      <td>ball</td>\n",
       "      <td>0.234783</td>\n",
       "      <td>0.252174</td>\n",
       "      <td>0.095652</td>\n",
       "      <td>0.208696</td>\n",
       "      <td>0.208696</td>\n",
       "      <td>ball</td>\n",
       "      <td>b7b712f2-35a6-4802-8289-4f14af92d13c565de4be-d...</td>\n",
       "      <td>NaN</td>\n",
       "      <td>NaN</td>\n",
       "    </tr>\n",
       "    <tr>\n",
       "      <th>11</th>\n",
       "      <td>0</td>\n",
       "      <td>ball</td>\n",
       "      <td>NaN</td>\n",
       "      <td>0.382353</td>\n",
       "      <td>0.088235</td>\n",
       "      <td>0.294118</td>\n",
       "      <td>0.147059</td>\n",
       "      <td>contact_foul</td>\n",
       "      <td>b7b712f2-35a6-4802-8289-4f14af92d13c565de4be-d...</td>\n",
       "      <td>NaN</td>\n",
       "      <td>0.088235</td>\n",
       "    </tr>\n",
       "    <tr>\n",
       "      <th>12</th>\n",
       "      <td>1</td>\n",
       "      <td>contact_foul</td>\n",
       "      <td>NaN</td>\n",
       "      <td>0.285714</td>\n",
       "      <td>0.107143</td>\n",
       "      <td>0.285714</td>\n",
       "      <td>NaN</td>\n",
       "      <td>contact_in_play_out</td>\n",
       "      <td>b7b712f2-35a6-4802-8289-4f14af92d13c565de4be-d...</td>\n",
       "      <td>0.107143</td>\n",
       "      <td>0.214286</td>\n",
       "    </tr>\n",
       "    <tr>\n",
       "      <th>13</th>\n",
       "      <td>0</td>\n",
       "      <td>first_pitch</td>\n",
       "      <td>0.356589</td>\n",
       "      <td>0.056848</td>\n",
       "      <td>0.038760</td>\n",
       "      <td>0.062016</td>\n",
       "      <td>0.485788</td>\n",
       "      <td>ball</td>\n",
       "      <td>b7ef4277-3d26-4700-a62f-02bee1b05fb0565de4be-d...</td>\n",
       "      <td>NaN</td>\n",
       "      <td>NaN</td>\n",
       "    </tr>\n",
       "    <tr>\n",
       "      <th>14</th>\n",
       "      <td>0</td>\n",
       "      <td>ball</td>\n",
       "      <td>0.311594</td>\n",
       "      <td>0.159420</td>\n",
       "      <td>0.094203</td>\n",
       "      <td>0.079710</td>\n",
       "      <td>0.355072</td>\n",
       "      <td>strike</td>\n",
       "      <td>b7ef4277-3d26-4700-a62f-02bee1b05fb0565de4be-d...</td>\n",
       "      <td>NaN</td>\n",
       "      <td>NaN</td>\n",
       "    </tr>\n",
       "    <tr>\n",
       "      <th>15</th>\n",
       "      <td>2</td>\n",
       "      <td>strike</td>\n",
       "      <td>0.346939</td>\n",
       "      <td>0.142857</td>\n",
       "      <td>0.061224</td>\n",
       "      <td>0.163265</td>\n",
       "      <td>0.285714</td>\n",
       "      <td>contact_in_play_out</td>\n",
       "      <td>b7ef4277-3d26-4700-a62f-02bee1b05fb0565de4be-d...</td>\n",
       "      <td>NaN</td>\n",
       "      <td>NaN</td>\n",
       "    </tr>\n",
       "    <tr>\n",
       "      <th>16</th>\n",
       "      <td>0</td>\n",
       "      <td>first_pitch</td>\n",
       "      <td>0.400248</td>\n",
       "      <td>0.059480</td>\n",
       "      <td>0.026022</td>\n",
       "      <td>0.044610</td>\n",
       "      <td>0.469641</td>\n",
       "      <td>ball</td>\n",
       "      <td>b7ef4277-3d26-4700-a62f-02bee1b05fb0565de4be-d...</td>\n",
       "      <td>NaN</td>\n",
       "      <td>NaN</td>\n",
       "    </tr>\n",
       "    <tr>\n",
       "      <th>17</th>\n",
       "      <td>0</td>\n",
       "      <td>ball</td>\n",
       "      <td>0.401840</td>\n",
       "      <td>0.101227</td>\n",
       "      <td>0.036810</td>\n",
       "      <td>0.052147</td>\n",
       "      <td>0.407975</td>\n",
       "      <td>strike</td>\n",
       "      <td>b7ef4277-3d26-4700-a62f-02bee1b05fb0565de4be-d...</td>\n",
       "      <td>NaN</td>\n",
       "      <td>NaN</td>\n",
       "    </tr>\n",
       "    <tr>\n",
       "      <th>18</th>\n",
       "      <td>2</td>\n",
       "      <td>strike</td>\n",
       "      <td>0.353383</td>\n",
       "      <td>0.142857</td>\n",
       "      <td>0.067669</td>\n",
       "      <td>0.142857</td>\n",
       "      <td>0.293233</td>\n",
       "      <td>contact_in_play_out</td>\n",
       "      <td>b7ef4277-3d26-4700-a62f-02bee1b05fb0565de4be-d...</td>\n",
       "      <td>NaN</td>\n",
       "      <td>NaN</td>\n",
       "    </tr>\n",
       "    <tr>\n",
       "      <th>19</th>\n",
       "      <td>0</td>\n",
       "      <td>first_pitch</td>\n",
       "      <td>0.392079</td>\n",
       "      <td>0.114851</td>\n",
       "      <td>0.041584</td>\n",
       "      <td>0.091089</td>\n",
       "      <td>0.360396</td>\n",
       "      <td>strike</td>\n",
       "      <td>b7f9f9c6-8319-48aa-8a1e-161e13ef81b7565de4be-d...</td>\n",
       "      <td>NaN</td>\n",
       "      <td>NaN</td>\n",
       "    </tr>\n",
       "    <tr>\n",
       "      <th>20</th>\n",
       "      <td>1</td>\n",
       "      <td>strike</td>\n",
       "      <td>0.379121</td>\n",
       "      <td>0.203297</td>\n",
       "      <td>0.043956</td>\n",
       "      <td>0.153846</td>\n",
       "      <td>0.219780</td>\n",
       "      <td>strike</td>\n",
       "      <td>b7f9f9c6-8319-48aa-8a1e-161e13ef81b7565de4be-d...</td>\n",
       "      <td>NaN</td>\n",
       "      <td>NaN</td>\n",
       "    </tr>\n",
       "    <tr>\n",
       "      <th>21</th>\n",
       "      <td>1</td>\n",
       "      <td>strike</td>\n",
       "      <td>0.480769</td>\n",
       "      <td>0.230769</td>\n",
       "      <td>0.019231</td>\n",
       "      <td>0.115385</td>\n",
       "      <td>NaN</td>\n",
       "      <td>ball</td>\n",
       "      <td>b7f9f9c6-8319-48aa-8a1e-161e13ef81b7565de4be-d...</td>\n",
       "      <td>0.153846</td>\n",
       "      <td>NaN</td>\n",
       "    </tr>\n",
       "    <tr>\n",
       "      <th>22</th>\n",
       "      <td>0</td>\n",
       "      <td>ball</td>\n",
       "      <td>0.233333</td>\n",
       "      <td>0.283333</td>\n",
       "      <td>0.016667</td>\n",
       "      <td>0.200000</td>\n",
       "      <td>NaN</td>\n",
       "      <td>contact_foul</td>\n",
       "      <td>b7f9f9c6-8319-48aa-8a1e-161e13ef81b7565de4be-d...</td>\n",
       "      <td>0.266667</td>\n",
       "      <td>NaN</td>\n",
       "    </tr>\n",
       "    <tr>\n",
       "      <th>23</th>\n",
       "      <td>1</td>\n",
       "      <td>contact_foul</td>\n",
       "      <td>0.313953</td>\n",
       "      <td>0.174419</td>\n",
       "      <td>0.093023</td>\n",
       "      <td>0.151163</td>\n",
       "      <td>NaN</td>\n",
       "      <td>strikeout</td>\n",
       "      <td>b7f9f9c6-8319-48aa-8a1e-161e13ef81b7565de4be-d...</td>\n",
       "      <td>0.267442</td>\n",
       "      <td>NaN</td>\n",
       "    </tr>\n",
       "    <tr>\n",
       "      <th>24</th>\n",
       "      <td>0</td>\n",
       "      <td>first_pitch</td>\n",
       "      <td>0.402597</td>\n",
       "      <td>0.093074</td>\n",
       "      <td>0.056277</td>\n",
       "      <td>0.097403</td>\n",
       "      <td>0.350649</td>\n",
       "      <td>ball</td>\n",
       "      <td>b801be43-915d-4130-a8ca-4857b4840e32565de4be-d...</td>\n",
       "      <td>NaN</td>\n",
       "      <td>NaN</td>\n",
       "    </tr>\n",
       "    <tr>\n",
       "      <th>25</th>\n",
       "      <td>0</td>\n",
       "      <td>ball</td>\n",
       "      <td>0.311828</td>\n",
       "      <td>0.193548</td>\n",
       "      <td>0.096774</td>\n",
       "      <td>0.134409</td>\n",
       "      <td>0.263441</td>\n",
       "      <td>ball</td>\n",
       "      <td>b801be43-915d-4130-a8ca-4857b4840e32565de4be-d...</td>\n",
       "      <td>NaN</td>\n",
       "      <td>NaN</td>\n",
       "    </tr>\n",
       "    <tr>\n",
       "      <th>26</th>\n",
       "      <td>0</td>\n",
       "      <td>ball</td>\n",
       "      <td>0.275862</td>\n",
       "      <td>0.155172</td>\n",
       "      <td>0.120690</td>\n",
       "      <td>0.189655</td>\n",
       "      <td>0.258621</td>\n",
       "      <td>ball</td>\n",
       "      <td>b801be43-915d-4130-a8ca-4857b4840e32565de4be-d...</td>\n",
       "      <td>NaN</td>\n",
       "      <td>NaN</td>\n",
       "    </tr>\n",
       "    <tr>\n",
       "      <th>27</th>\n",
       "      <td>0</td>\n",
       "      <td>ball</td>\n",
       "      <td>NaN</td>\n",
       "      <td>NaN</td>\n",
       "      <td>NaN</td>\n",
       "      <td>NaN</td>\n",
       "      <td>0.500000</td>\n",
       "      <td>strike</td>\n",
       "      <td>b801be43-915d-4130-a8ca-4857b4840e32565de4be-d...</td>\n",
       "      <td>NaN</td>\n",
       "      <td>0.500000</td>\n",
       "    </tr>\n",
       "    <tr>\n",
       "      <th>28</th>\n",
       "      <td>1</td>\n",
       "      <td>strike</td>\n",
       "      <td>NaN</td>\n",
       "      <td>0.125000</td>\n",
       "      <td>0.000000</td>\n",
       "      <td>0.375000</td>\n",
       "      <td>0.375000</td>\n",
       "      <td>contact_in_play_out</td>\n",
       "      <td>b801be43-915d-4130-a8ca-4857b4840e32565de4be-d...</td>\n",
       "      <td>NaN</td>\n",
       "      <td>0.125000</td>\n",
       "    </tr>\n",
       "    <tr>\n",
       "      <th>29</th>\n",
       "      <td>0</td>\n",
       "      <td>first_pitch</td>\n",
       "      <td>0.391667</td>\n",
       "      <td>0.102778</td>\n",
       "      <td>0.061111</td>\n",
       "      <td>0.055556</td>\n",
       "      <td>0.388889</td>\n",
       "      <td>strike</td>\n",
       "      <td>b82a5660-0f67-4c1c-b11d-a2f6d89e5cb1565de4be-d...</td>\n",
       "      <td>NaN</td>\n",
       "      <td>NaN</td>\n",
       "    </tr>\n",
       "    <tr>\n",
       "      <th>30</th>\n",
       "      <td>1</td>\n",
       "      <td>strike</td>\n",
       "      <td>0.397163</td>\n",
       "      <td>0.170213</td>\n",
       "      <td>0.070922</td>\n",
       "      <td>0.106383</td>\n",
       "      <td>0.255319</td>\n",
       "      <td>ball</td>\n",
       "      <td>b82a5660-0f67-4c1c-b11d-a2f6d89e5cb1565de4be-d...</td>\n",
       "      <td>NaN</td>\n",
       "      <td>NaN</td>\n",
       "    </tr>\n",
       "    <tr>\n",
       "      <th>31</th>\n",
       "      <td>0</td>\n",
       "      <td>ball</td>\n",
       "      <td>0.346821</td>\n",
       "      <td>0.219653</td>\n",
       "      <td>0.063584</td>\n",
       "      <td>0.115607</td>\n",
       "      <td>0.254335</td>\n",
       "      <td>ball</td>\n",
       "      <td>b82a5660-0f67-4c1c-b11d-a2f6d89e5cb1565de4be-d...</td>\n",
       "      <td>NaN</td>\n",
       "      <td>NaN</td>\n",
       "    </tr>\n",
       "    <tr>\n",
       "      <th>32</th>\n",
       "      <td>0</td>\n",
       "      <td>ball</td>\n",
       "      <td>0.333333</td>\n",
       "      <td>0.250000</td>\n",
       "      <td>0.064815</td>\n",
       "      <td>0.101852</td>\n",
       "      <td>0.250000</td>\n",
       "      <td>contact_foul</td>\n",
       "      <td>b82a5660-0f67-4c1c-b11d-a2f6d89e5cb1565de4be-d...</td>\n",
       "      <td>NaN</td>\n",
       "      <td>NaN</td>\n",
       "    </tr>\n",
       "    <tr>\n",
       "      <th>33</th>\n",
       "      <td>1</td>\n",
       "      <td>contact_foul</td>\n",
       "      <td>0.190476</td>\n",
       "      <td>0.250000</td>\n",
       "      <td>0.095238</td>\n",
       "      <td>0.202381</td>\n",
       "      <td>NaN</td>\n",
       "      <td>contact_foul</td>\n",
       "      <td>b82a5660-0f67-4c1c-b11d-a2f6d89e5cb1565de4be-d...</td>\n",
       "      <td>0.261905</td>\n",
       "      <td>NaN</td>\n",
       "    </tr>\n",
       "    <tr>\n",
       "      <th>34</th>\n",
       "      <td>1</td>\n",
       "      <td>contact_foul</td>\n",
       "      <td>0.190476</td>\n",
       "      <td>0.250000</td>\n",
       "      <td>0.095238</td>\n",
       "      <td>0.202381</td>\n",
       "      <td>NaN</td>\n",
       "      <td>strikeout</td>\n",
       "      <td>b82a5660-0f67-4c1c-b11d-a2f6d89e5cb1565de4be-d...</td>\n",
       "      <td>0.261905</td>\n",
       "      <td>NaN</td>\n",
       "    </tr>\n",
       "    <tr>\n",
       "      <th>35</th>\n",
       "      <td>0</td>\n",
       "      <td>first_pitch</td>\n",
       "      <td>0.433511</td>\n",
       "      <td>0.074468</td>\n",
       "      <td>0.029255</td>\n",
       "      <td>0.063830</td>\n",
       "      <td>0.398936</td>\n",
       "      <td>ball</td>\n",
       "      <td>b8596d02-2072-4299-94c2-ee01e4703d6f565de4be-d...</td>\n",
       "      <td>NaN</td>\n",
       "      <td>NaN</td>\n",
       "    </tr>\n",
       "    <tr>\n",
       "      <th>36</th>\n",
       "      <td>0</td>\n",
       "      <td>ball</td>\n",
       "      <td>0.363077</td>\n",
       "      <td>0.150769</td>\n",
       "      <td>0.043077</td>\n",
       "      <td>0.101538</td>\n",
       "      <td>0.341538</td>\n",
       "      <td>contact_foul</td>\n",
       "      <td>b8596d02-2072-4299-94c2-ee01e4703d6f565de4be-d...</td>\n",
       "      <td>NaN</td>\n",
       "      <td>NaN</td>\n",
       "    </tr>\n",
       "    <tr>\n",
       "      <th>37</th>\n",
       "      <td>1</td>\n",
       "      <td>contact_foul</td>\n",
       "      <td>0.448980</td>\n",
       "      <td>0.183673</td>\n",
       "      <td>0.061224</td>\n",
       "      <td>0.142857</td>\n",
       "      <td>0.163265</td>\n",
       "      <td>ball</td>\n",
       "      <td>b8596d02-2072-4299-94c2-ee01e4703d6f565de4be-d...</td>\n",
       "      <td>NaN</td>\n",
       "      <td>NaN</td>\n",
       "    </tr>\n",
       "    <tr>\n",
       "      <th>38</th>\n",
       "      <td>0</td>\n",
       "      <td>ball</td>\n",
       "      <td>0.303571</td>\n",
       "      <td>0.250000</td>\n",
       "      <td>0.080357</td>\n",
       "      <td>0.178571</td>\n",
       "      <td>0.187500</td>\n",
       "      <td>strike</td>\n",
       "      <td>b8596d02-2072-4299-94c2-ee01e4703d6f565de4be-d...</td>\n",
       "      <td>NaN</td>\n",
       "      <td>NaN</td>\n",
       "    </tr>\n",
       "    <tr>\n",
       "      <th>39</th>\n",
       "      <td>2</td>\n",
       "      <td>strike</td>\n",
       "      <td>0.281250</td>\n",
       "      <td>0.343750</td>\n",
       "      <td>0.093750</td>\n",
       "      <td>0.125000</td>\n",
       "      <td>NaN</td>\n",
       "      <td>contact_foul</td>\n",
       "      <td>b8596d02-2072-4299-94c2-ee01e4703d6f565de4be-d...</td>\n",
       "      <td>0.156250</td>\n",
       "      <td>NaN</td>\n",
       "    </tr>\n",
       "    <tr>\n",
       "      <th>40</th>\n",
       "      <td>1</td>\n",
       "      <td>contact_foul</td>\n",
       "      <td>0.296296</td>\n",
       "      <td>0.259259</td>\n",
       "      <td>0.046296</td>\n",
       "      <td>0.194444</td>\n",
       "      <td>NaN</td>\n",
       "      <td>ball</td>\n",
       "      <td>b8596d02-2072-4299-94c2-ee01e4703d6f565de4be-d...</td>\n",
       "      <td>0.203704</td>\n",
       "      <td>NaN</td>\n",
       "    </tr>\n",
       "    <tr>\n",
       "      <th>41</th>\n",
       "      <td>0</td>\n",
       "      <td>ball</td>\n",
       "      <td>NaN</td>\n",
       "      <td>0.281250</td>\n",
       "      <td>0.140625</td>\n",
       "      <td>0.156250</td>\n",
       "      <td>NaN</td>\n",
       "      <td>contact_in_on_base</td>\n",
       "      <td>b8596d02-2072-4299-94c2-ee01e4703d6f565de4be-d...</td>\n",
       "      <td>0.109375</td>\n",
       "      <td>0.312500</td>\n",
       "    </tr>\n",
       "    <tr>\n",
       "      <th>42</th>\n",
       "      <td>0</td>\n",
       "      <td>first_pitch</td>\n",
       "      <td>0.408627</td>\n",
       "      <td>0.112941</td>\n",
       "      <td>0.044706</td>\n",
       "      <td>0.070588</td>\n",
       "      <td>0.363137</td>\n",
       "      <td>contact_foul</td>\n",
       "      <td>b87ee9cf-f092-4b5b-b24b-20d775e2584f565de4be-d...</td>\n",
       "      <td>NaN</td>\n",
       "      <td>NaN</td>\n",
       "    </tr>\n",
       "    <tr>\n",
       "      <th>43</th>\n",
       "      <td>0</td>\n",
       "      <td>contact_foul</td>\n",
       "      <td>0.381944</td>\n",
       "      <td>0.201389</td>\n",
       "      <td>0.041667</td>\n",
       "      <td>0.166667</td>\n",
       "      <td>0.208333</td>\n",
       "      <td>ball</td>\n",
       "      <td>b87ee9cf-f092-4b5b-b24b-20d775e2584f565de4be-d...</td>\n",
       "      <td>NaN</td>\n",
       "      <td>NaN</td>\n",
       "    </tr>\n",
       "    <tr>\n",
       "      <th>44</th>\n",
       "      <td>0</td>\n",
       "      <td>ball</td>\n",
       "      <td>0.294372</td>\n",
       "      <td>0.203463</td>\n",
       "      <td>0.125541</td>\n",
       "      <td>0.147186</td>\n",
       "      <td>0.229437</td>\n",
       "      <td>contact_foul</td>\n",
       "      <td>b87ee9cf-f092-4b5b-b24b-20d775e2584f565de4be-d...</td>\n",
       "      <td>NaN</td>\n",
       "      <td>NaN</td>\n",
       "    </tr>\n",
       "    <tr>\n",
       "      <th>45</th>\n",
       "      <td>1</td>\n",
       "      <td>contact_foul</td>\n",
       "      <td>0.343915</td>\n",
       "      <td>0.259259</td>\n",
       "      <td>0.105820</td>\n",
       "      <td>0.169312</td>\n",
       "      <td>NaN</td>\n",
       "      <td>ball</td>\n",
       "      <td>b87ee9cf-f092-4b5b-b24b-20d775e2584f565de4be-d...</td>\n",
       "      <td>0.121693</td>\n",
       "      <td>NaN</td>\n",
       "    </tr>\n",
       "    <tr>\n",
       "      <th>46</th>\n",
       "      <td>0</td>\n",
       "      <td>ball</td>\n",
       "      <td>0.263566</td>\n",
       "      <td>0.279070</td>\n",
       "      <td>0.100775</td>\n",
       "      <td>0.193798</td>\n",
       "      <td>NaN</td>\n",
       "      <td>strikeout</td>\n",
       "      <td>b87ee9cf-f092-4b5b-b24b-20d775e2584f565de4be-d...</td>\n",
       "      <td>0.162791</td>\n",
       "      <td>NaN</td>\n",
       "    </tr>\n",
       "    <tr>\n",
       "      <th>47</th>\n",
       "      <td>0</td>\n",
       "      <td>first_pitch</td>\n",
       "      <td>0.379023</td>\n",
       "      <td>0.115614</td>\n",
       "      <td>0.038141</td>\n",
       "      <td>0.087008</td>\n",
       "      <td>0.380215</td>\n",
       "      <td>strike</td>\n",
       "      <td>b8a29e47-684a-445f-bf00-f1dca2e482af565de4be-d...</td>\n",
       "      <td>NaN</td>\n",
       "      <td>NaN</td>\n",
       "    </tr>\n",
       "    <tr>\n",
       "      <th>48</th>\n",
       "      <td>1</td>\n",
       "      <td>strike</td>\n",
       "      <td>0.432602</td>\n",
       "      <td>0.188088</td>\n",
       "      <td>0.034483</td>\n",
       "      <td>0.100313</td>\n",
       "      <td>0.244514</td>\n",
       "      <td>contact_foul</td>\n",
       "      <td>b8a29e47-684a-445f-bf00-f1dca2e482af565de4be-d...</td>\n",
       "      <td>NaN</td>\n",
       "      <td>NaN</td>\n",
       "    </tr>\n",
       "    <tr>\n",
       "      <th>49</th>\n",
       "      <td>0</td>\n",
       "      <td>contact_foul</td>\n",
       "      <td>0.423729</td>\n",
       "      <td>0.127119</td>\n",
       "      <td>0.084746</td>\n",
       "      <td>0.161017</td>\n",
       "      <td>NaN</td>\n",
       "      <td>ball</td>\n",
       "      <td>b8a29e47-684a-445f-bf00-f1dca2e482af565de4be-d...</td>\n",
       "      <td>0.203390</td>\n",
       "      <td>NaN</td>\n",
       "    </tr>\n",
       "  </tbody>\n",
       "</table>\n",
       "</div>"
      ],
      "text/plain": [
       "    Unnamed: 0 previous_play      ball  contact_foul  contact_in_on_base  contact_in_play_out    strike       actual_outcome                                           pitch_id  strikeout      walk\n",
       "0            0   first_pitch  0.350211      0.122363            0.037975             0.056259  0.433193                 ball  b77ac3a4-673b-4644-b7fd-dcc720bca88b565de4be-d...        NaN       NaN\n",
       "1            0          ball  0.322581      0.149194            0.060484             0.104839  0.362903               strike  b77ac3a4-673b-4644-b7fd-dcc720bca88b565de4be-d...        NaN       NaN\n",
       "2            2        strike  0.344444      0.188889            0.066667             0.100000  0.300000               strike  b77ac3a4-673b-4644-b7fd-dcc720bca88b565de4be-d...        NaN       NaN\n",
       "3            2        strike  0.348837      0.255814            0.116279             0.104651       NaN   contact_in_on_base  b77ac3a4-673b-4644-b7fd-dcc720bca88b565de4be-d...   0.174419       NaN\n",
       "4            0   first_pitch  0.368347      0.107843            0.036415             0.079832  0.407563               strike  b7b37ed4-5752-4a4f-a581-d7312ed598aa565de4be-d...        NaN       NaN\n",
       "5            1        strike  0.384880      0.230241            0.044674             0.120275  0.219931                 ball  b7b37ed4-5752-4a4f-a581-d7312ed598aa565de4be-d...        NaN       NaN\n",
       "6            0          ball  0.312057      0.234043            0.078014             0.127660  0.248227   contact_in_on_base  b7b37ed4-5752-4a4f-a581-d7312ed598aa565de4be-d...        NaN       NaN\n",
       "7            0   first_pitch  0.370044      0.104626            0.048458             0.089207  0.387665               strike  b7b712f2-35a6-4802-8289-4f14af92d13c565de4be-d...        NaN       NaN\n",
       "8            1        strike  0.474432      0.167614            0.056818             0.102273  0.198864                 ball  b7b712f2-35a6-4802-8289-4f14af92d13c565de4be-d...        NaN       NaN\n",
       "9            0          ball  0.328431      0.210784            0.053922             0.186275  0.220588                 ball  b7b712f2-35a6-4802-8289-4f14af92d13c565de4be-d...        NaN       NaN\n",
       "10           0          ball  0.234783      0.252174            0.095652             0.208696  0.208696                 ball  b7b712f2-35a6-4802-8289-4f14af92d13c565de4be-d...        NaN       NaN\n",
       "11           0          ball       NaN      0.382353            0.088235             0.294118  0.147059         contact_foul  b7b712f2-35a6-4802-8289-4f14af92d13c565de4be-d...        NaN  0.088235\n",
       "12           1  contact_foul       NaN      0.285714            0.107143             0.285714       NaN  contact_in_play_out  b7b712f2-35a6-4802-8289-4f14af92d13c565de4be-d...   0.107143  0.214286\n",
       "13           0   first_pitch  0.356589      0.056848            0.038760             0.062016  0.485788                 ball  b7ef4277-3d26-4700-a62f-02bee1b05fb0565de4be-d...        NaN       NaN\n",
       "14           0          ball  0.311594      0.159420            0.094203             0.079710  0.355072               strike  b7ef4277-3d26-4700-a62f-02bee1b05fb0565de4be-d...        NaN       NaN\n",
       "15           2        strike  0.346939      0.142857            0.061224             0.163265  0.285714  contact_in_play_out  b7ef4277-3d26-4700-a62f-02bee1b05fb0565de4be-d...        NaN       NaN\n",
       "16           0   first_pitch  0.400248      0.059480            0.026022             0.044610  0.469641                 ball  b7ef4277-3d26-4700-a62f-02bee1b05fb0565de4be-d...        NaN       NaN\n",
       "17           0          ball  0.401840      0.101227            0.036810             0.052147  0.407975               strike  b7ef4277-3d26-4700-a62f-02bee1b05fb0565de4be-d...        NaN       NaN\n",
       "18           2        strike  0.353383      0.142857            0.067669             0.142857  0.293233  contact_in_play_out  b7ef4277-3d26-4700-a62f-02bee1b05fb0565de4be-d...        NaN       NaN\n",
       "19           0   first_pitch  0.392079      0.114851            0.041584             0.091089  0.360396               strike  b7f9f9c6-8319-48aa-8a1e-161e13ef81b7565de4be-d...        NaN       NaN\n",
       "20           1        strike  0.379121      0.203297            0.043956             0.153846  0.219780               strike  b7f9f9c6-8319-48aa-8a1e-161e13ef81b7565de4be-d...        NaN       NaN\n",
       "21           1        strike  0.480769      0.230769            0.019231             0.115385       NaN                 ball  b7f9f9c6-8319-48aa-8a1e-161e13ef81b7565de4be-d...   0.153846       NaN\n",
       "22           0          ball  0.233333      0.283333            0.016667             0.200000       NaN         contact_foul  b7f9f9c6-8319-48aa-8a1e-161e13ef81b7565de4be-d...   0.266667       NaN\n",
       "23           1  contact_foul  0.313953      0.174419            0.093023             0.151163       NaN            strikeout  b7f9f9c6-8319-48aa-8a1e-161e13ef81b7565de4be-d...   0.267442       NaN\n",
       "24           0   first_pitch  0.402597      0.093074            0.056277             0.097403  0.350649                 ball  b801be43-915d-4130-a8ca-4857b4840e32565de4be-d...        NaN       NaN\n",
       "25           0          ball  0.311828      0.193548            0.096774             0.134409  0.263441                 ball  b801be43-915d-4130-a8ca-4857b4840e32565de4be-d...        NaN       NaN\n",
       "26           0          ball  0.275862      0.155172            0.120690             0.189655  0.258621                 ball  b801be43-915d-4130-a8ca-4857b4840e32565de4be-d...        NaN       NaN\n",
       "27           0          ball       NaN           NaN                 NaN                  NaN  0.500000               strike  b801be43-915d-4130-a8ca-4857b4840e32565de4be-d...        NaN  0.500000\n",
       "28           1        strike       NaN      0.125000            0.000000             0.375000  0.375000  contact_in_play_out  b801be43-915d-4130-a8ca-4857b4840e32565de4be-d...        NaN  0.125000\n",
       "29           0   first_pitch  0.391667      0.102778            0.061111             0.055556  0.388889               strike  b82a5660-0f67-4c1c-b11d-a2f6d89e5cb1565de4be-d...        NaN       NaN\n",
       "30           1        strike  0.397163      0.170213            0.070922             0.106383  0.255319                 ball  b82a5660-0f67-4c1c-b11d-a2f6d89e5cb1565de4be-d...        NaN       NaN\n",
       "31           0          ball  0.346821      0.219653            0.063584             0.115607  0.254335                 ball  b82a5660-0f67-4c1c-b11d-a2f6d89e5cb1565de4be-d...        NaN       NaN\n",
       "32           0          ball  0.333333      0.250000            0.064815             0.101852  0.250000         contact_foul  b82a5660-0f67-4c1c-b11d-a2f6d89e5cb1565de4be-d...        NaN       NaN\n",
       "33           1  contact_foul  0.190476      0.250000            0.095238             0.202381       NaN         contact_foul  b82a5660-0f67-4c1c-b11d-a2f6d89e5cb1565de4be-d...   0.261905       NaN\n",
       "34           1  contact_foul  0.190476      0.250000            0.095238             0.202381       NaN            strikeout  b82a5660-0f67-4c1c-b11d-a2f6d89e5cb1565de4be-d...   0.261905       NaN\n",
       "35           0   first_pitch  0.433511      0.074468            0.029255             0.063830  0.398936                 ball  b8596d02-2072-4299-94c2-ee01e4703d6f565de4be-d...        NaN       NaN\n",
       "36           0          ball  0.363077      0.150769            0.043077             0.101538  0.341538         contact_foul  b8596d02-2072-4299-94c2-ee01e4703d6f565de4be-d...        NaN       NaN\n",
       "37           1  contact_foul  0.448980      0.183673            0.061224             0.142857  0.163265                 ball  b8596d02-2072-4299-94c2-ee01e4703d6f565de4be-d...        NaN       NaN\n",
       "38           0          ball  0.303571      0.250000            0.080357             0.178571  0.187500               strike  b8596d02-2072-4299-94c2-ee01e4703d6f565de4be-d...        NaN       NaN\n",
       "39           2        strike  0.281250      0.343750            0.093750             0.125000       NaN         contact_foul  b8596d02-2072-4299-94c2-ee01e4703d6f565de4be-d...   0.156250       NaN\n",
       "40           1  contact_foul  0.296296      0.259259            0.046296             0.194444       NaN                 ball  b8596d02-2072-4299-94c2-ee01e4703d6f565de4be-d...   0.203704       NaN\n",
       "41           0          ball       NaN      0.281250            0.140625             0.156250       NaN   contact_in_on_base  b8596d02-2072-4299-94c2-ee01e4703d6f565de4be-d...   0.109375  0.312500\n",
       "42           0   first_pitch  0.408627      0.112941            0.044706             0.070588  0.363137         contact_foul  b87ee9cf-f092-4b5b-b24b-20d775e2584f565de4be-d...        NaN       NaN\n",
       "43           0  contact_foul  0.381944      0.201389            0.041667             0.166667  0.208333                 ball  b87ee9cf-f092-4b5b-b24b-20d775e2584f565de4be-d...        NaN       NaN\n",
       "44           0          ball  0.294372      0.203463            0.125541             0.147186  0.229437         contact_foul  b87ee9cf-f092-4b5b-b24b-20d775e2584f565de4be-d...        NaN       NaN\n",
       "45           1  contact_foul  0.343915      0.259259            0.105820             0.169312       NaN                 ball  b87ee9cf-f092-4b5b-b24b-20d775e2584f565de4be-d...   0.121693       NaN\n",
       "46           0          ball  0.263566      0.279070            0.100775             0.193798       NaN            strikeout  b87ee9cf-f092-4b5b-b24b-20d775e2584f565de4be-d...   0.162791       NaN\n",
       "47           0   first_pitch  0.379023      0.115614            0.038141             0.087008  0.380215               strike  b8a29e47-684a-445f-bf00-f1dca2e482af565de4be-d...        NaN       NaN\n",
       "48           1        strike  0.432602      0.188088            0.034483             0.100313  0.244514         contact_foul  b8a29e47-684a-445f-bf00-f1dca2e482af565de4be-d...        NaN       NaN\n",
       "49           0  contact_foul  0.423729      0.127119            0.084746             0.161017       NaN                 ball  b8a29e47-684a-445f-bf00-f1dca2e482af565de4be-d...   0.203390       NaN"
      ]
     },
     "execution_count": 41,
     "metadata": {},
     "output_type": "execute_result"
    }
   ],
   "source": [
    "results_df.head(50)"
   ]
  },
  {
   "cell_type": "markdown",
   "metadata": {},
   "source": [
    "### Simulate for a couple random at bats to show how process words"
   ]
  },
  {
   "cell_type": "code",
   "execution_count": 45,
   "metadata": {},
   "outputs": [],
   "source": [
    "# choose 20000 random at-bats\n",
    "r_bat_id = random.randint(0, len(clean_df['bat_id'].unique()))\n",
    "n = 5\n",
    "test_bat_ids = clean_df['bat_id'].unique()[r_bat_id:r_bat_id+n]"
   ]
  },
  {
   "cell_type": "code",
   "execution_count": 47,
   "metadata": {
    "scrolled": false
   },
   "outputs": [
    {
     "name": "stdout",
     "output_type": "stream",
     "text": [
      "The hitter is: Brian_McCann\n",
      "The pitcher is: Brad_Ziegler\n",
      "The count is 0-0\n"
     ]
    },
    {
     "name": "stderr",
     "output_type": "stream",
     "text": [
      "/usr/local/lib/python3.7/site-packages/ipykernel_launcher.py:15: FutureWarning: Dropping of nuisance columns in DataFrame reductions (with 'numeric_only=None') is deprecated; in a future version this will raise TypeError.  Select only valid columns before calling the reduction.\n",
      "  from ipykernel import kernelapp as app\n"
     ]
    },
    {
     "data": {
      "text/plain": [
       "'Hitter Matrix '"
      ]
     },
     "metadata": {},
     "output_type": "display_data"
    },
    {
     "data": {
      "text/html": [
       "<div>\n",
       "<style scoped>\n",
       "    .dataframe tbody tr th:only-of-type {\n",
       "        vertical-align: middle;\n",
       "    }\n",
       "\n",
       "    .dataframe tbody tr th {\n",
       "        vertical-align: top;\n",
       "    }\n",
       "\n",
       "    .dataframe thead th {\n",
       "        text-align: right;\n",
       "    }\n",
       "</style>\n",
       "<table border=\"1\" class=\"dataframe\">\n",
       "  <thead>\n",
       "    <tr style=\"text-align: right;\">\n",
       "      <th></th>\n",
       "      <th>previous_play</th>\n",
       "      <th>ball</th>\n",
       "      <th>contact_foul</th>\n",
       "      <th>contact_in_on_base</th>\n",
       "      <th>contact_in_play_out</th>\n",
       "      <th>strike</th>\n",
       "      <th>total</th>\n",
       "    </tr>\n",
       "  </thead>\n",
       "  <tbody>\n",
       "    <tr>\n",
       "      <th>0</th>\n",
       "      <td>first_pitch</td>\n",
       "      <td>0.43908</td>\n",
       "      <td>0.091954</td>\n",
       "      <td>0.016092</td>\n",
       "      <td>0.062069</td>\n",
       "      <td>0.390805</td>\n",
       "      <td>435</td>\n",
       "    </tr>\n",
       "  </tbody>\n",
       "</table>\n",
       "</div>"
      ],
      "text/plain": [
       "  previous_play     ball  contact_foul  contact_in_on_base  contact_in_play_out    strike  total\n",
       "0   first_pitch  0.43908      0.091954            0.016092             0.062069  0.390805    435"
      ]
     },
     "metadata": {},
     "output_type": "display_data"
    },
    {
     "name": "stderr",
     "output_type": "stream",
     "text": [
      "/usr/local/lib/python3.7/site-packages/ipykernel_launcher.py:15: FutureWarning: Dropping of nuisance columns in DataFrame reductions (with 'numeric_only=None') is deprecated; in a future version this will raise TypeError.  Select only valid columns before calling the reduction.\n",
      "  from ipykernel import kernelapp as app\n"
     ]
    },
    {
     "data": {
      "text/plain": [
       "'Pitcher Matrix '"
      ]
     },
     "metadata": {},
     "output_type": "display_data"
    },
    {
     "data": {
      "text/html": [
       "<div>\n",
       "<style scoped>\n",
       "    .dataframe tbody tr th:only-of-type {\n",
       "        vertical-align: middle;\n",
       "    }\n",
       "\n",
       "    .dataframe tbody tr th {\n",
       "        vertical-align: top;\n",
       "    }\n",
       "\n",
       "    .dataframe thead th {\n",
       "        text-align: right;\n",
       "    }\n",
       "</style>\n",
       "<table border=\"1\" class=\"dataframe\">\n",
       "  <thead>\n",
       "    <tr style=\"text-align: right;\">\n",
       "      <th></th>\n",
       "      <th>previous_play</th>\n",
       "      <th>ball</th>\n",
       "      <th>contact_foul</th>\n",
       "      <th>contact_in_on_base</th>\n",
       "      <th>contact_in_play_out</th>\n",
       "      <th>strike</th>\n",
       "      <th>total</th>\n",
       "    </tr>\n",
       "  </thead>\n",
       "  <tbody>\n",
       "    <tr>\n",
       "      <th>0</th>\n",
       "      <td>first_pitch</td>\n",
       "      <td>0.451737</td>\n",
       "      <td>0.092664</td>\n",
       "      <td>0.034749</td>\n",
       "      <td>0.084942</td>\n",
       "      <td>0.335907</td>\n",
       "      <td>259</td>\n",
       "    </tr>\n",
       "  </tbody>\n",
       "</table>\n",
       "</div>"
      ],
      "text/plain": [
       "  previous_play      ball  contact_foul  contact_in_on_base  contact_in_play_out    strike  total\n",
       "0   first_pitch  0.451737      0.092664            0.034749             0.084942  0.335907    259"
      ]
     },
     "metadata": {},
     "output_type": "display_data"
    },
    {
     "data": {
      "text/plain": [
       "'Events Probibility'"
      ]
     },
     "metadata": {},
     "output_type": "display_data"
    },
    {
     "data": {
      "text/html": [
       "<div>\n",
       "<style scoped>\n",
       "    .dataframe tbody tr th:only-of-type {\n",
       "        vertical-align: middle;\n",
       "    }\n",
       "\n",
       "    .dataframe tbody tr th {\n",
       "        vertical-align: top;\n",
       "    }\n",
       "\n",
       "    .dataframe thead th {\n",
       "        text-align: right;\n",
       "    }\n",
       "</style>\n",
       "<table border=\"1\" class=\"dataframe\">\n",
       "  <thead>\n",
       "    <tr style=\"text-align: right;\">\n",
       "      <th></th>\n",
       "      <th>previous_play</th>\n",
       "      <th>ball</th>\n",
       "      <th>contact_foul</th>\n",
       "      <th>contact_in_on_base</th>\n",
       "      <th>contact_in_play_out</th>\n",
       "      <th>strike</th>\n",
       "      <th>actual_outcome</th>\n",
       "    </tr>\n",
       "  </thead>\n",
       "  <tbody>\n",
       "    <tr>\n",
       "      <th>0</th>\n",
       "      <td>first_pitch</td>\n",
       "      <td>0.443804</td>\n",
       "      <td>0.092219</td>\n",
       "      <td>0.023055</td>\n",
       "      <td>0.070605</td>\n",
       "      <td>0.370317</td>\n",
       "      <td>ball</td>\n",
       "    </tr>\n",
       "  </tbody>\n",
       "</table>\n",
       "</div>"
      ],
      "text/plain": [
       "  previous_play      ball  contact_foul  contact_in_on_base  contact_in_play_out    strike actual_outcome\n",
       "0   first_pitch  0.443804      0.092219            0.023055             0.070605  0.370317           ball"
      ]
     },
     "metadata": {},
     "output_type": "display_data"
    },
    {
     "name": "stdout",
     "output_type": "stream",
     "text": [
      "The count is 1-0\n"
     ]
    },
    {
     "name": "stderr",
     "output_type": "stream",
     "text": [
      "/usr/local/lib/python3.7/site-packages/ipykernel_launcher.py:15: FutureWarning: Dropping of nuisance columns in DataFrame reductions (with 'numeric_only=None') is deprecated; in a future version this will raise TypeError.  Select only valid columns before calling the reduction.\n",
      "  from ipykernel import kernelapp as app\n"
     ]
    },
    {
     "data": {
      "text/plain": [
       "'Hitter Matrix '"
      ]
     },
     "metadata": {},
     "output_type": "display_data"
    },
    {
     "data": {
      "text/html": [
       "<div>\n",
       "<style scoped>\n",
       "    .dataframe tbody tr th:only-of-type {\n",
       "        vertical-align: middle;\n",
       "    }\n",
       "\n",
       "    .dataframe tbody tr th {\n",
       "        vertical-align: top;\n",
       "    }\n",
       "\n",
       "    .dataframe thead th {\n",
       "        text-align: right;\n",
       "    }\n",
       "</style>\n",
       "<table border=\"1\" class=\"dataframe\">\n",
       "  <thead>\n",
       "    <tr style=\"text-align: right;\">\n",
       "      <th></th>\n",
       "      <th>previous_play</th>\n",
       "      <th>ball</th>\n",
       "      <th>contact_foul</th>\n",
       "      <th>contact_in_on_base</th>\n",
       "      <th>contact_in_play_out</th>\n",
       "      <th>strike</th>\n",
       "      <th>total</th>\n",
       "    </tr>\n",
       "  </thead>\n",
       "  <tbody>\n",
       "    <tr>\n",
       "      <th>0</th>\n",
       "      <td>ball</td>\n",
       "      <td>0.39267</td>\n",
       "      <td>0.13089</td>\n",
       "      <td>0.057592</td>\n",
       "      <td>0.089005</td>\n",
       "      <td>0.329843</td>\n",
       "      <td>191</td>\n",
       "    </tr>\n",
       "  </tbody>\n",
       "</table>\n",
       "</div>"
      ],
      "text/plain": [
       "  previous_play     ball  contact_foul  contact_in_on_base  contact_in_play_out    strike  total\n",
       "0          ball  0.39267       0.13089            0.057592             0.089005  0.329843    191"
      ]
     },
     "metadata": {},
     "output_type": "display_data"
    },
    {
     "name": "stderr",
     "output_type": "stream",
     "text": [
      "/usr/local/lib/python3.7/site-packages/ipykernel_launcher.py:15: FutureWarning: Dropping of nuisance columns in DataFrame reductions (with 'numeric_only=None') is deprecated; in a future version this will raise TypeError.  Select only valid columns before calling the reduction.\n",
      "  from ipykernel import kernelapp as app\n"
     ]
    },
    {
     "data": {
      "text/plain": [
       "'Pitcher Matrix '"
      ]
     },
     "metadata": {},
     "output_type": "display_data"
    },
    {
     "data": {
      "text/html": [
       "<div>\n",
       "<style scoped>\n",
       "    .dataframe tbody tr th:only-of-type {\n",
       "        vertical-align: middle;\n",
       "    }\n",
       "\n",
       "    .dataframe tbody tr th {\n",
       "        vertical-align: top;\n",
       "    }\n",
       "\n",
       "    .dataframe thead th {\n",
       "        text-align: right;\n",
       "    }\n",
       "</style>\n",
       "<table border=\"1\" class=\"dataframe\">\n",
       "  <thead>\n",
       "    <tr style=\"text-align: right;\">\n",
       "      <th></th>\n",
       "      <th>previous_play</th>\n",
       "      <th>ball</th>\n",
       "      <th>contact_foul</th>\n",
       "      <th>contact_in_on_base</th>\n",
       "      <th>contact_in_play_out</th>\n",
       "      <th>strike</th>\n",
       "      <th>total</th>\n",
       "    </tr>\n",
       "  </thead>\n",
       "  <tbody>\n",
       "    <tr>\n",
       "      <th>0</th>\n",
       "      <td>ball</td>\n",
       "      <td>0.367521</td>\n",
       "      <td>0.136752</td>\n",
       "      <td>0.094017</td>\n",
       "      <td>0.119658</td>\n",
       "      <td>0.282051</td>\n",
       "      <td>117</td>\n",
       "    </tr>\n",
       "  </tbody>\n",
       "</table>\n",
       "</div>"
      ],
      "text/plain": [
       "  previous_play      ball  contact_foul  contact_in_on_base  contact_in_play_out    strike  total\n",
       "0          ball  0.367521      0.136752            0.094017             0.119658  0.282051    117"
      ]
     },
     "metadata": {},
     "output_type": "display_data"
    },
    {
     "data": {
      "text/plain": [
       "'Events Probibility'"
      ]
     },
     "metadata": {},
     "output_type": "display_data"
    },
    {
     "data": {
      "text/html": [
       "<div>\n",
       "<style scoped>\n",
       "    .dataframe tbody tr th:only-of-type {\n",
       "        vertical-align: middle;\n",
       "    }\n",
       "\n",
       "    .dataframe tbody tr th {\n",
       "        vertical-align: top;\n",
       "    }\n",
       "\n",
       "    .dataframe thead th {\n",
       "        text-align: right;\n",
       "    }\n",
       "</style>\n",
       "<table border=\"1\" class=\"dataframe\">\n",
       "  <thead>\n",
       "    <tr style=\"text-align: right;\">\n",
       "      <th></th>\n",
       "      <th>previous_play</th>\n",
       "      <th>ball</th>\n",
       "      <th>contact_foul</th>\n",
       "      <th>contact_in_on_base</th>\n",
       "      <th>contact_in_play_out</th>\n",
       "      <th>strike</th>\n",
       "      <th>actual_outcome</th>\n",
       "    </tr>\n",
       "  </thead>\n",
       "  <tbody>\n",
       "    <tr>\n",
       "      <th>0</th>\n",
       "      <td>ball</td>\n",
       "      <td>0.383117</td>\n",
       "      <td>0.133117</td>\n",
       "      <td>0.071429</td>\n",
       "      <td>0.100649</td>\n",
       "      <td>0.311688</td>\n",
       "      <td>ball</td>\n",
       "    </tr>\n",
       "  </tbody>\n",
       "</table>\n",
       "</div>"
      ],
      "text/plain": [
       "  previous_play      ball  contact_foul  contact_in_on_base  contact_in_play_out    strike actual_outcome\n",
       "0          ball  0.383117      0.133117            0.071429             0.100649  0.311688           ball"
      ]
     },
     "metadata": {},
     "output_type": "display_data"
    },
    {
     "name": "stdout",
     "output_type": "stream",
     "text": [
      "The count is 2-0\n"
     ]
    },
    {
     "name": "stderr",
     "output_type": "stream",
     "text": [
      "/usr/local/lib/python3.7/site-packages/ipykernel_launcher.py:15: FutureWarning: Dropping of nuisance columns in DataFrame reductions (with 'numeric_only=None') is deprecated; in a future version this will raise TypeError.  Select only valid columns before calling the reduction.\n",
      "  from ipykernel import kernelapp as app\n"
     ]
    },
    {
     "data": {
      "text/plain": [
       "'Hitter Matrix '"
      ]
     },
     "metadata": {},
     "output_type": "display_data"
    },
    {
     "data": {
      "text/html": [
       "<div>\n",
       "<style scoped>\n",
       "    .dataframe tbody tr th:only-of-type {\n",
       "        vertical-align: middle;\n",
       "    }\n",
       "\n",
       "    .dataframe tbody tr th {\n",
       "        vertical-align: top;\n",
       "    }\n",
       "\n",
       "    .dataframe thead th {\n",
       "        text-align: right;\n",
       "    }\n",
       "</style>\n",
       "<table border=\"1\" class=\"dataframe\">\n",
       "  <thead>\n",
       "    <tr style=\"text-align: right;\">\n",
       "      <th></th>\n",
       "      <th>previous_play</th>\n",
       "      <th>ball</th>\n",
       "      <th>contact_foul</th>\n",
       "      <th>contact_in_on_base</th>\n",
       "      <th>contact_in_play_out</th>\n",
       "      <th>strike</th>\n",
       "      <th>total</th>\n",
       "    </tr>\n",
       "  </thead>\n",
       "  <tbody>\n",
       "    <tr>\n",
       "      <th>0</th>\n",
       "      <td>ball</td>\n",
       "      <td>0.378378</td>\n",
       "      <td>0.135135</td>\n",
       "      <td>0.040541</td>\n",
       "      <td>0.108108</td>\n",
       "      <td>0.337838</td>\n",
       "      <td>74</td>\n",
       "    </tr>\n",
       "  </tbody>\n",
       "</table>\n",
       "</div>"
      ],
      "text/plain": [
       "  previous_play      ball  contact_foul  contact_in_on_base  contact_in_play_out    strike  total\n",
       "0          ball  0.378378      0.135135            0.040541             0.108108  0.337838     74"
      ]
     },
     "metadata": {},
     "output_type": "display_data"
    },
    {
     "name": "stderr",
     "output_type": "stream",
     "text": [
      "/usr/local/lib/python3.7/site-packages/ipykernel_launcher.py:15: FutureWarning: Dropping of nuisance columns in DataFrame reductions (with 'numeric_only=None') is deprecated; in a future version this will raise TypeError.  Select only valid columns before calling the reduction.\n",
      "  from ipykernel import kernelapp as app\n"
     ]
    },
    {
     "data": {
      "text/plain": [
       "'Pitcher Matrix '"
      ]
     },
     "metadata": {},
     "output_type": "display_data"
    },
    {
     "data": {
      "text/html": [
       "<div>\n",
       "<style scoped>\n",
       "    .dataframe tbody tr th:only-of-type {\n",
       "        vertical-align: middle;\n",
       "    }\n",
       "\n",
       "    .dataframe tbody tr th {\n",
       "        vertical-align: top;\n",
       "    }\n",
       "\n",
       "    .dataframe thead th {\n",
       "        text-align: right;\n",
       "    }\n",
       "</style>\n",
       "<table border=\"1\" class=\"dataframe\">\n",
       "  <thead>\n",
       "    <tr style=\"text-align: right;\">\n",
       "      <th></th>\n",
       "      <th>previous_play</th>\n",
       "      <th>ball</th>\n",
       "      <th>contact_foul</th>\n",
       "      <th>contact_in_on_base</th>\n",
       "      <th>contact_in_play_out</th>\n",
       "      <th>strike</th>\n",
       "      <th>total</th>\n",
       "    </tr>\n",
       "  </thead>\n",
       "  <tbody>\n",
       "    <tr>\n",
       "      <th>0</th>\n",
       "      <td>ball</td>\n",
       "      <td>0.348837</td>\n",
       "      <td>0.139535</td>\n",
       "      <td>0.116279</td>\n",
       "      <td>0.069767</td>\n",
       "      <td>0.325581</td>\n",
       "      <td>43</td>\n",
       "    </tr>\n",
       "  </tbody>\n",
       "</table>\n",
       "</div>"
      ],
      "text/plain": [
       "  previous_play      ball  contact_foul  contact_in_on_base  contact_in_play_out    strike  total\n",
       "0          ball  0.348837      0.139535            0.116279             0.069767  0.325581     43"
      ]
     },
     "metadata": {},
     "output_type": "display_data"
    },
    {
     "data": {
      "text/plain": [
       "'Events Probibility'"
      ]
     },
     "metadata": {},
     "output_type": "display_data"
    },
    {
     "data": {
      "text/html": [
       "<div>\n",
       "<style scoped>\n",
       "    .dataframe tbody tr th:only-of-type {\n",
       "        vertical-align: middle;\n",
       "    }\n",
       "\n",
       "    .dataframe tbody tr th {\n",
       "        vertical-align: top;\n",
       "    }\n",
       "\n",
       "    .dataframe thead th {\n",
       "        text-align: right;\n",
       "    }\n",
       "</style>\n",
       "<table border=\"1\" class=\"dataframe\">\n",
       "  <thead>\n",
       "    <tr style=\"text-align: right;\">\n",
       "      <th></th>\n",
       "      <th>previous_play</th>\n",
       "      <th>ball</th>\n",
       "      <th>contact_foul</th>\n",
       "      <th>contact_in_on_base</th>\n",
       "      <th>contact_in_play_out</th>\n",
       "      <th>strike</th>\n",
       "      <th>actual_outcome</th>\n",
       "    </tr>\n",
       "  </thead>\n",
       "  <tbody>\n",
       "    <tr>\n",
       "      <th>0</th>\n",
       "      <td>ball</td>\n",
       "      <td>0.367521</td>\n",
       "      <td>0.136752</td>\n",
       "      <td>0.068376</td>\n",
       "      <td>0.094017</td>\n",
       "      <td>0.333333</td>\n",
       "      <td>contact_foul</td>\n",
       "    </tr>\n",
       "  </tbody>\n",
       "</table>\n",
       "</div>"
      ],
      "text/plain": [
       "  previous_play      ball  contact_foul  contact_in_on_base  contact_in_play_out    strike actual_outcome\n",
       "0          ball  0.367521      0.136752            0.068376             0.094017  0.333333   contact_foul"
      ]
     },
     "metadata": {},
     "output_type": "display_data"
    },
    {
     "name": "stdout",
     "output_type": "stream",
     "text": [
      "The count is 2-1\n"
     ]
    },
    {
     "name": "stderr",
     "output_type": "stream",
     "text": [
      "/usr/local/lib/python3.7/site-packages/ipykernel_launcher.py:15: FutureWarning: Dropping of nuisance columns in DataFrame reductions (with 'numeric_only=None') is deprecated; in a future version this will raise TypeError.  Select only valid columns before calling the reduction.\n",
      "  from ipykernel import kernelapp as app\n"
     ]
    },
    {
     "data": {
      "text/plain": [
       "'Hitter Matrix '"
      ]
     },
     "metadata": {},
     "output_type": "display_data"
    },
    {
     "data": {
      "text/html": [
       "<div>\n",
       "<style scoped>\n",
       "    .dataframe tbody tr th:only-of-type {\n",
       "        vertical-align: middle;\n",
       "    }\n",
       "\n",
       "    .dataframe tbody tr th {\n",
       "        vertical-align: top;\n",
       "    }\n",
       "\n",
       "    .dataframe thead th {\n",
       "        text-align: right;\n",
       "    }\n",
       "</style>\n",
       "<table border=\"1\" class=\"dataframe\">\n",
       "  <thead>\n",
       "    <tr style=\"text-align: right;\">\n",
       "      <th></th>\n",
       "      <th>previous_play</th>\n",
       "      <th>ball</th>\n",
       "      <th>contact_foul</th>\n",
       "      <th>contact_in_on_base</th>\n",
       "      <th>contact_in_play_out</th>\n",
       "      <th>strike</th>\n",
       "      <th>total</th>\n",
       "    </tr>\n",
       "  </thead>\n",
       "  <tbody>\n",
       "    <tr>\n",
       "      <th>0</th>\n",
       "      <td>ball</td>\n",
       "      <td>0.266667</td>\n",
       "      <td>0.216667</td>\n",
       "      <td>0.116667</td>\n",
       "      <td>0.133333</td>\n",
       "      <td>0.266667</td>\n",
       "      <td>60</td>\n",
       "    </tr>\n",
       "    <tr>\n",
       "      <th>1</th>\n",
       "      <td>contact_foul</td>\n",
       "      <td>0.400000</td>\n",
       "      <td>0.400000</td>\n",
       "      <td>0.000000</td>\n",
       "      <td>0.100000</td>\n",
       "      <td>0.100000</td>\n",
       "      <td>10</td>\n",
       "    </tr>\n",
       "    <tr>\n",
       "      <th>2</th>\n",
       "      <td>strike</td>\n",
       "      <td>0.360000</td>\n",
       "      <td>0.280000</td>\n",
       "      <td>0.040000</td>\n",
       "      <td>0.160000</td>\n",
       "      <td>0.160000</td>\n",
       "      <td>25</td>\n",
       "    </tr>\n",
       "  </tbody>\n",
       "</table>\n",
       "</div>"
      ],
      "text/plain": [
       "  previous_play      ball  contact_foul  contact_in_on_base  contact_in_play_out    strike  total\n",
       "0          ball  0.266667      0.216667            0.116667             0.133333  0.266667     60\n",
       "1  contact_foul  0.400000      0.400000            0.000000             0.100000  0.100000     10\n",
       "2        strike  0.360000      0.280000            0.040000             0.160000  0.160000     25"
      ]
     },
     "metadata": {},
     "output_type": "display_data"
    },
    {
     "name": "stderr",
     "output_type": "stream",
     "text": [
      "/usr/local/lib/python3.7/site-packages/ipykernel_launcher.py:15: FutureWarning: Dropping of nuisance columns in DataFrame reductions (with 'numeric_only=None') is deprecated; in a future version this will raise TypeError.  Select only valid columns before calling the reduction.\n",
      "  from ipykernel import kernelapp as app\n"
     ]
    },
    {
     "data": {
      "text/plain": [
       "'Pitcher Matrix '"
      ]
     },
     "metadata": {},
     "output_type": "display_data"
    },
    {
     "data": {
      "text/html": [
       "<div>\n",
       "<style scoped>\n",
       "    .dataframe tbody tr th:only-of-type {\n",
       "        vertical-align: middle;\n",
       "    }\n",
       "\n",
       "    .dataframe tbody tr th {\n",
       "        vertical-align: top;\n",
       "    }\n",
       "\n",
       "    .dataframe thead th {\n",
       "        text-align: right;\n",
       "    }\n",
       "</style>\n",
       "<table border=\"1\" class=\"dataframe\">\n",
       "  <thead>\n",
       "    <tr style=\"text-align: right;\">\n",
       "      <th></th>\n",
       "      <th>previous_play</th>\n",
       "      <th>ball</th>\n",
       "      <th>contact_foul</th>\n",
       "      <th>contact_in_on_base</th>\n",
       "      <th>contact_in_play_out</th>\n",
       "      <th>strike</th>\n",
       "      <th>total</th>\n",
       "    </tr>\n",
       "  </thead>\n",
       "  <tbody>\n",
       "    <tr>\n",
       "      <th>0</th>\n",
       "      <td>ball</td>\n",
       "      <td>0.360000</td>\n",
       "      <td>0.240000</td>\n",
       "      <td>0.040000</td>\n",
       "      <td>0.160000</td>\n",
       "      <td>0.200000</td>\n",
       "      <td>25</td>\n",
       "    </tr>\n",
       "    <tr>\n",
       "      <th>1</th>\n",
       "      <td>contact_foul</td>\n",
       "      <td>0.166667</td>\n",
       "      <td>0.166667</td>\n",
       "      <td>0.166667</td>\n",
       "      <td>0.333333</td>\n",
       "      <td>0.166667</td>\n",
       "      <td>6</td>\n",
       "    </tr>\n",
       "    <tr>\n",
       "      <th>2</th>\n",
       "      <td>strike</td>\n",
       "      <td>0.285714</td>\n",
       "      <td>0.214286</td>\n",
       "      <td>0.071429</td>\n",
       "      <td>0.285714</td>\n",
       "      <td>0.142857</td>\n",
       "      <td>14</td>\n",
       "    </tr>\n",
       "  </tbody>\n",
       "</table>\n",
       "</div>"
      ],
      "text/plain": [
       "  previous_play      ball  contact_foul  contact_in_on_base  contact_in_play_out    strike  total\n",
       "0          ball  0.360000      0.240000            0.040000             0.160000  0.200000     25\n",
       "1  contact_foul  0.166667      0.166667            0.166667             0.333333  0.166667      6\n",
       "2        strike  0.285714      0.214286            0.071429             0.285714  0.142857     14"
      ]
     },
     "metadata": {},
     "output_type": "display_data"
    },
    {
     "data": {
      "text/plain": [
       "'Events Probibility'"
      ]
     },
     "metadata": {},
     "output_type": "display_data"
    },
    {
     "data": {
      "text/html": [
       "<div>\n",
       "<style scoped>\n",
       "    .dataframe tbody tr th:only-of-type {\n",
       "        vertical-align: middle;\n",
       "    }\n",
       "\n",
       "    .dataframe tbody tr th {\n",
       "        vertical-align: top;\n",
       "    }\n",
       "\n",
       "    .dataframe thead th {\n",
       "        text-align: right;\n",
       "    }\n",
       "</style>\n",
       "<table border=\"1\" class=\"dataframe\">\n",
       "  <thead>\n",
       "    <tr style=\"text-align: right;\">\n",
       "      <th></th>\n",
       "      <th>previous_play</th>\n",
       "      <th>ball</th>\n",
       "      <th>contact_foul</th>\n",
       "      <th>contact_in_on_base</th>\n",
       "      <th>contact_in_play_out</th>\n",
       "      <th>strike</th>\n",
       "      <th>actual_outcome</th>\n",
       "    </tr>\n",
       "  </thead>\n",
       "  <tbody>\n",
       "    <tr>\n",
       "      <th>1</th>\n",
       "      <td>contact_foul</td>\n",
       "      <td>0.3125</td>\n",
       "      <td>0.3125</td>\n",
       "      <td>0.0625</td>\n",
       "      <td>0.1875</td>\n",
       "      <td>0.125</td>\n",
       "      <td>contact_in_play_out</td>\n",
       "    </tr>\n",
       "  </tbody>\n",
       "</table>\n",
       "</div>"
      ],
      "text/plain": [
       "  previous_play    ball  contact_foul  contact_in_on_base  contact_in_play_out  strike       actual_outcome\n",
       "1  contact_foul  0.3125        0.3125              0.0625               0.1875   0.125  contact_in_play_out"
      ]
     },
     "metadata": {},
     "output_type": "display_data"
    },
    {
     "name": "stdout",
     "output_type": "stream",
     "text": [
      "----------------------------------------------------------------------------------------------------\n",
      "The hitter is: Christopher_Cron\n",
      "The pitcher is: Masahiro_Tanaka\n",
      "The count is 0-0\n"
     ]
    },
    {
     "name": "stderr",
     "output_type": "stream",
     "text": [
      "/usr/local/lib/python3.7/site-packages/ipykernel_launcher.py:15: FutureWarning: Dropping of nuisance columns in DataFrame reductions (with 'numeric_only=None') is deprecated; in a future version this will raise TypeError.  Select only valid columns before calling the reduction.\n",
      "  from ipykernel import kernelapp as app\n"
     ]
    },
    {
     "data": {
      "text/plain": [
       "'Hitter Matrix '"
      ]
     },
     "metadata": {},
     "output_type": "display_data"
    },
    {
     "data": {
      "text/html": [
       "<div>\n",
       "<style scoped>\n",
       "    .dataframe tbody tr th:only-of-type {\n",
       "        vertical-align: middle;\n",
       "    }\n",
       "\n",
       "    .dataframe tbody tr th {\n",
       "        vertical-align: top;\n",
       "    }\n",
       "\n",
       "    .dataframe thead th {\n",
       "        text-align: right;\n",
       "    }\n",
       "</style>\n",
       "<table border=\"1\" class=\"dataframe\">\n",
       "  <thead>\n",
       "    <tr style=\"text-align: right;\">\n",
       "      <th></th>\n",
       "      <th>previous_play</th>\n",
       "      <th>ball</th>\n",
       "      <th>contact_foul</th>\n",
       "      <th>contact_in_on_base</th>\n",
       "      <th>contact_in_play_out</th>\n",
       "      <th>strike</th>\n",
       "      <th>total</th>\n",
       "    </tr>\n",
       "  </thead>\n",
       "  <tbody>\n",
       "    <tr>\n",
       "      <th>0</th>\n",
       "      <td>first_pitch</td>\n",
       "      <td>0.355932</td>\n",
       "      <td>0.112994</td>\n",
       "      <td>0.050847</td>\n",
       "      <td>0.081921</td>\n",
       "      <td>0.398305</td>\n",
       "      <td>354</td>\n",
       "    </tr>\n",
       "  </tbody>\n",
       "</table>\n",
       "</div>"
      ],
      "text/plain": [
       "  previous_play      ball  contact_foul  contact_in_on_base  contact_in_play_out    strike  total\n",
       "0   first_pitch  0.355932      0.112994            0.050847             0.081921  0.398305    354"
      ]
     },
     "metadata": {},
     "output_type": "display_data"
    },
    {
     "name": "stderr",
     "output_type": "stream",
     "text": [
      "/usr/local/lib/python3.7/site-packages/ipykernel_launcher.py:15: FutureWarning: Dropping of nuisance columns in DataFrame reductions (with 'numeric_only=None') is deprecated; in a future version this will raise TypeError.  Select only valid columns before calling the reduction.\n",
      "  from ipykernel import kernelapp as app\n"
     ]
    },
    {
     "data": {
      "text/plain": [
       "'Pitcher Matrix '"
      ]
     },
     "metadata": {},
     "output_type": "display_data"
    },
    {
     "data": {
      "text/html": [
       "<div>\n",
       "<style scoped>\n",
       "    .dataframe tbody tr th:only-of-type {\n",
       "        vertical-align: middle;\n",
       "    }\n",
       "\n",
       "    .dataframe tbody tr th {\n",
       "        vertical-align: top;\n",
       "    }\n",
       "\n",
       "    .dataframe thead th {\n",
       "        text-align: right;\n",
       "    }\n",
       "</style>\n",
       "<table border=\"1\" class=\"dataframe\">\n",
       "  <thead>\n",
       "    <tr style=\"text-align: right;\">\n",
       "      <th></th>\n",
       "      <th>previous_play</th>\n",
       "      <th>ball</th>\n",
       "      <th>contact_foul</th>\n",
       "      <th>contact_in_on_base</th>\n",
       "      <th>contact_in_play_out</th>\n",
       "      <th>strike</th>\n",
       "      <th>total</th>\n",
       "    </tr>\n",
       "  </thead>\n",
       "  <tbody>\n",
       "    <tr>\n",
       "      <th>0</th>\n",
       "      <td>first_pitch</td>\n",
       "      <td>0.352601</td>\n",
       "      <td>0.105491</td>\n",
       "      <td>0.063584</td>\n",
       "      <td>0.092486</td>\n",
       "      <td>0.385838</td>\n",
       "      <td>692</td>\n",
       "    </tr>\n",
       "  </tbody>\n",
       "</table>\n",
       "</div>"
      ],
      "text/plain": [
       "  previous_play      ball  contact_foul  contact_in_on_base  contact_in_play_out    strike  total\n",
       "0   first_pitch  0.352601      0.105491            0.063584             0.092486  0.385838    692"
      ]
     },
     "metadata": {},
     "output_type": "display_data"
    },
    {
     "data": {
      "text/plain": [
       "'Events Probibility'"
      ]
     },
     "metadata": {},
     "output_type": "display_data"
    },
    {
     "data": {
      "text/html": [
       "<div>\n",
       "<style scoped>\n",
       "    .dataframe tbody tr th:only-of-type {\n",
       "        vertical-align: middle;\n",
       "    }\n",
       "\n",
       "    .dataframe tbody tr th {\n",
       "        vertical-align: top;\n",
       "    }\n",
       "\n",
       "    .dataframe thead th {\n",
       "        text-align: right;\n",
       "    }\n",
       "</style>\n",
       "<table border=\"1\" class=\"dataframe\">\n",
       "  <thead>\n",
       "    <tr style=\"text-align: right;\">\n",
       "      <th></th>\n",
       "      <th>previous_play</th>\n",
       "      <th>ball</th>\n",
       "      <th>contact_foul</th>\n",
       "      <th>contact_in_on_base</th>\n",
       "      <th>contact_in_play_out</th>\n",
       "      <th>strike</th>\n",
       "      <th>actual_outcome</th>\n",
       "    </tr>\n",
       "  </thead>\n",
       "  <tbody>\n",
       "    <tr>\n",
       "      <th>0</th>\n",
       "      <td>first_pitch</td>\n",
       "      <td>0.353728</td>\n",
       "      <td>0.108031</td>\n",
       "      <td>0.059273</td>\n",
       "      <td>0.08891</td>\n",
       "      <td>0.390057</td>\n",
       "      <td>ball</td>\n",
       "    </tr>\n",
       "  </tbody>\n",
       "</table>\n",
       "</div>"
      ],
      "text/plain": [
       "  previous_play      ball  contact_foul  contact_in_on_base  contact_in_play_out    strike actual_outcome\n",
       "0   first_pitch  0.353728      0.108031            0.059273              0.08891  0.390057           ball"
      ]
     },
     "metadata": {},
     "output_type": "display_data"
    },
    {
     "name": "stdout",
     "output_type": "stream",
     "text": [
      "The count is 1-0\n"
     ]
    },
    {
     "name": "stderr",
     "output_type": "stream",
     "text": [
      "/usr/local/lib/python3.7/site-packages/ipykernel_launcher.py:15: FutureWarning: Dropping of nuisance columns in DataFrame reductions (with 'numeric_only=None') is deprecated; in a future version this will raise TypeError.  Select only valid columns before calling the reduction.\n",
      "  from ipykernel import kernelapp as app\n"
     ]
    },
    {
     "data": {
      "text/plain": [
       "'Hitter Matrix '"
      ]
     },
     "metadata": {},
     "output_type": "display_data"
    },
    {
     "data": {
      "text/html": [
       "<div>\n",
       "<style scoped>\n",
       "    .dataframe tbody tr th:only-of-type {\n",
       "        vertical-align: middle;\n",
       "    }\n",
       "\n",
       "    .dataframe tbody tr th {\n",
       "        vertical-align: top;\n",
       "    }\n",
       "\n",
       "    .dataframe thead th {\n",
       "        text-align: right;\n",
       "    }\n",
       "</style>\n",
       "<table border=\"1\" class=\"dataframe\">\n",
       "  <thead>\n",
       "    <tr style=\"text-align: right;\">\n",
       "      <th></th>\n",
       "      <th>previous_play</th>\n",
       "      <th>ball</th>\n",
       "      <th>contact_foul</th>\n",
       "      <th>contact_in_on_base</th>\n",
       "      <th>contact_in_play_out</th>\n",
       "      <th>strike</th>\n",
       "      <th>total</th>\n",
       "    </tr>\n",
       "  </thead>\n",
       "  <tbody>\n",
       "    <tr>\n",
       "      <th>0</th>\n",
       "      <td>ball</td>\n",
       "      <td>0.325397</td>\n",
       "      <td>0.190476</td>\n",
       "      <td>0.095238</td>\n",
       "      <td>0.103175</td>\n",
       "      <td>0.285714</td>\n",
       "      <td>126</td>\n",
       "    </tr>\n",
       "  </tbody>\n",
       "</table>\n",
       "</div>"
      ],
      "text/plain": [
       "  previous_play      ball  contact_foul  contact_in_on_base  contact_in_play_out    strike  total\n",
       "0          ball  0.325397      0.190476            0.095238             0.103175  0.285714    126"
      ]
     },
     "metadata": {},
     "output_type": "display_data"
    },
    {
     "name": "stderr",
     "output_type": "stream",
     "text": [
      "/usr/local/lib/python3.7/site-packages/ipykernel_launcher.py:15: FutureWarning: Dropping of nuisance columns in DataFrame reductions (with 'numeric_only=None') is deprecated; in a future version this will raise TypeError.  Select only valid columns before calling the reduction.\n",
      "  from ipykernel import kernelapp as app\n"
     ]
    },
    {
     "data": {
      "text/plain": [
       "'Pitcher Matrix '"
      ]
     },
     "metadata": {},
     "output_type": "display_data"
    },
    {
     "data": {
      "text/html": [
       "<div>\n",
       "<style scoped>\n",
       "    .dataframe tbody tr th:only-of-type {\n",
       "        vertical-align: middle;\n",
       "    }\n",
       "\n",
       "    .dataframe tbody tr th {\n",
       "        vertical-align: top;\n",
       "    }\n",
       "\n",
       "    .dataframe thead th {\n",
       "        text-align: right;\n",
       "    }\n",
       "</style>\n",
       "<table border=\"1\" class=\"dataframe\">\n",
       "  <thead>\n",
       "    <tr style=\"text-align: right;\">\n",
       "      <th></th>\n",
       "      <th>previous_play</th>\n",
       "      <th>ball</th>\n",
       "      <th>contact_foul</th>\n",
       "      <th>contact_in_on_base</th>\n",
       "      <th>contact_in_play_out</th>\n",
       "      <th>strike</th>\n",
       "      <th>total</th>\n",
       "    </tr>\n",
       "  </thead>\n",
       "  <tbody>\n",
       "    <tr>\n",
       "      <th>0</th>\n",
       "      <td>ball</td>\n",
       "      <td>0.319672</td>\n",
       "      <td>0.139344</td>\n",
       "      <td>0.077869</td>\n",
       "      <td>0.127049</td>\n",
       "      <td>0.336066</td>\n",
       "      <td>244</td>\n",
       "    </tr>\n",
       "  </tbody>\n",
       "</table>\n",
       "</div>"
      ],
      "text/plain": [
       "  previous_play      ball  contact_foul  contact_in_on_base  contact_in_play_out    strike  total\n",
       "0          ball  0.319672      0.139344            0.077869             0.127049  0.336066    244"
      ]
     },
     "metadata": {},
     "output_type": "display_data"
    },
    {
     "data": {
      "text/plain": [
       "'Events Probibility'"
      ]
     },
     "metadata": {},
     "output_type": "display_data"
    },
    {
     "data": {
      "text/html": [
       "<div>\n",
       "<style scoped>\n",
       "    .dataframe tbody tr th:only-of-type {\n",
       "        vertical-align: middle;\n",
       "    }\n",
       "\n",
       "    .dataframe tbody tr th {\n",
       "        vertical-align: top;\n",
       "    }\n",
       "\n",
       "    .dataframe thead th {\n",
       "        text-align: right;\n",
       "    }\n",
       "</style>\n",
       "<table border=\"1\" class=\"dataframe\">\n",
       "  <thead>\n",
       "    <tr style=\"text-align: right;\">\n",
       "      <th></th>\n",
       "      <th>previous_play</th>\n",
       "      <th>ball</th>\n",
       "      <th>contact_foul</th>\n",
       "      <th>contact_in_on_base</th>\n",
       "      <th>contact_in_play_out</th>\n",
       "      <th>strike</th>\n",
       "      <th>actual_outcome</th>\n",
       "    </tr>\n",
       "  </thead>\n",
       "  <tbody>\n",
       "    <tr>\n",
       "      <th>0</th>\n",
       "      <td>ball</td>\n",
       "      <td>0.321622</td>\n",
       "      <td>0.156757</td>\n",
       "      <td>0.083784</td>\n",
       "      <td>0.118919</td>\n",
       "      <td>0.318919</td>\n",
       "      <td>contact_foul</td>\n",
       "    </tr>\n",
       "  </tbody>\n",
       "</table>\n",
       "</div>"
      ],
      "text/plain": [
       "  previous_play      ball  contact_foul  contact_in_on_base  contact_in_play_out    strike actual_outcome\n",
       "0          ball  0.321622      0.156757            0.083784             0.118919  0.318919   contact_foul"
      ]
     },
     "metadata": {},
     "output_type": "display_data"
    },
    {
     "name": "stdout",
     "output_type": "stream",
     "text": [
      "The count is 1-1\n"
     ]
    },
    {
     "name": "stderr",
     "output_type": "stream",
     "text": [
      "/usr/local/lib/python3.7/site-packages/ipykernel_launcher.py:15: FutureWarning: Dropping of nuisance columns in DataFrame reductions (with 'numeric_only=None') is deprecated; in a future version this will raise TypeError.  Select only valid columns before calling the reduction.\n",
      "  from ipykernel import kernelapp as app\n"
     ]
    },
    {
     "data": {
      "text/plain": [
       "'Hitter Matrix '"
      ]
     },
     "metadata": {},
     "output_type": "display_data"
    },
    {
     "data": {
      "text/html": [
       "<div>\n",
       "<style scoped>\n",
       "    .dataframe tbody tr th:only-of-type {\n",
       "        vertical-align: middle;\n",
       "    }\n",
       "\n",
       "    .dataframe tbody tr th {\n",
       "        vertical-align: top;\n",
       "    }\n",
       "\n",
       "    .dataframe thead th {\n",
       "        text-align: right;\n",
       "    }\n",
       "</style>\n",
       "<table border=\"1\" class=\"dataframe\">\n",
       "  <thead>\n",
       "    <tr style=\"text-align: right;\">\n",
       "      <th></th>\n",
       "      <th>previous_play</th>\n",
       "      <th>ball</th>\n",
       "      <th>contact_foul</th>\n",
       "      <th>contact_in_on_base</th>\n",
       "      <th>contact_in_play_out</th>\n",
       "      <th>strike</th>\n",
       "      <th>total</th>\n",
       "    </tr>\n",
       "  </thead>\n",
       "  <tbody>\n",
       "    <tr>\n",
       "      <th>0</th>\n",
       "      <td>ball</td>\n",
       "      <td>0.343750</td>\n",
       "      <td>0.171875</td>\n",
       "      <td>0.125000</td>\n",
       "      <td>0.156250</td>\n",
       "      <td>0.203125</td>\n",
       "      <td>64</td>\n",
       "    </tr>\n",
       "    <tr>\n",
       "      <th>1</th>\n",
       "      <td>contact_foul</td>\n",
       "      <td>0.458333</td>\n",
       "      <td>0.333333</td>\n",
       "      <td>0.041667</td>\n",
       "      <td>0.125000</td>\n",
       "      <td>0.041667</td>\n",
       "      <td>24</td>\n",
       "    </tr>\n",
       "    <tr>\n",
       "      <th>2</th>\n",
       "      <td>strike</td>\n",
       "      <td>0.333333</td>\n",
       "      <td>0.194444</td>\n",
       "      <td>0.027778</td>\n",
       "      <td>0.166667</td>\n",
       "      <td>0.277778</td>\n",
       "      <td>36</td>\n",
       "    </tr>\n",
       "  </tbody>\n",
       "</table>\n",
       "</div>"
      ],
      "text/plain": [
       "  previous_play      ball  contact_foul  contact_in_on_base  contact_in_play_out    strike  total\n",
       "0          ball  0.343750      0.171875            0.125000             0.156250  0.203125     64\n",
       "1  contact_foul  0.458333      0.333333            0.041667             0.125000  0.041667     24\n",
       "2        strike  0.333333      0.194444            0.027778             0.166667  0.277778     36"
      ]
     },
     "metadata": {},
     "output_type": "display_data"
    },
    {
     "name": "stderr",
     "output_type": "stream",
     "text": [
      "/usr/local/lib/python3.7/site-packages/ipykernel_launcher.py:15: FutureWarning: Dropping of nuisance columns in DataFrame reductions (with 'numeric_only=None') is deprecated; in a future version this will raise TypeError.  Select only valid columns before calling the reduction.\n",
      "  from ipykernel import kernelapp as app\n"
     ]
    },
    {
     "data": {
      "text/plain": [
       "'Pitcher Matrix '"
      ]
     },
     "metadata": {},
     "output_type": "display_data"
    },
    {
     "data": {
      "text/html": [
       "<div>\n",
       "<style scoped>\n",
       "    .dataframe tbody tr th:only-of-type {\n",
       "        vertical-align: middle;\n",
       "    }\n",
       "\n",
       "    .dataframe tbody tr th {\n",
       "        vertical-align: top;\n",
       "    }\n",
       "\n",
       "    .dataframe thead th {\n",
       "        text-align: right;\n",
       "    }\n",
       "</style>\n",
       "<table border=\"1\" class=\"dataframe\">\n",
       "  <thead>\n",
       "    <tr style=\"text-align: right;\">\n",
       "      <th></th>\n",
       "      <th>previous_play</th>\n",
       "      <th>ball</th>\n",
       "      <th>contact_foul</th>\n",
       "      <th>contact_in_on_base</th>\n",
       "      <th>contact_in_play_out</th>\n",
       "      <th>strike</th>\n",
       "      <th>total</th>\n",
       "    </tr>\n",
       "  </thead>\n",
       "  <tbody>\n",
       "    <tr>\n",
       "      <th>0</th>\n",
       "      <td>ball</td>\n",
       "      <td>0.283465</td>\n",
       "      <td>0.228346</td>\n",
       "      <td>0.118110</td>\n",
       "      <td>0.157480</td>\n",
       "      <td>0.212598</td>\n",
       "      <td>127</td>\n",
       "    </tr>\n",
       "    <tr>\n",
       "      <th>1</th>\n",
       "      <td>contact_foul</td>\n",
       "      <td>0.294118</td>\n",
       "      <td>0.235294</td>\n",
       "      <td>0.088235</td>\n",
       "      <td>0.235294</td>\n",
       "      <td>0.147059</td>\n",
       "      <td>34</td>\n",
       "    </tr>\n",
       "    <tr>\n",
       "      <th>2</th>\n",
       "      <td>strike</td>\n",
       "      <td>0.317073</td>\n",
       "      <td>0.207317</td>\n",
       "      <td>0.048780</td>\n",
       "      <td>0.207317</td>\n",
       "      <td>0.219512</td>\n",
       "      <td>82</td>\n",
       "    </tr>\n",
       "  </tbody>\n",
       "</table>\n",
       "</div>"
      ],
      "text/plain": [
       "  previous_play      ball  contact_foul  contact_in_on_base  contact_in_play_out    strike  total\n",
       "0          ball  0.283465      0.228346            0.118110             0.157480  0.212598    127\n",
       "1  contact_foul  0.294118      0.235294            0.088235             0.235294  0.147059     34\n",
       "2        strike  0.317073      0.207317            0.048780             0.207317  0.219512     82"
      ]
     },
     "metadata": {},
     "output_type": "display_data"
    },
    {
     "data": {
      "text/plain": [
       "'Events Probibility'"
      ]
     },
     "metadata": {},
     "output_type": "display_data"
    },
    {
     "data": {
      "text/html": [
       "<div>\n",
       "<style scoped>\n",
       "    .dataframe tbody tr th:only-of-type {\n",
       "        vertical-align: middle;\n",
       "    }\n",
       "\n",
       "    .dataframe tbody tr th {\n",
       "        vertical-align: top;\n",
       "    }\n",
       "\n",
       "    .dataframe thead th {\n",
       "        text-align: right;\n",
       "    }\n",
       "</style>\n",
       "<table border=\"1\" class=\"dataframe\">\n",
       "  <thead>\n",
       "    <tr style=\"text-align: right;\">\n",
       "      <th></th>\n",
       "      <th>previous_play</th>\n",
       "      <th>ball</th>\n",
       "      <th>contact_foul</th>\n",
       "      <th>contact_in_on_base</th>\n",
       "      <th>contact_in_play_out</th>\n",
       "      <th>strike</th>\n",
       "      <th>actual_outcome</th>\n",
       "    </tr>\n",
       "  </thead>\n",
       "  <tbody>\n",
       "    <tr>\n",
       "      <th>1</th>\n",
       "      <td>contact_foul</td>\n",
       "      <td>0.362069</td>\n",
       "      <td>0.275862</td>\n",
       "      <td>0.068966</td>\n",
       "      <td>0.189655</td>\n",
       "      <td>0.103448</td>\n",
       "      <td>contact_foul</td>\n",
       "    </tr>\n",
       "  </tbody>\n",
       "</table>\n",
       "</div>"
      ],
      "text/plain": [
       "  previous_play      ball  contact_foul  contact_in_on_base  contact_in_play_out    strike actual_outcome\n",
       "1  contact_foul  0.362069      0.275862            0.068966             0.189655  0.103448   contact_foul"
      ]
     },
     "metadata": {},
     "output_type": "display_data"
    },
    {
     "name": "stdout",
     "output_type": "stream",
     "text": [
      "The count is 1-2\n"
     ]
    },
    {
     "name": "stderr",
     "output_type": "stream",
     "text": [
      "/usr/local/lib/python3.7/site-packages/ipykernel_launcher.py:15: FutureWarning: Dropping of nuisance columns in DataFrame reductions (with 'numeric_only=None') is deprecated; in a future version this will raise TypeError.  Select only valid columns before calling the reduction.\n",
      "  from ipykernel import kernelapp as app\n"
     ]
    },
    {
     "data": {
      "text/plain": [
       "'Hitter Matrix '"
      ]
     },
     "metadata": {},
     "output_type": "display_data"
    },
    {
     "data": {
      "text/html": [
       "<div>\n",
       "<style scoped>\n",
       "    .dataframe tbody tr th:only-of-type {\n",
       "        vertical-align: middle;\n",
       "    }\n",
       "\n",
       "    .dataframe tbody tr th {\n",
       "        vertical-align: top;\n",
       "    }\n",
       "\n",
       "    .dataframe thead th {\n",
       "        text-align: right;\n",
       "    }\n",
       "</style>\n",
       "<table border=\"1\" class=\"dataframe\">\n",
       "  <thead>\n",
       "    <tr style=\"text-align: right;\">\n",
       "      <th></th>\n",
       "      <th>previous_play</th>\n",
       "      <th>ball</th>\n",
       "      <th>contact_foul</th>\n",
       "      <th>contact_in_on_base</th>\n",
       "      <th>contact_in_play_out</th>\n",
       "      <th>strikeout</th>\n",
       "      <th>total</th>\n",
       "    </tr>\n",
       "  </thead>\n",
       "  <tbody>\n",
       "    <tr>\n",
       "      <th>0</th>\n",
       "      <td>ball</td>\n",
       "      <td>0.258065</td>\n",
       "      <td>0.322581</td>\n",
       "      <td>0.064516</td>\n",
       "      <td>0.193548</td>\n",
       "      <td>0.161290</td>\n",
       "      <td>31</td>\n",
       "    </tr>\n",
       "    <tr>\n",
       "      <th>1</th>\n",
       "      <td>contact_foul</td>\n",
       "      <td>0.311475</td>\n",
       "      <td>0.262295</td>\n",
       "      <td>0.081967</td>\n",
       "      <td>0.147541</td>\n",
       "      <td>0.196721</td>\n",
       "      <td>61</td>\n",
       "    </tr>\n",
       "    <tr>\n",
       "      <th>2</th>\n",
       "      <td>strike</td>\n",
       "      <td>0.208333</td>\n",
       "      <td>0.458333</td>\n",
       "      <td>0.083333</td>\n",
       "      <td>0.166667</td>\n",
       "      <td>0.083333</td>\n",
       "      <td>24</td>\n",
       "    </tr>\n",
       "  </tbody>\n",
       "</table>\n",
       "</div>"
      ],
      "text/plain": [
       "  previous_play      ball  contact_foul  contact_in_on_base  contact_in_play_out  strikeout  total\n",
       "0          ball  0.258065      0.322581            0.064516             0.193548   0.161290     31\n",
       "1  contact_foul  0.311475      0.262295            0.081967             0.147541   0.196721     61\n",
       "2        strike  0.208333      0.458333            0.083333             0.166667   0.083333     24"
      ]
     },
     "metadata": {},
     "output_type": "display_data"
    },
    {
     "name": "stderr",
     "output_type": "stream",
     "text": [
      "/usr/local/lib/python3.7/site-packages/ipykernel_launcher.py:15: FutureWarning: Dropping of nuisance columns in DataFrame reductions (with 'numeric_only=None') is deprecated; in a future version this will raise TypeError.  Select only valid columns before calling the reduction.\n",
      "  from ipykernel import kernelapp as app\n"
     ]
    },
    {
     "data": {
      "text/plain": [
       "'Pitcher Matrix '"
      ]
     },
     "metadata": {},
     "output_type": "display_data"
    },
    {
     "data": {
      "text/html": [
       "<div>\n",
       "<style scoped>\n",
       "    .dataframe tbody tr th:only-of-type {\n",
       "        vertical-align: middle;\n",
       "    }\n",
       "\n",
       "    .dataframe tbody tr th {\n",
       "        vertical-align: top;\n",
       "    }\n",
       "\n",
       "    .dataframe thead th {\n",
       "        text-align: right;\n",
       "    }\n",
       "</style>\n",
       "<table border=\"1\" class=\"dataframe\">\n",
       "  <thead>\n",
       "    <tr style=\"text-align: right;\">\n",
       "      <th></th>\n",
       "      <th>previous_play</th>\n",
       "      <th>ball</th>\n",
       "      <th>contact_foul</th>\n",
       "      <th>contact_in_on_base</th>\n",
       "      <th>contact_in_play_out</th>\n",
       "      <th>strikeout</th>\n",
       "      <th>total</th>\n",
       "    </tr>\n",
       "  </thead>\n",
       "  <tbody>\n",
       "    <tr>\n",
       "      <th>0</th>\n",
       "      <td>ball</td>\n",
       "      <td>0.314286</td>\n",
       "      <td>0.228571</td>\n",
       "      <td>0.057143</td>\n",
       "      <td>0.142857</td>\n",
       "      <td>0.257143</td>\n",
       "      <td>70</td>\n",
       "    </tr>\n",
       "    <tr>\n",
       "      <th>1</th>\n",
       "      <td>contact_foul</td>\n",
       "      <td>0.336735</td>\n",
       "      <td>0.183673</td>\n",
       "      <td>0.132653</td>\n",
       "      <td>0.214286</td>\n",
       "      <td>0.132653</td>\n",
       "      <td>98</td>\n",
       "    </tr>\n",
       "    <tr>\n",
       "      <th>2</th>\n",
       "      <td>strike</td>\n",
       "      <td>0.320000</td>\n",
       "      <td>0.300000</td>\n",
       "      <td>0.040000</td>\n",
       "      <td>0.160000</td>\n",
       "      <td>0.180000</td>\n",
       "      <td>50</td>\n",
       "    </tr>\n",
       "  </tbody>\n",
       "</table>\n",
       "</div>"
      ],
      "text/plain": [
       "  previous_play      ball  contact_foul  contact_in_on_base  contact_in_play_out  strikeout  total\n",
       "0          ball  0.314286      0.228571            0.057143             0.142857   0.257143     70\n",
       "1  contact_foul  0.336735      0.183673            0.132653             0.214286   0.132653     98\n",
       "2        strike  0.320000      0.300000            0.040000             0.160000   0.180000     50"
      ]
     },
     "metadata": {},
     "output_type": "display_data"
    },
    {
     "data": {
      "text/plain": [
       "'Events Probibility'"
      ]
     },
     "metadata": {},
     "output_type": "display_data"
    },
    {
     "data": {
      "text/html": [
       "<div>\n",
       "<style scoped>\n",
       "    .dataframe tbody tr th:only-of-type {\n",
       "        vertical-align: middle;\n",
       "    }\n",
       "\n",
       "    .dataframe tbody tr th {\n",
       "        vertical-align: top;\n",
       "    }\n",
       "\n",
       "    .dataframe thead th {\n",
       "        text-align: right;\n",
       "    }\n",
       "</style>\n",
       "<table border=\"1\" class=\"dataframe\">\n",
       "  <thead>\n",
       "    <tr style=\"text-align: right;\">\n",
       "      <th></th>\n",
       "      <th>previous_play</th>\n",
       "      <th>ball</th>\n",
       "      <th>contact_foul</th>\n",
       "      <th>contact_in_on_base</th>\n",
       "      <th>contact_in_play_out</th>\n",
       "      <th>strikeout</th>\n",
       "      <th>actual_outcome</th>\n",
       "    </tr>\n",
       "  </thead>\n",
       "  <tbody>\n",
       "    <tr>\n",
       "      <th>1</th>\n",
       "      <td>contact_foul</td>\n",
       "      <td>0.327044</td>\n",
       "      <td>0.213836</td>\n",
       "      <td>0.113208</td>\n",
       "      <td>0.188679</td>\n",
       "      <td>0.157233</td>\n",
       "      <td>contact_in_play_out</td>\n",
       "    </tr>\n",
       "  </tbody>\n",
       "</table>\n",
       "</div>"
      ],
      "text/plain": [
       "  previous_play      ball  contact_foul  contact_in_on_base  contact_in_play_out  strikeout       actual_outcome\n",
       "1  contact_foul  0.327044      0.213836            0.113208             0.188679   0.157233  contact_in_play_out"
      ]
     },
     "metadata": {},
     "output_type": "display_data"
    },
    {
     "name": "stdout",
     "output_type": "stream",
     "text": [
      "----------------------------------------------------------------------------------------------------\n",
      "The hitter is: Gregorio_Petit\n",
      "The pitcher is: Masahiro_Tanaka\n",
      "The count is 0-0\n"
     ]
    },
    {
     "name": "stderr",
     "output_type": "stream",
     "text": [
      "/usr/local/lib/python3.7/site-packages/ipykernel_launcher.py:15: FutureWarning: Dropping of nuisance columns in DataFrame reductions (with 'numeric_only=None') is deprecated; in a future version this will raise TypeError.  Select only valid columns before calling the reduction.\n",
      "  from ipykernel import kernelapp as app\n"
     ]
    },
    {
     "data": {
      "text/plain": [
       "'Hitter Matrix '"
      ]
     },
     "metadata": {},
     "output_type": "display_data"
    },
    {
     "data": {
      "text/html": [
       "<div>\n",
       "<style scoped>\n",
       "    .dataframe tbody tr th:only-of-type {\n",
       "        vertical-align: middle;\n",
       "    }\n",
       "\n",
       "    .dataframe tbody tr th {\n",
       "        vertical-align: top;\n",
       "    }\n",
       "\n",
       "    .dataframe thead th {\n",
       "        text-align: right;\n",
       "    }\n",
       "</style>\n",
       "<table border=\"1\" class=\"dataframe\">\n",
       "  <thead>\n",
       "    <tr style=\"text-align: right;\">\n",
       "      <th></th>\n",
       "      <th>previous_play</th>\n",
       "      <th>ball</th>\n",
       "      <th>contact_foul</th>\n",
       "      <th>contact_in_on_base</th>\n",
       "      <th>contact_in_play_out</th>\n",
       "      <th>strike</th>\n",
       "      <th>total</th>\n",
       "    </tr>\n",
       "  </thead>\n",
       "  <tbody>\n",
       "    <tr>\n",
       "      <th>0</th>\n",
       "      <td>first_pitch</td>\n",
       "      <td>0.292553</td>\n",
       "      <td>0.101064</td>\n",
       "      <td>0.047872</td>\n",
       "      <td>0.079787</td>\n",
       "      <td>0.478723</td>\n",
       "      <td>188</td>\n",
       "    </tr>\n",
       "  </tbody>\n",
       "</table>\n",
       "</div>"
      ],
      "text/plain": [
       "  previous_play      ball  contact_foul  contact_in_on_base  contact_in_play_out    strike  total\n",
       "0   first_pitch  0.292553      0.101064            0.047872             0.079787  0.478723    188"
      ]
     },
     "metadata": {},
     "output_type": "display_data"
    },
    {
     "name": "stderr",
     "output_type": "stream",
     "text": [
      "/usr/local/lib/python3.7/site-packages/ipykernel_launcher.py:15: FutureWarning: Dropping of nuisance columns in DataFrame reductions (with 'numeric_only=None') is deprecated; in a future version this will raise TypeError.  Select only valid columns before calling the reduction.\n",
      "  from ipykernel import kernelapp as app\n"
     ]
    },
    {
     "data": {
      "text/plain": [
       "'Pitcher Matrix '"
      ]
     },
     "metadata": {},
     "output_type": "display_data"
    },
    {
     "data": {
      "text/html": [
       "<div>\n",
       "<style scoped>\n",
       "    .dataframe tbody tr th:only-of-type {\n",
       "        vertical-align: middle;\n",
       "    }\n",
       "\n",
       "    .dataframe tbody tr th {\n",
       "        vertical-align: top;\n",
       "    }\n",
       "\n",
       "    .dataframe thead th {\n",
       "        text-align: right;\n",
       "    }\n",
       "</style>\n",
       "<table border=\"1\" class=\"dataframe\">\n",
       "  <thead>\n",
       "    <tr style=\"text-align: right;\">\n",
       "      <th></th>\n",
       "      <th>previous_play</th>\n",
       "      <th>ball</th>\n",
       "      <th>contact_foul</th>\n",
       "      <th>contact_in_on_base</th>\n",
       "      <th>contact_in_play_out</th>\n",
       "      <th>strike</th>\n",
       "      <th>total</th>\n",
       "    </tr>\n",
       "  </thead>\n",
       "  <tbody>\n",
       "    <tr>\n",
       "      <th>0</th>\n",
       "      <td>first_pitch</td>\n",
       "      <td>0.352601</td>\n",
       "      <td>0.105491</td>\n",
       "      <td>0.063584</td>\n",
       "      <td>0.092486</td>\n",
       "      <td>0.385838</td>\n",
       "      <td>692</td>\n",
       "    </tr>\n",
       "  </tbody>\n",
       "</table>\n",
       "</div>"
      ],
      "text/plain": [
       "  previous_play      ball  contact_foul  contact_in_on_base  contact_in_play_out    strike  total\n",
       "0   first_pitch  0.352601      0.105491            0.063584             0.092486  0.385838    692"
      ]
     },
     "metadata": {},
     "output_type": "display_data"
    },
    {
     "data": {
      "text/plain": [
       "'Events Probibility'"
      ]
     },
     "metadata": {},
     "output_type": "display_data"
    },
    {
     "data": {
      "text/html": [
       "<div>\n",
       "<style scoped>\n",
       "    .dataframe tbody tr th:only-of-type {\n",
       "        vertical-align: middle;\n",
       "    }\n",
       "\n",
       "    .dataframe tbody tr th {\n",
       "        vertical-align: top;\n",
       "    }\n",
       "\n",
       "    .dataframe thead th {\n",
       "        text-align: right;\n",
       "    }\n",
       "</style>\n",
       "<table border=\"1\" class=\"dataframe\">\n",
       "  <thead>\n",
       "    <tr style=\"text-align: right;\">\n",
       "      <th></th>\n",
       "      <th>previous_play</th>\n",
       "      <th>ball</th>\n",
       "      <th>contact_foul</th>\n",
       "      <th>contact_in_on_base</th>\n",
       "      <th>contact_in_play_out</th>\n",
       "      <th>strike</th>\n",
       "      <th>actual_outcome</th>\n",
       "    </tr>\n",
       "  </thead>\n",
       "  <tbody>\n",
       "    <tr>\n",
       "      <th>0</th>\n",
       "      <td>first_pitch</td>\n",
       "      <td>0.339773</td>\n",
       "      <td>0.104545</td>\n",
       "      <td>0.060227</td>\n",
       "      <td>0.089773</td>\n",
       "      <td>0.405682</td>\n",
       "      <td>strike</td>\n",
       "    </tr>\n",
       "  </tbody>\n",
       "</table>\n",
       "</div>"
      ],
      "text/plain": [
       "  previous_play      ball  contact_foul  contact_in_on_base  contact_in_play_out    strike actual_outcome\n",
       "0   first_pitch  0.339773      0.104545            0.060227             0.089773  0.405682         strike"
      ]
     },
     "metadata": {},
     "output_type": "display_data"
    },
    {
     "name": "stdout",
     "output_type": "stream",
     "text": [
      "The count is 0-1\n"
     ]
    },
    {
     "name": "stderr",
     "output_type": "stream",
     "text": [
      "/usr/local/lib/python3.7/site-packages/ipykernel_launcher.py:15: FutureWarning: Dropping of nuisance columns in DataFrame reductions (with 'numeric_only=None') is deprecated; in a future version this will raise TypeError.  Select only valid columns before calling the reduction.\n",
      "  from ipykernel import kernelapp as app\n"
     ]
    },
    {
     "data": {
      "text/plain": [
       "'Hitter Matrix '"
      ]
     },
     "metadata": {},
     "output_type": "display_data"
    },
    {
     "data": {
      "text/html": [
       "<div>\n",
       "<style scoped>\n",
       "    .dataframe tbody tr th:only-of-type {\n",
       "        vertical-align: middle;\n",
       "    }\n",
       "\n",
       "    .dataframe tbody tr th {\n",
       "        vertical-align: top;\n",
       "    }\n",
       "\n",
       "    .dataframe thead th {\n",
       "        text-align: right;\n",
       "    }\n",
       "</style>\n",
       "<table border=\"1\" class=\"dataframe\">\n",
       "  <thead>\n",
       "    <tr style=\"text-align: right;\">\n",
       "      <th></th>\n",
       "      <th>previous_play</th>\n",
       "      <th>ball</th>\n",
       "      <th>contact_foul</th>\n",
       "      <th>contact_in_on_base</th>\n",
       "      <th>contact_in_play_out</th>\n",
       "      <th>strike</th>\n",
       "      <th>total</th>\n",
       "    </tr>\n",
       "  </thead>\n",
       "  <tbody>\n",
       "    <tr>\n",
       "      <th>0</th>\n",
       "      <td>contact_foul</td>\n",
       "      <td>0.315789</td>\n",
       "      <td>0.263158</td>\n",
       "      <td>0.052632</td>\n",
       "      <td>0.157895</td>\n",
       "      <td>0.210526</td>\n",
       "      <td>19</td>\n",
       "    </tr>\n",
       "    <tr>\n",
       "      <th>1</th>\n",
       "      <td>strike</td>\n",
       "      <td>0.333333</td>\n",
       "      <td>0.277778</td>\n",
       "      <td>0.088889</td>\n",
       "      <td>0.133333</td>\n",
       "      <td>0.166667</td>\n",
       "      <td>90</td>\n",
       "    </tr>\n",
       "  </tbody>\n",
       "</table>\n",
       "</div>"
      ],
      "text/plain": [
       "  previous_play      ball  contact_foul  contact_in_on_base  contact_in_play_out    strike  total\n",
       "0  contact_foul  0.315789      0.263158            0.052632             0.157895  0.210526     19\n",
       "1        strike  0.333333      0.277778            0.088889             0.133333  0.166667     90"
      ]
     },
     "metadata": {},
     "output_type": "display_data"
    },
    {
     "name": "stderr",
     "output_type": "stream",
     "text": [
      "/usr/local/lib/python3.7/site-packages/ipykernel_launcher.py:15: FutureWarning: Dropping of nuisance columns in DataFrame reductions (with 'numeric_only=None') is deprecated; in a future version this will raise TypeError.  Select only valid columns before calling the reduction.\n",
      "  from ipykernel import kernelapp as app\n"
     ]
    },
    {
     "data": {
      "text/plain": [
       "'Pitcher Matrix '"
      ]
     },
     "metadata": {},
     "output_type": "display_data"
    },
    {
     "data": {
      "text/html": [
       "<div>\n",
       "<style scoped>\n",
       "    .dataframe tbody tr th:only-of-type {\n",
       "        vertical-align: middle;\n",
       "    }\n",
       "\n",
       "    .dataframe tbody tr th {\n",
       "        vertical-align: top;\n",
       "    }\n",
       "\n",
       "    .dataframe thead th {\n",
       "        text-align: right;\n",
       "    }\n",
       "</style>\n",
       "<table border=\"1\" class=\"dataframe\">\n",
       "  <thead>\n",
       "    <tr style=\"text-align: right;\">\n",
       "      <th></th>\n",
       "      <th>previous_play</th>\n",
       "      <th>ball</th>\n",
       "      <th>contact_foul</th>\n",
       "      <th>contact_in_on_base</th>\n",
       "      <th>contact_in_play_out</th>\n",
       "      <th>strike</th>\n",
       "      <th>total</th>\n",
       "    </tr>\n",
       "  </thead>\n",
       "  <tbody>\n",
       "    <tr>\n",
       "      <th>0</th>\n",
       "      <td>contact_foul</td>\n",
       "      <td>0.383562</td>\n",
       "      <td>0.246575</td>\n",
       "      <td>0.027397</td>\n",
       "      <td>0.178082</td>\n",
       "      <td>0.164384</td>\n",
       "      <td>73</td>\n",
       "    </tr>\n",
       "    <tr>\n",
       "      <th>1</th>\n",
       "      <td>strike</td>\n",
       "      <td>0.370787</td>\n",
       "      <td>0.202247</td>\n",
       "      <td>0.044944</td>\n",
       "      <td>0.164794</td>\n",
       "      <td>0.217228</td>\n",
       "      <td>267</td>\n",
       "    </tr>\n",
       "  </tbody>\n",
       "</table>\n",
       "</div>"
      ],
      "text/plain": [
       "  previous_play      ball  contact_foul  contact_in_on_base  contact_in_play_out    strike  total\n",
       "0  contact_foul  0.383562      0.246575            0.027397             0.178082  0.164384     73\n",
       "1        strike  0.370787      0.202247            0.044944             0.164794  0.217228    267"
      ]
     },
     "metadata": {},
     "output_type": "display_data"
    },
    {
     "data": {
      "text/plain": [
       "'Events Probibility'"
      ]
     },
     "metadata": {},
     "output_type": "display_data"
    },
    {
     "data": {
      "text/html": [
       "<div>\n",
       "<style scoped>\n",
       "    .dataframe tbody tr th:only-of-type {\n",
       "        vertical-align: middle;\n",
       "    }\n",
       "\n",
       "    .dataframe tbody tr th {\n",
       "        vertical-align: top;\n",
       "    }\n",
       "\n",
       "    .dataframe thead th {\n",
       "        text-align: right;\n",
       "    }\n",
       "</style>\n",
       "<table border=\"1\" class=\"dataframe\">\n",
       "  <thead>\n",
       "    <tr style=\"text-align: right;\">\n",
       "      <th></th>\n",
       "      <th>previous_play</th>\n",
       "      <th>ball</th>\n",
       "      <th>contact_foul</th>\n",
       "      <th>contact_in_on_base</th>\n",
       "      <th>contact_in_play_out</th>\n",
       "      <th>strike</th>\n",
       "      <th>actual_outcome</th>\n",
       "    </tr>\n",
       "  </thead>\n",
       "  <tbody>\n",
       "    <tr>\n",
       "      <th>1</th>\n",
       "      <td>strike</td>\n",
       "      <td>0.361345</td>\n",
       "      <td>0.221289</td>\n",
       "      <td>0.056022</td>\n",
       "      <td>0.156863</td>\n",
       "      <td>0.204482</td>\n",
       "      <td>contact_foul</td>\n",
       "    </tr>\n",
       "  </tbody>\n",
       "</table>\n",
       "</div>"
      ],
      "text/plain": [
       "  previous_play      ball  contact_foul  contact_in_on_base  contact_in_play_out    strike actual_outcome\n",
       "1        strike  0.361345      0.221289            0.056022             0.156863  0.204482   contact_foul"
      ]
     },
     "metadata": {},
     "output_type": "display_data"
    },
    {
     "name": "stdout",
     "output_type": "stream",
     "text": [
      "The count is 0-2\n"
     ]
    },
    {
     "name": "stderr",
     "output_type": "stream",
     "text": [
      "/usr/local/lib/python3.7/site-packages/ipykernel_launcher.py:15: FutureWarning: Dropping of nuisance columns in DataFrame reductions (with 'numeric_only=None') is deprecated; in a future version this will raise TypeError.  Select only valid columns before calling the reduction.\n",
      "  from ipykernel import kernelapp as app\n"
     ]
    },
    {
     "data": {
      "text/plain": [
       "'Hitter Matrix '"
      ]
     },
     "metadata": {},
     "output_type": "display_data"
    },
    {
     "data": {
      "text/html": [
       "<div>\n",
       "<style scoped>\n",
       "    .dataframe tbody tr th:only-of-type {\n",
       "        vertical-align: middle;\n",
       "    }\n",
       "\n",
       "    .dataframe tbody tr th {\n",
       "        vertical-align: top;\n",
       "    }\n",
       "\n",
       "    .dataframe thead th {\n",
       "        text-align: right;\n",
       "    }\n",
       "</style>\n",
       "<table border=\"1\" class=\"dataframe\">\n",
       "  <thead>\n",
       "    <tr style=\"text-align: right;\">\n",
       "      <th></th>\n",
       "      <th>previous_play</th>\n",
       "      <th>ball</th>\n",
       "      <th>contact_foul</th>\n",
       "      <th>contact_in_on_base</th>\n",
       "      <th>contact_in_play_out</th>\n",
       "      <th>strikeout</th>\n",
       "      <th>total</th>\n",
       "    </tr>\n",
       "  </thead>\n",
       "  <tbody>\n",
       "    <tr>\n",
       "      <th>0</th>\n",
       "      <td>contact_foul</td>\n",
       "      <td>0.255319</td>\n",
       "      <td>0.255319</td>\n",
       "      <td>0.042553</td>\n",
       "      <td>0.234043</td>\n",
       "      <td>0.212766</td>\n",
       "      <td>47</td>\n",
       "    </tr>\n",
       "    <tr>\n",
       "      <th>1</th>\n",
       "      <td>strike</td>\n",
       "      <td>0.578947</td>\n",
       "      <td>0.263158</td>\n",
       "      <td>0.052632</td>\n",
       "      <td>0.000000</td>\n",
       "      <td>0.105263</td>\n",
       "      <td>19</td>\n",
       "    </tr>\n",
       "  </tbody>\n",
       "</table>\n",
       "</div>"
      ],
      "text/plain": [
       "  previous_play      ball  contact_foul  contact_in_on_base  contact_in_play_out  strikeout  total\n",
       "0  contact_foul  0.255319      0.255319            0.042553             0.234043   0.212766     47\n",
       "1        strike  0.578947      0.263158            0.052632             0.000000   0.105263     19"
      ]
     },
     "metadata": {},
     "output_type": "display_data"
    },
    {
     "name": "stderr",
     "output_type": "stream",
     "text": [
      "/usr/local/lib/python3.7/site-packages/ipykernel_launcher.py:15: FutureWarning: Dropping of nuisance columns in DataFrame reductions (with 'numeric_only=None') is deprecated; in a future version this will raise TypeError.  Select only valid columns before calling the reduction.\n",
      "  from ipykernel import kernelapp as app\n"
     ]
    },
    {
     "data": {
      "text/plain": [
       "'Pitcher Matrix '"
      ]
     },
     "metadata": {},
     "output_type": "display_data"
    },
    {
     "data": {
      "text/html": [
       "<div>\n",
       "<style scoped>\n",
       "    .dataframe tbody tr th:only-of-type {\n",
       "        vertical-align: middle;\n",
       "    }\n",
       "\n",
       "    .dataframe tbody tr th {\n",
       "        vertical-align: top;\n",
       "    }\n",
       "\n",
       "    .dataframe thead th {\n",
       "        text-align: right;\n",
       "    }\n",
       "</style>\n",
       "<table border=\"1\" class=\"dataframe\">\n",
       "  <thead>\n",
       "    <tr style=\"text-align: right;\">\n",
       "      <th></th>\n",
       "      <th>previous_play</th>\n",
       "      <th>ball</th>\n",
       "      <th>contact_foul</th>\n",
       "      <th>contact_in_on_base</th>\n",
       "      <th>contact_in_play_out</th>\n",
       "      <th>strikeout</th>\n",
       "      <th>total</th>\n",
       "    </tr>\n",
       "  </thead>\n",
       "  <tbody>\n",
       "    <tr>\n",
       "      <th>0</th>\n",
       "      <td>contact_foul</td>\n",
       "      <td>0.401869</td>\n",
       "      <td>0.214953</td>\n",
       "      <td>0.084112</td>\n",
       "      <td>0.186916</td>\n",
       "      <td>0.112150</td>\n",
       "      <td>107</td>\n",
       "    </tr>\n",
       "    <tr>\n",
       "      <th>1</th>\n",
       "      <td>strike</td>\n",
       "      <td>0.385714</td>\n",
       "      <td>0.200000</td>\n",
       "      <td>0.042857</td>\n",
       "      <td>0.114286</td>\n",
       "      <td>0.257143</td>\n",
       "      <td>70</td>\n",
       "    </tr>\n",
       "  </tbody>\n",
       "</table>\n",
       "</div>"
      ],
      "text/plain": [
       "  previous_play      ball  contact_foul  contact_in_on_base  contact_in_play_out  strikeout  total\n",
       "0  contact_foul  0.401869      0.214953            0.084112             0.186916   0.112150    107\n",
       "1        strike  0.385714      0.200000            0.042857             0.114286   0.257143     70"
      ]
     },
     "metadata": {},
     "output_type": "display_data"
    },
    {
     "data": {
      "text/plain": [
       "'Events Probibility'"
      ]
     },
     "metadata": {},
     "output_type": "display_data"
    },
    {
     "data": {
      "text/html": [
       "<div>\n",
       "<style scoped>\n",
       "    .dataframe tbody tr th:only-of-type {\n",
       "        vertical-align: middle;\n",
       "    }\n",
       "\n",
       "    .dataframe tbody tr th {\n",
       "        vertical-align: top;\n",
       "    }\n",
       "\n",
       "    .dataframe thead th {\n",
       "        text-align: right;\n",
       "    }\n",
       "</style>\n",
       "<table border=\"1\" class=\"dataframe\">\n",
       "  <thead>\n",
       "    <tr style=\"text-align: right;\">\n",
       "      <th></th>\n",
       "      <th>previous_play</th>\n",
       "      <th>ball</th>\n",
       "      <th>contact_foul</th>\n",
       "      <th>contact_in_on_base</th>\n",
       "      <th>contact_in_play_out</th>\n",
       "      <th>strikeout</th>\n",
       "      <th>actual_outcome</th>\n",
       "    </tr>\n",
       "  </thead>\n",
       "  <tbody>\n",
       "    <tr>\n",
       "      <th>0</th>\n",
       "      <td>contact_foul</td>\n",
       "      <td>0.357143</td>\n",
       "      <td>0.227273</td>\n",
       "      <td>0.071429</td>\n",
       "      <td>0.201299</td>\n",
       "      <td>0.142857</td>\n",
       "      <td>contact_in_on_base</td>\n",
       "    </tr>\n",
       "  </tbody>\n",
       "</table>\n",
       "</div>"
      ],
      "text/plain": [
       "  previous_play      ball  contact_foul  contact_in_on_base  contact_in_play_out  strikeout      actual_outcome\n",
       "0  contact_foul  0.357143      0.227273            0.071429             0.201299   0.142857  contact_in_on_base"
      ]
     },
     "metadata": {},
     "output_type": "display_data"
    },
    {
     "name": "stdout",
     "output_type": "stream",
     "text": [
      "----------------------------------------------------------------------------------------------------\n",
      "The hitter is: Jason_Kipnis\n",
      "The pitcher is: Marcus_Stroman\n",
      "The count is 0-0\n"
     ]
    },
    {
     "name": "stderr",
     "output_type": "stream",
     "text": [
      "/usr/local/lib/python3.7/site-packages/ipykernel_launcher.py:15: FutureWarning: Dropping of nuisance columns in DataFrame reductions (with 'numeric_only=None') is deprecated; in a future version this will raise TypeError.  Select only valid columns before calling the reduction.\n",
      "  from ipykernel import kernelapp as app\n"
     ]
    },
    {
     "data": {
      "text/plain": [
       "'Hitter Matrix '"
      ]
     },
     "metadata": {},
     "output_type": "display_data"
    },
    {
     "data": {
      "text/html": [
       "<div>\n",
       "<style scoped>\n",
       "    .dataframe tbody tr th:only-of-type {\n",
       "        vertical-align: middle;\n",
       "    }\n",
       "\n",
       "    .dataframe tbody tr th {\n",
       "        vertical-align: top;\n",
       "    }\n",
       "\n",
       "    .dataframe thead th {\n",
       "        text-align: right;\n",
       "    }\n",
       "</style>\n",
       "<table border=\"1\" class=\"dataframe\">\n",
       "  <thead>\n",
       "    <tr style=\"text-align: right;\">\n",
       "      <th></th>\n",
       "      <th>previous_play</th>\n",
       "      <th>ball</th>\n",
       "      <th>contact_foul</th>\n",
       "      <th>contact_in_on_base</th>\n",
       "      <th>contact_in_play_out</th>\n",
       "      <th>strike</th>\n",
       "      <th>total</th>\n",
       "    </tr>\n",
       "  </thead>\n",
       "  <tbody>\n",
       "    <tr>\n",
       "      <th>0</th>\n",
       "      <td>first_pitch</td>\n",
       "      <td>0.435626</td>\n",
       "      <td>0.047619</td>\n",
       "      <td>0.015873</td>\n",
       "      <td>0.044092</td>\n",
       "      <td>0.45679</td>\n",
       "      <td>567</td>\n",
       "    </tr>\n",
       "  </tbody>\n",
       "</table>\n",
       "</div>"
      ],
      "text/plain": [
       "  previous_play      ball  contact_foul  contact_in_on_base  contact_in_play_out   strike  total\n",
       "0   first_pitch  0.435626      0.047619            0.015873             0.044092  0.45679    567"
      ]
     },
     "metadata": {},
     "output_type": "display_data"
    },
    {
     "name": "stderr",
     "output_type": "stream",
     "text": [
      "/usr/local/lib/python3.7/site-packages/ipykernel_launcher.py:15: FutureWarning: Dropping of nuisance columns in DataFrame reductions (with 'numeric_only=None') is deprecated; in a future version this will raise TypeError.  Select only valid columns before calling the reduction.\n",
      "  from ipykernel import kernelapp as app\n"
     ]
    },
    {
     "data": {
      "text/plain": [
       "'Pitcher Matrix '"
      ]
     },
     "metadata": {},
     "output_type": "display_data"
    },
    {
     "data": {
      "text/html": [
       "<div>\n",
       "<style scoped>\n",
       "    .dataframe tbody tr th:only-of-type {\n",
       "        vertical-align: middle;\n",
       "    }\n",
       "\n",
       "    .dataframe tbody tr th {\n",
       "        vertical-align: top;\n",
       "    }\n",
       "\n",
       "    .dataframe thead th {\n",
       "        text-align: right;\n",
       "    }\n",
       "</style>\n",
       "<table border=\"1\" class=\"dataframe\">\n",
       "  <thead>\n",
       "    <tr style=\"text-align: right;\">\n",
       "      <th></th>\n",
       "      <th>previous_play</th>\n",
       "      <th>ball</th>\n",
       "      <th>contact_foul</th>\n",
       "      <th>contact_in_on_base</th>\n",
       "      <th>contact_in_play_out</th>\n",
       "      <th>strike</th>\n",
       "      <th>total</th>\n",
       "    </tr>\n",
       "  </thead>\n",
       "  <tbody>\n",
       "    <tr>\n",
       "      <th>0</th>\n",
       "      <td>first_pitch</td>\n",
       "      <td>0.387399</td>\n",
       "      <td>0.101877</td>\n",
       "      <td>0.034853</td>\n",
       "      <td>0.093834</td>\n",
       "      <td>0.382038</td>\n",
       "      <td>746</td>\n",
       "    </tr>\n",
       "  </tbody>\n",
       "</table>\n",
       "</div>"
      ],
      "text/plain": [
       "  previous_play      ball  contact_foul  contact_in_on_base  contact_in_play_out    strike  total\n",
       "0   first_pitch  0.387399      0.101877            0.034853             0.093834  0.382038    746"
      ]
     },
     "metadata": {},
     "output_type": "display_data"
    },
    {
     "data": {
      "text/plain": [
       "'Events Probibility'"
      ]
     },
     "metadata": {},
     "output_type": "display_data"
    },
    {
     "data": {
      "text/html": [
       "<div>\n",
       "<style scoped>\n",
       "    .dataframe tbody tr th:only-of-type {\n",
       "        vertical-align: middle;\n",
       "    }\n",
       "\n",
       "    .dataframe tbody tr th {\n",
       "        vertical-align: top;\n",
       "    }\n",
       "\n",
       "    .dataframe thead th {\n",
       "        text-align: right;\n",
       "    }\n",
       "</style>\n",
       "<table border=\"1\" class=\"dataframe\">\n",
       "  <thead>\n",
       "    <tr style=\"text-align: right;\">\n",
       "      <th></th>\n",
       "      <th>previous_play</th>\n",
       "      <th>ball</th>\n",
       "      <th>contact_foul</th>\n",
       "      <th>contact_in_on_base</th>\n",
       "      <th>contact_in_play_out</th>\n",
       "      <th>strike</th>\n",
       "      <th>actual_outcome</th>\n",
       "    </tr>\n",
       "  </thead>\n",
       "  <tbody>\n",
       "    <tr>\n",
       "      <th>0</th>\n",
       "      <td>first_pitch</td>\n",
       "      <td>0.408225</td>\n",
       "      <td>0.078446</td>\n",
       "      <td>0.026657</td>\n",
       "      <td>0.072353</td>\n",
       "      <td>0.414318</td>\n",
       "      <td>ball</td>\n",
       "    </tr>\n",
       "  </tbody>\n",
       "</table>\n",
       "</div>"
      ],
      "text/plain": [
       "  previous_play      ball  contact_foul  contact_in_on_base  contact_in_play_out    strike actual_outcome\n",
       "0   first_pitch  0.408225      0.078446            0.026657             0.072353  0.414318           ball"
      ]
     },
     "metadata": {},
     "output_type": "display_data"
    },
    {
     "name": "stdout",
     "output_type": "stream",
     "text": [
      "The count is 1-0\n"
     ]
    },
    {
     "name": "stderr",
     "output_type": "stream",
     "text": [
      "/usr/local/lib/python3.7/site-packages/ipykernel_launcher.py:15: FutureWarning: Dropping of nuisance columns in DataFrame reductions (with 'numeric_only=None') is deprecated; in a future version this will raise TypeError.  Select only valid columns before calling the reduction.\n",
      "  from ipykernel import kernelapp as app\n"
     ]
    },
    {
     "data": {
      "text/plain": [
       "'Hitter Matrix '"
      ]
     },
     "metadata": {},
     "output_type": "display_data"
    },
    {
     "data": {
      "text/html": [
       "<div>\n",
       "<style scoped>\n",
       "    .dataframe tbody tr th:only-of-type {\n",
       "        vertical-align: middle;\n",
       "    }\n",
       "\n",
       "    .dataframe tbody tr th {\n",
       "        vertical-align: top;\n",
       "    }\n",
       "\n",
       "    .dataframe thead th {\n",
       "        text-align: right;\n",
       "    }\n",
       "</style>\n",
       "<table border=\"1\" class=\"dataframe\">\n",
       "  <thead>\n",
       "    <tr style=\"text-align: right;\">\n",
       "      <th></th>\n",
       "      <th>previous_play</th>\n",
       "      <th>ball</th>\n",
       "      <th>contact_foul</th>\n",
       "      <th>contact_in_on_base</th>\n",
       "      <th>contact_in_play_out</th>\n",
       "      <th>strike</th>\n",
       "      <th>total</th>\n",
       "    </tr>\n",
       "  </thead>\n",
       "  <tbody>\n",
       "    <tr>\n",
       "      <th>0</th>\n",
       "      <td>ball</td>\n",
       "      <td>0.340081</td>\n",
       "      <td>0.161943</td>\n",
       "      <td>0.05668</td>\n",
       "      <td>0.097166</td>\n",
       "      <td>0.34413</td>\n",
       "      <td>247</td>\n",
       "    </tr>\n",
       "  </tbody>\n",
       "</table>\n",
       "</div>"
      ],
      "text/plain": [
       "  previous_play      ball  contact_foul  contact_in_on_base  contact_in_play_out   strike  total\n",
       "0          ball  0.340081      0.161943             0.05668             0.097166  0.34413    247"
      ]
     },
     "metadata": {},
     "output_type": "display_data"
    },
    {
     "name": "stderr",
     "output_type": "stream",
     "text": [
      "/usr/local/lib/python3.7/site-packages/ipykernel_launcher.py:15: FutureWarning: Dropping of nuisance columns in DataFrame reductions (with 'numeric_only=None') is deprecated; in a future version this will raise TypeError.  Select only valid columns before calling the reduction.\n",
      "  from ipykernel import kernelapp as app\n"
     ]
    },
    {
     "data": {
      "text/plain": [
       "'Pitcher Matrix '"
      ]
     },
     "metadata": {},
     "output_type": "display_data"
    },
    {
     "data": {
      "text/html": [
       "<div>\n",
       "<style scoped>\n",
       "    .dataframe tbody tr th:only-of-type {\n",
       "        vertical-align: middle;\n",
       "    }\n",
       "\n",
       "    .dataframe tbody tr th {\n",
       "        vertical-align: top;\n",
       "    }\n",
       "\n",
       "    .dataframe thead th {\n",
       "        text-align: right;\n",
       "    }\n",
       "</style>\n",
       "<table border=\"1\" class=\"dataframe\">\n",
       "  <thead>\n",
       "    <tr style=\"text-align: right;\">\n",
       "      <th></th>\n",
       "      <th>previous_play</th>\n",
       "      <th>ball</th>\n",
       "      <th>contact_foul</th>\n",
       "      <th>contact_in_on_base</th>\n",
       "      <th>contact_in_play_out</th>\n",
       "      <th>strike</th>\n",
       "      <th>total</th>\n",
       "    </tr>\n",
       "  </thead>\n",
       "  <tbody>\n",
       "    <tr>\n",
       "      <th>0</th>\n",
       "      <td>ball</td>\n",
       "      <td>0.280277</td>\n",
       "      <td>0.16609</td>\n",
       "      <td>0.107266</td>\n",
       "      <td>0.121107</td>\n",
       "      <td>0.32526</td>\n",
       "      <td>289</td>\n",
       "    </tr>\n",
       "  </tbody>\n",
       "</table>\n",
       "</div>"
      ],
      "text/plain": [
       "  previous_play      ball  contact_foul  contact_in_on_base  contact_in_play_out   strike  total\n",
       "0          ball  0.280277       0.16609            0.107266             0.121107  0.32526    289"
      ]
     },
     "metadata": {},
     "output_type": "display_data"
    },
    {
     "data": {
      "text/plain": [
       "'Events Probibility'"
      ]
     },
     "metadata": {},
     "output_type": "display_data"
    },
    {
     "data": {
      "text/html": [
       "<div>\n",
       "<style scoped>\n",
       "    .dataframe tbody tr th:only-of-type {\n",
       "        vertical-align: middle;\n",
       "    }\n",
       "\n",
       "    .dataframe tbody tr th {\n",
       "        vertical-align: top;\n",
       "    }\n",
       "\n",
       "    .dataframe thead th {\n",
       "        text-align: right;\n",
       "    }\n",
       "</style>\n",
       "<table border=\"1\" class=\"dataframe\">\n",
       "  <thead>\n",
       "    <tr style=\"text-align: right;\">\n",
       "      <th></th>\n",
       "      <th>previous_play</th>\n",
       "      <th>ball</th>\n",
       "      <th>contact_foul</th>\n",
       "      <th>contact_in_on_base</th>\n",
       "      <th>contact_in_play_out</th>\n",
       "      <th>strike</th>\n",
       "      <th>actual_outcome</th>\n",
       "    </tr>\n",
       "  </thead>\n",
       "  <tbody>\n",
       "    <tr>\n",
       "      <th>0</th>\n",
       "      <td>ball</td>\n",
       "      <td>0.307836</td>\n",
       "      <td>0.164179</td>\n",
       "      <td>0.083955</td>\n",
       "      <td>0.110075</td>\n",
       "      <td>0.333955</td>\n",
       "      <td>contact_in_play_out</td>\n",
       "    </tr>\n",
       "  </tbody>\n",
       "</table>\n",
       "</div>"
      ],
      "text/plain": [
       "  previous_play      ball  contact_foul  contact_in_on_base  contact_in_play_out    strike       actual_outcome\n",
       "0          ball  0.307836      0.164179            0.083955             0.110075  0.333955  contact_in_play_out"
      ]
     },
     "metadata": {},
     "output_type": "display_data"
    },
    {
     "name": "stdout",
     "output_type": "stream",
     "text": [
      "----------------------------------------------------------------------------------------------------\n",
      "The hitter is: Rajai_Davis\n",
      "The pitcher is: Drew_Storen\n",
      "The count is 0-0\n"
     ]
    },
    {
     "name": "stderr",
     "output_type": "stream",
     "text": [
      "/usr/local/lib/python3.7/site-packages/ipykernel_launcher.py:15: FutureWarning: Dropping of nuisance columns in DataFrame reductions (with 'numeric_only=None') is deprecated; in a future version this will raise TypeError.  Select only valid columns before calling the reduction.\n",
      "  from ipykernel import kernelapp as app\n"
     ]
    },
    {
     "data": {
      "text/plain": [
       "'Hitter Matrix '"
      ]
     },
     "metadata": {},
     "output_type": "display_data"
    },
    {
     "data": {
      "text/html": [
       "<div>\n",
       "<style scoped>\n",
       "    .dataframe tbody tr th:only-of-type {\n",
       "        vertical-align: middle;\n",
       "    }\n",
       "\n",
       "    .dataframe tbody tr th {\n",
       "        vertical-align: top;\n",
       "    }\n",
       "\n",
       "    .dataframe thead th {\n",
       "        text-align: right;\n",
       "    }\n",
       "</style>\n",
       "<table border=\"1\" class=\"dataframe\">\n",
       "  <thead>\n",
       "    <tr style=\"text-align: right;\">\n",
       "      <th></th>\n",
       "      <th>previous_play</th>\n",
       "      <th>ball</th>\n",
       "      <th>contact_foul</th>\n",
       "      <th>contact_in_on_base</th>\n",
       "      <th>contact_in_play_out</th>\n",
       "      <th>strike</th>\n",
       "      <th>total</th>\n",
       "    </tr>\n",
       "  </thead>\n",
       "  <tbody>\n",
       "    <tr>\n",
       "      <th>0</th>\n",
       "      <td>first_pitch</td>\n",
       "      <td>0.386792</td>\n",
       "      <td>0.117925</td>\n",
       "      <td>0.04717</td>\n",
       "      <td>0.089623</td>\n",
       "      <td>0.358491</td>\n",
       "      <td>424</td>\n",
       "    </tr>\n",
       "  </tbody>\n",
       "</table>\n",
       "</div>"
      ],
      "text/plain": [
       "  previous_play      ball  contact_foul  contact_in_on_base  contact_in_play_out    strike  total\n",
       "0   first_pitch  0.386792      0.117925             0.04717             0.089623  0.358491    424"
      ]
     },
     "metadata": {},
     "output_type": "display_data"
    },
    {
     "name": "stderr",
     "output_type": "stream",
     "text": [
      "/usr/local/lib/python3.7/site-packages/ipykernel_launcher.py:15: FutureWarning: Dropping of nuisance columns in DataFrame reductions (with 'numeric_only=None') is deprecated; in a future version this will raise TypeError.  Select only valid columns before calling the reduction.\n",
      "  from ipykernel import kernelapp as app\n"
     ]
    },
    {
     "data": {
      "text/plain": [
       "'Pitcher Matrix '"
      ]
     },
     "metadata": {},
     "output_type": "display_data"
    },
    {
     "data": {
      "text/html": [
       "<div>\n",
       "<style scoped>\n",
       "    .dataframe tbody tr th:only-of-type {\n",
       "        vertical-align: middle;\n",
       "    }\n",
       "\n",
       "    .dataframe tbody tr th {\n",
       "        vertical-align: top;\n",
       "    }\n",
       "\n",
       "    .dataframe thead th {\n",
       "        text-align: right;\n",
       "    }\n",
       "</style>\n",
       "<table border=\"1\" class=\"dataframe\">\n",
       "  <thead>\n",
       "    <tr style=\"text-align: right;\">\n",
       "      <th></th>\n",
       "      <th>previous_play</th>\n",
       "      <th>ball</th>\n",
       "      <th>contact_foul</th>\n",
       "      <th>contact_in_on_base</th>\n",
       "      <th>contact_in_play_out</th>\n",
       "      <th>strike</th>\n",
       "      <th>total</th>\n",
       "    </tr>\n",
       "  </thead>\n",
       "  <tbody>\n",
       "    <tr>\n",
       "      <th>0</th>\n",
       "      <td>first_pitch</td>\n",
       "      <td>0.340102</td>\n",
       "      <td>0.13198</td>\n",
       "      <td>0.030457</td>\n",
       "      <td>0.040609</td>\n",
       "      <td>0.456853</td>\n",
       "      <td>197</td>\n",
       "    </tr>\n",
       "  </tbody>\n",
       "</table>\n",
       "</div>"
      ],
      "text/plain": [
       "  previous_play      ball  contact_foul  contact_in_on_base  contact_in_play_out    strike  total\n",
       "0   first_pitch  0.340102       0.13198            0.030457             0.040609  0.456853    197"
      ]
     },
     "metadata": {},
     "output_type": "display_data"
    },
    {
     "data": {
      "text/plain": [
       "'Events Probibility'"
      ]
     },
     "metadata": {},
     "output_type": "display_data"
    },
    {
     "data": {
      "text/html": [
       "<div>\n",
       "<style scoped>\n",
       "    .dataframe tbody tr th:only-of-type {\n",
       "        vertical-align: middle;\n",
       "    }\n",
       "\n",
       "    .dataframe tbody tr th {\n",
       "        vertical-align: top;\n",
       "    }\n",
       "\n",
       "    .dataframe thead th {\n",
       "        text-align: right;\n",
       "    }\n",
       "</style>\n",
       "<table border=\"1\" class=\"dataframe\">\n",
       "  <thead>\n",
       "    <tr style=\"text-align: right;\">\n",
       "      <th></th>\n",
       "      <th>previous_play</th>\n",
       "      <th>ball</th>\n",
       "      <th>contact_foul</th>\n",
       "      <th>contact_in_on_base</th>\n",
       "      <th>contact_in_play_out</th>\n",
       "      <th>strike</th>\n",
       "      <th>actual_outcome</th>\n",
       "    </tr>\n",
       "  </thead>\n",
       "  <tbody>\n",
       "    <tr>\n",
       "      <th>0</th>\n",
       "      <td>first_pitch</td>\n",
       "      <td>0.371981</td>\n",
       "      <td>0.122383</td>\n",
       "      <td>0.041868</td>\n",
       "      <td>0.074074</td>\n",
       "      <td>0.389694</td>\n",
       "      <td>ball</td>\n",
       "    </tr>\n",
       "  </tbody>\n",
       "</table>\n",
       "</div>"
      ],
      "text/plain": [
       "  previous_play      ball  contact_foul  contact_in_on_base  contact_in_play_out    strike actual_outcome\n",
       "0   first_pitch  0.371981      0.122383            0.041868             0.074074  0.389694           ball"
      ]
     },
     "metadata": {},
     "output_type": "display_data"
    },
    {
     "name": "stdout",
     "output_type": "stream",
     "text": [
      "The count is 1-0\n"
     ]
    },
    {
     "name": "stderr",
     "output_type": "stream",
     "text": [
      "/usr/local/lib/python3.7/site-packages/ipykernel_launcher.py:15: FutureWarning: Dropping of nuisance columns in DataFrame reductions (with 'numeric_only=None') is deprecated; in a future version this will raise TypeError.  Select only valid columns before calling the reduction.\n",
      "  from ipykernel import kernelapp as app\n"
     ]
    },
    {
     "data": {
      "text/plain": [
       "'Hitter Matrix '"
      ]
     },
     "metadata": {},
     "output_type": "display_data"
    },
    {
     "data": {
      "text/html": [
       "<div>\n",
       "<style scoped>\n",
       "    .dataframe tbody tr th:only-of-type {\n",
       "        vertical-align: middle;\n",
       "    }\n",
       "\n",
       "    .dataframe tbody tr th {\n",
       "        vertical-align: top;\n",
       "    }\n",
       "\n",
       "    .dataframe thead th {\n",
       "        text-align: right;\n",
       "    }\n",
       "</style>\n",
       "<table border=\"1\" class=\"dataframe\">\n",
       "  <thead>\n",
       "    <tr style=\"text-align: right;\">\n",
       "      <th></th>\n",
       "      <th>previous_play</th>\n",
       "      <th>ball</th>\n",
       "      <th>contact_foul</th>\n",
       "      <th>contact_in_on_base</th>\n",
       "      <th>contact_in_play_out</th>\n",
       "      <th>strike</th>\n",
       "      <th>total</th>\n",
       "    </tr>\n",
       "  </thead>\n",
       "  <tbody>\n",
       "    <tr>\n",
       "      <th>0</th>\n",
       "      <td>ball</td>\n",
       "      <td>0.27439</td>\n",
       "      <td>0.22561</td>\n",
       "      <td>0.115854</td>\n",
       "      <td>0.152439</td>\n",
       "      <td>0.231707</td>\n",
       "      <td>164</td>\n",
       "    </tr>\n",
       "  </tbody>\n",
       "</table>\n",
       "</div>"
      ],
      "text/plain": [
       "  previous_play     ball  contact_foul  contact_in_on_base  contact_in_play_out    strike  total\n",
       "0          ball  0.27439       0.22561            0.115854             0.152439  0.231707    164"
      ]
     },
     "metadata": {},
     "output_type": "display_data"
    },
    {
     "name": "stderr",
     "output_type": "stream",
     "text": [
      "/usr/local/lib/python3.7/site-packages/ipykernel_launcher.py:15: FutureWarning: Dropping of nuisance columns in DataFrame reductions (with 'numeric_only=None') is deprecated; in a future version this will raise TypeError.  Select only valid columns before calling the reduction.\n",
      "  from ipykernel import kernelapp as app\n"
     ]
    },
    {
     "data": {
      "text/plain": [
       "'Pitcher Matrix '"
      ]
     },
     "metadata": {},
     "output_type": "display_data"
    },
    {
     "data": {
      "text/html": [
       "<div>\n",
       "<style scoped>\n",
       "    .dataframe tbody tr th:only-of-type {\n",
       "        vertical-align: middle;\n",
       "    }\n",
       "\n",
       "    .dataframe tbody tr th {\n",
       "        vertical-align: top;\n",
       "    }\n",
       "\n",
       "    .dataframe thead th {\n",
       "        text-align: right;\n",
       "    }\n",
       "</style>\n",
       "<table border=\"1\" class=\"dataframe\">\n",
       "  <thead>\n",
       "    <tr style=\"text-align: right;\">\n",
       "      <th></th>\n",
       "      <th>previous_play</th>\n",
       "      <th>ball</th>\n",
       "      <th>contact_foul</th>\n",
       "      <th>contact_in_on_base</th>\n",
       "      <th>contact_in_play_out</th>\n",
       "      <th>strike</th>\n",
       "      <th>total</th>\n",
       "    </tr>\n",
       "  </thead>\n",
       "  <tbody>\n",
       "    <tr>\n",
       "      <th>0</th>\n",
       "      <td>ball</td>\n",
       "      <td>0.373134</td>\n",
       "      <td>0.149254</td>\n",
       "      <td>0.074627</td>\n",
       "      <td>0.089552</td>\n",
       "      <td>0.313433</td>\n",
       "      <td>67</td>\n",
       "    </tr>\n",
       "  </tbody>\n",
       "</table>\n",
       "</div>"
      ],
      "text/plain": [
       "  previous_play      ball  contact_foul  contact_in_on_base  contact_in_play_out    strike  total\n",
       "0          ball  0.373134      0.149254            0.074627             0.089552  0.313433     67"
      ]
     },
     "metadata": {},
     "output_type": "display_data"
    },
    {
     "data": {
      "text/plain": [
       "'Events Probibility'"
      ]
     },
     "metadata": {},
     "output_type": "display_data"
    },
    {
     "data": {
      "text/html": [
       "<div>\n",
       "<style scoped>\n",
       "    .dataframe tbody tr th:only-of-type {\n",
       "        vertical-align: middle;\n",
       "    }\n",
       "\n",
       "    .dataframe tbody tr th {\n",
       "        vertical-align: top;\n",
       "    }\n",
       "\n",
       "    .dataframe thead th {\n",
       "        text-align: right;\n",
       "    }\n",
       "</style>\n",
       "<table border=\"1\" class=\"dataframe\">\n",
       "  <thead>\n",
       "    <tr style=\"text-align: right;\">\n",
       "      <th></th>\n",
       "      <th>previous_play</th>\n",
       "      <th>ball</th>\n",
       "      <th>contact_foul</th>\n",
       "      <th>contact_in_on_base</th>\n",
       "      <th>contact_in_play_out</th>\n",
       "      <th>strike</th>\n",
       "      <th>actual_outcome</th>\n",
       "    </tr>\n",
       "  </thead>\n",
       "  <tbody>\n",
       "    <tr>\n",
       "      <th>0</th>\n",
       "      <td>ball</td>\n",
       "      <td>0.30303</td>\n",
       "      <td>0.203463</td>\n",
       "      <td>0.103896</td>\n",
       "      <td>0.134199</td>\n",
       "      <td>0.255411</td>\n",
       "      <td>contact_foul</td>\n",
       "    </tr>\n",
       "  </tbody>\n",
       "</table>\n",
       "</div>"
      ],
      "text/plain": [
       "  previous_play     ball  contact_foul  contact_in_on_base  contact_in_play_out    strike actual_outcome\n",
       "0          ball  0.30303      0.203463            0.103896             0.134199  0.255411   contact_foul"
      ]
     },
     "metadata": {},
     "output_type": "display_data"
    },
    {
     "name": "stdout",
     "output_type": "stream",
     "text": [
      "The count is 1-1\n"
     ]
    },
    {
     "name": "stderr",
     "output_type": "stream",
     "text": [
      "/usr/local/lib/python3.7/site-packages/ipykernel_launcher.py:15: FutureWarning: Dropping of nuisance columns in DataFrame reductions (with 'numeric_only=None') is deprecated; in a future version this will raise TypeError.  Select only valid columns before calling the reduction.\n",
      "  from ipykernel import kernelapp as app\n"
     ]
    },
    {
     "data": {
      "text/plain": [
       "'Hitter Matrix '"
      ]
     },
     "metadata": {},
     "output_type": "display_data"
    },
    {
     "data": {
      "text/html": [
       "<div>\n",
       "<style scoped>\n",
       "    .dataframe tbody tr th:only-of-type {\n",
       "        vertical-align: middle;\n",
       "    }\n",
       "\n",
       "    .dataframe tbody tr th {\n",
       "        vertical-align: top;\n",
       "    }\n",
       "\n",
       "    .dataframe thead th {\n",
       "        text-align: right;\n",
       "    }\n",
       "</style>\n",
       "<table border=\"1\" class=\"dataframe\">\n",
       "  <thead>\n",
       "    <tr style=\"text-align: right;\">\n",
       "      <th></th>\n",
       "      <th>previous_play</th>\n",
       "      <th>ball</th>\n",
       "      <th>contact_foul</th>\n",
       "      <th>contact_in_on_base</th>\n",
       "      <th>contact_in_play_out</th>\n",
       "      <th>strike</th>\n",
       "      <th>total</th>\n",
       "    </tr>\n",
       "  </thead>\n",
       "  <tbody>\n",
       "    <tr>\n",
       "      <th>0</th>\n",
       "      <td>ball</td>\n",
       "      <td>0.260870</td>\n",
       "      <td>0.260870</td>\n",
       "      <td>0.101449</td>\n",
       "      <td>0.144928</td>\n",
       "      <td>0.231884</td>\n",
       "      <td>69</td>\n",
       "    </tr>\n",
       "    <tr>\n",
       "      <th>1</th>\n",
       "      <td>contact_foul</td>\n",
       "      <td>0.351351</td>\n",
       "      <td>0.189189</td>\n",
       "      <td>0.000000</td>\n",
       "      <td>0.135135</td>\n",
       "      <td>0.324324</td>\n",
       "      <td>37</td>\n",
       "    </tr>\n",
       "    <tr>\n",
       "      <th>2</th>\n",
       "      <td>strike</td>\n",
       "      <td>0.263158</td>\n",
       "      <td>0.289474</td>\n",
       "      <td>0.052632</td>\n",
       "      <td>0.078947</td>\n",
       "      <td>0.315789</td>\n",
       "      <td>38</td>\n",
       "    </tr>\n",
       "  </tbody>\n",
       "</table>\n",
       "</div>"
      ],
      "text/plain": [
       "  previous_play      ball  contact_foul  contact_in_on_base  contact_in_play_out    strike  total\n",
       "0          ball  0.260870      0.260870            0.101449             0.144928  0.231884     69\n",
       "1  contact_foul  0.351351      0.189189            0.000000             0.135135  0.324324     37\n",
       "2        strike  0.263158      0.289474            0.052632             0.078947  0.315789     38"
      ]
     },
     "metadata": {},
     "output_type": "display_data"
    },
    {
     "name": "stderr",
     "output_type": "stream",
     "text": [
      "/usr/local/lib/python3.7/site-packages/ipykernel_launcher.py:15: FutureWarning: Dropping of nuisance columns in DataFrame reductions (with 'numeric_only=None') is deprecated; in a future version this will raise TypeError.  Select only valid columns before calling the reduction.\n",
      "  from ipykernel import kernelapp as app\n"
     ]
    },
    {
     "data": {
      "text/plain": [
       "'Pitcher Matrix '"
      ]
     },
     "metadata": {},
     "output_type": "display_data"
    },
    {
     "data": {
      "text/html": [
       "<div>\n",
       "<style scoped>\n",
       "    .dataframe tbody tr th:only-of-type {\n",
       "        vertical-align: middle;\n",
       "    }\n",
       "\n",
       "    .dataframe tbody tr th {\n",
       "        vertical-align: top;\n",
       "    }\n",
       "\n",
       "    .dataframe thead th {\n",
       "        text-align: right;\n",
       "    }\n",
       "</style>\n",
       "<table border=\"1\" class=\"dataframe\">\n",
       "  <thead>\n",
       "    <tr style=\"text-align: right;\">\n",
       "      <th></th>\n",
       "      <th>previous_play</th>\n",
       "      <th>ball</th>\n",
       "      <th>contact_foul</th>\n",
       "      <th>contact_in_on_base</th>\n",
       "      <th>contact_in_play_out</th>\n",
       "      <th>strike</th>\n",
       "      <th>total</th>\n",
       "    </tr>\n",
       "  </thead>\n",
       "  <tbody>\n",
       "    <tr>\n",
       "      <th>0</th>\n",
       "      <td>ball</td>\n",
       "      <td>0.365854</td>\n",
       "      <td>0.243902</td>\n",
       "      <td>0.097561</td>\n",
       "      <td>0.024390</td>\n",
       "      <td>0.268293</td>\n",
       "      <td>41</td>\n",
       "    </tr>\n",
       "    <tr>\n",
       "      <th>1</th>\n",
       "      <td>contact_foul</td>\n",
       "      <td>0.400000</td>\n",
       "      <td>0.100000</td>\n",
       "      <td>0.100000</td>\n",
       "      <td>0.100000</td>\n",
       "      <td>0.300000</td>\n",
       "      <td>10</td>\n",
       "    </tr>\n",
       "    <tr>\n",
       "      <th>2</th>\n",
       "      <td>strike</td>\n",
       "      <td>0.333333</td>\n",
       "      <td>0.047619</td>\n",
       "      <td>0.190476</td>\n",
       "      <td>0.190476</td>\n",
       "      <td>0.238095</td>\n",
       "      <td>21</td>\n",
       "    </tr>\n",
       "  </tbody>\n",
       "</table>\n",
       "</div>"
      ],
      "text/plain": [
       "  previous_play      ball  contact_foul  contact_in_on_base  contact_in_play_out    strike  total\n",
       "0          ball  0.365854      0.243902            0.097561             0.024390  0.268293     41\n",
       "1  contact_foul  0.400000      0.100000            0.100000             0.100000  0.300000     10\n",
       "2        strike  0.333333      0.047619            0.190476             0.190476  0.238095     21"
      ]
     },
     "metadata": {},
     "output_type": "display_data"
    },
    {
     "data": {
      "text/plain": [
       "'Events Probibility'"
      ]
     },
     "metadata": {},
     "output_type": "display_data"
    },
    {
     "data": {
      "text/html": [
       "<div>\n",
       "<style scoped>\n",
       "    .dataframe tbody tr th:only-of-type {\n",
       "        vertical-align: middle;\n",
       "    }\n",
       "\n",
       "    .dataframe tbody tr th {\n",
       "        vertical-align: top;\n",
       "    }\n",
       "\n",
       "    .dataframe thead th {\n",
       "        text-align: right;\n",
       "    }\n",
       "</style>\n",
       "<table border=\"1\" class=\"dataframe\">\n",
       "  <thead>\n",
       "    <tr style=\"text-align: right;\">\n",
       "      <th></th>\n",
       "      <th>previous_play</th>\n",
       "      <th>ball</th>\n",
       "      <th>contact_foul</th>\n",
       "      <th>contact_in_on_base</th>\n",
       "      <th>contact_in_play_out</th>\n",
       "      <th>strike</th>\n",
       "      <th>actual_outcome</th>\n",
       "    </tr>\n",
       "  </thead>\n",
       "  <tbody>\n",
       "    <tr>\n",
       "      <th>1</th>\n",
       "      <td>contact_foul</td>\n",
       "      <td>0.361702</td>\n",
       "      <td>0.170213</td>\n",
       "      <td>0.021277</td>\n",
       "      <td>0.12766</td>\n",
       "      <td>0.319149</td>\n",
       "      <td>contact_in_play_out</td>\n",
       "    </tr>\n",
       "  </tbody>\n",
       "</table>\n",
       "</div>"
      ],
      "text/plain": [
       "  previous_play      ball  contact_foul  contact_in_on_base  contact_in_play_out    strike       actual_outcome\n",
       "1  contact_foul  0.361702      0.170213            0.021277              0.12766  0.319149  contact_in_play_out"
      ]
     },
     "metadata": {},
     "output_type": "display_data"
    },
    {
     "name": "stdout",
     "output_type": "stream",
     "text": [
      "----------------------------------------------------------------------------------------------------\n"
     ]
    }
   ],
   "source": [
    "results_df = pd.DataFrame()\n",
    "for counter_i, test_bat_id in enumerate(test_bat_ids): \n",
    "    bat_df = clean_df.loc[clean_df['bat_id'] == test_bat_id]\n",
    "    \n",
    "    # get the name of the hitter and pitcher\n",
    "    hitter, pitcher = bat_df['hitter_full_name'].unique().item(), bat_df['pitcher_full_name'].unique().item()\n",
    "    print(f'The hitter is: {hitter}')\n",
    "    print(f'The pitcher is: {pitcher}')\n",
    "    total_events = sorted(bat_df['event_num'].tolist())\n",
    "\n",
    "    for event in total_events: \n",
    "        # get the count at that event in time\n",
    "        count_df = bat_df.loc[bat_df['event_num'] == event]\n",
    "        pitch_id = count_df['pitch_id'].item()\n",
    "        prev_outcome = count_df['prev_assigned_outcome'].item()\n",
    "        actual_outcome = count_df['assigned_outcome'].item()\n",
    "        balls, strikes = count_df['startingBalls'].item(), count_df['startingStrikes'].item()\n",
    "        print(f'The count is {balls}-{strikes}')\n",
    "        \n",
    "        # pull the transition matrix for all times this count occured in the dataset\n",
    "        # remove this certain at bat for both hitter and pitcher\n",
    "        hitter_matrix = compute_hitter_matrix(\n",
    "            clean_df=clean_df, \n",
    "            hitter=hitter, \n",
    "            strikes=strikes, \n",
    "            balls=balls, \n",
    "            bat_id=bat_id\n",
    "        )\n",
    "        display('Hitter Matrix ', hitter_matrix)\n",
    "\n",
    "        pitcher_matrix = compute_pitcher_matrix(\n",
    "            clean_df=clean_df, \n",
    "            pitcher=pitcher, \n",
    "            strikes=strikes, \n",
    "            balls=balls, \n",
    "            bat_id=bat_id\n",
    "        )\n",
    "          \n",
    "        display('Pitcher Matrix ', pitcher_matrix)\n",
    "\n",
    "        all_comb_prob = prob_next_state(hitter_matrix, pitcher_matrix)\n",
    "        certain_comb_prob = all_comb_prob.loc[all_comb_prob['previous_play'] == prev_outcome]\n",
    "        certain_comb_prob['actual_outcome'] = actual_outcome\n",
    "        display('Events Probibility', certain_comb_prob)\n",
    "        certain_comb_prob['pitch_id'] = pitch_id\n",
    "        results_df = pd.concat([results_df, certain_comb_prob], axis=0)\n",
    "    \n",
    "    print('-' * 100)\n",
    "    "
   ]
  },
  {
   "cell_type": "code",
   "execution_count": null,
   "metadata": {},
   "outputs": [],
   "source": []
  }
 ],
 "metadata": {
  "kernelspec": {
   "display_name": "Python 3",
   "language": "python",
   "name": "python3"
  },
  "language_info": {
   "codemirror_mode": {
    "name": "ipython",
    "version": 3
   },
   "file_extension": ".py",
   "mimetype": "text/x-python",
   "name": "python",
   "nbconvert_exporter": "python",
   "pygments_lexer": "ipython3",
   "version": "3.7.7"
  }
 },
 "nbformat": 4,
 "nbformat_minor": 2
}
