{
 "cells": [
  {
   "cell_type": "code",
   "execution_count": 1,
   "metadata": {},
   "outputs": [],
   "source": [
    "import pandas as pd\n",
    "import matplotlib.pyplot as plt\n",
    "import numpy as np"
   ]
  },
  {
   "cell_type": "code",
   "execution_count": 2,
   "metadata": {},
   "outputs": [],
   "source": [
    "pd.set_option('display.max_rows', 500)\n",
    "pd.set_option('display.max_columns', 500)\n",
    "pd.set_option('display.width', 1000)"
   ]
  },
  {
   "cell_type": "code",
   "execution_count": 3,
   "metadata": {},
   "outputs": [],
   "source": [
    "clean_df = pd.read_csv('data/play_by_play_2016.csv').drop(columns='Unnamed: 0')"
   ]
  },
  {
   "cell_type": "markdown",
   "metadata": {},
   "source": [
    "### Get a single result for each pitch (ball/strike)"
   ]
  },
  {
   "cell_type": "code",
   "execution_count": 4,
   "metadata": {},
   "outputs": [],
   "source": [
    "clean_df['prev_state_id'] = (\n",
    "    clean_df.sort_values(by=['bat_id', 'event_num'], ascending=True)\n",
    "      .groupby('bat_id')['outcomeId']\n",
    "      .shift(1)\n",
    "      .fillna('bFP')\n",
    ")\n",
    "\n",
    "clean_df['prev_state_desc'] = (\n",
    "    clean_df.sort_values(by=['bat_id', 'event_num'], ascending=True)\n",
    "      .groupby('bat_id')['outcomeDescription']\n",
    "      .shift(1)\n",
    "      .fillna('First Pitch')\n",
    ")"
   ]
  },
  {
   "cell_type": "markdown",
   "metadata": {},
   "source": [
    "QA Check, look at what the most popular paths to each outcome are (this is what you I'll try to beat); Do in the manual way (can speed this up later predicting probability at each state)"
   ]
  },
  {
   "cell_type": "code",
   "execution_count": 5,
   "metadata": {},
   "outputs": [],
   "source": [
    "# transpose the list into many columns\n",
    "t = clean_df.groupby('bat_id')['outcomeDescription'].apply(list)\n",
    "out = pd.DataFrame(t.tolist(), index=t.index)\n",
    "\n",
    "# create a column that is a list between all values and get only the combos you care about\n",
    "out['all_states'] = out.values.tolist()\n",
    "kv_df = out.reset_index()[['bat_id', 'all_states']]"
   ]
  },
  {
   "cell_type": "code",
   "execution_count": 6,
   "metadata": {},
   "outputs": [],
   "source": [
    "def remove_nulls(row): \n",
    "    val = [i for i in row['all_states'] if i != None]\n",
    "    return val\n",
    "\n",
    "kv_df['all_states'] = kv_df.apply(remove_nulls, axis=1)"
   ]
  },
  {
   "cell_type": "code",
   "execution_count": 7,
   "metadata": {},
   "outputs": [],
   "source": [
    "# turn into a dictonary for k,v pair\n",
    "state_dict = dict(zip(kv_df['bat_id'], kv_df['all_states'].to_numpy()))"
   ]
  },
  {
   "cell_type": "code",
   "execution_count": 8,
   "metadata": {},
   "outputs": [
    {
     "data": {
      "text/plain": [
       "{'000f209b-7132-4020-a2b6-dec9196a1802565de4be-dc80-4849-a7e1-54bc79156cc8090ff436-c1e8-4927-b457-355cf4f9993bcc672f14-6c84-4dde-8beb-90664d4678431BOT1': ['Strike Looking',\n",
       "  'Strike Looking',\n",
       "  'Foul Ball',\n",
       "  'Line Out'],\n",
       " '000f209b-7132-4020-a2b6-dec9196a1802565de4be-dc80-4849-a7e1-54bc79156cc8090ff436-c1e8-4927-b457-355cf4f9993bcc672f14-6c84-4dde-8beb-90664d4678433BOT1': ['Ball',\n",
       "  'Fly Out'],\n",
       " '000f209b-7132-4020-a2b6-dec9196a1802565de4be-dc80-4849-a7e1-54bc79156cc8090ff436-c1e8-4927-b457-355cf4f9993bcc672f14-6c84-4dde-8beb-90664d4678436BOT6': ['Ball',\n",
       "  'Pop Out'],\n",
       " '000f209b-7132-4020-a2b6-dec9196a1802565de4be-dc80-4849-a7e1-54bc79156cc8090ff436-c1e8-4927-b457-355cf4f9993bee01fdc0-ef9d-4352-9ad9-b1331ce88f099BOT2': ['Ground Out'],\n",
       " '000f209b-7132-4020-a2b6-dec9196a1802565de4be-dc80-4849-a7e1-54bc79156cc8141d06a7-bef6-4d75-8bcb-7ed64be0d16e4dfb03a2-a8f0-40d7-b4eb-dad5e12e24f77TOP2': ['Ball',\n",
       "  'Ball',\n",
       "  'Foul Ball',\n",
       "  'Ground Out']}"
      ]
     },
     "execution_count": 8,
     "metadata": {},
     "output_type": "execute_result"
    }
   ],
   "source": [
    "# quick look at dictonary\n",
    "{i:state_dict[i] for index, i in enumerate(state_dict.keys()) if index < 5}"
   ]
  },
  {
   "cell_type": "code",
   "execution_count": 9,
   "metadata": {},
   "outputs": [],
   "source": [
    "def look_start_n(n): \n",
    "    # put into sets of n and evaluate\n",
    "    final = {}\n",
    "\n",
    "    for i, j in state_dict.items(): \n",
    "        vals = []\n",
    "        for index, action in enumerate(j):\n",
    "            chain = j[index:index+n]\n",
    "            vals.append(chain)\n",
    "\n",
    "        final[i] = vals\n",
    "\n",
    "    # turn into json format\n",
    "    new_format = {}\n",
    "    for k,v in final.items(): \n",
    "        json = {}\n",
    "        for i,c in enumerate(v): \n",
    "            # only consider states with at least 3 terms\n",
    "            if len(c) == n: \n",
    "                readable = ','.join(c)\n",
    "                json[f'combo_{i}'] = readable\n",
    "\n",
    "        new_format[k] = json\n",
    "    \n",
    "    analysis_df = pd.DataFrame(new_format).T.reset_index().rename(columns={'index' : 'bat_id'})\n",
    "    return analysis_df"
   ]
  },
  {
   "cell_type": "code",
   "execution_count": 10,
   "metadata": {},
   "outputs": [
    {
     "ename": "NameError",
     "evalue": "name 'analysis_df' is not defined",
     "output_type": "error",
     "traceback": [
      "\u001b[0;31m---------------------------------------------------------------------------\u001b[0m",
      "\u001b[0;31mNameError\u001b[0m                                 Traceback (most recent call last)",
      "\u001b[0;32m<ipython-input-10-7a28db2a3be0>\u001b[0m in \u001b[0;36m<module>\u001b[0;34m\u001b[0m\n\u001b[1;32m      1\u001b[0m \u001b[0;32mfor\u001b[0m \u001b[0mcombo\u001b[0m \u001b[0;32min\u001b[0m \u001b[0;34m[\u001b[0m\u001b[0;34m'combo_0'\u001b[0m\u001b[0;34m,\u001b[0m \u001b[0;34m'combo_1'\u001b[0m\u001b[0;34m,\u001b[0m \u001b[0;34m'combo_2'\u001b[0m\u001b[0;34m,\u001b[0m \u001b[0;34m'combo_3'\u001b[0m\u001b[0;34m,\u001b[0m \u001b[0;34m'combo_4'\u001b[0m\u001b[0;34m]\u001b[0m\u001b[0;34m:\u001b[0m\u001b[0;34m\u001b[0m\u001b[0;34m\u001b[0m\u001b[0m\n\u001b[1;32m      2\u001b[0m     show_df = (\n\u001b[0;32m----> 3\u001b[0;31m         \u001b[0manalysis_df\u001b[0m\u001b[0;34m\u001b[0m\u001b[0;34m\u001b[0m\u001b[0m\n\u001b[0m\u001b[1;32m      4\u001b[0m             \u001b[0;34m.\u001b[0m\u001b[0mgroupby\u001b[0m\u001b[0;34m(\u001b[0m\u001b[0mcombo\u001b[0m\u001b[0;34m)\u001b[0m\u001b[0;34m\u001b[0m\u001b[0;34m\u001b[0m\u001b[0m\n\u001b[1;32m      5\u001b[0m             \u001b[0;34m.\u001b[0m\u001b[0magg\u001b[0m\u001b[0;34m(\u001b[0m\u001b[0;34m{\u001b[0m\u001b[0;34m'bat_id'\u001b[0m \u001b[0;34m:\u001b[0m \u001b[0;34m'count'\u001b[0m\u001b[0;34m}\u001b[0m\u001b[0;34m)\u001b[0m\u001b[0;34m\u001b[0m\u001b[0;34m\u001b[0m\u001b[0m\n",
      "\u001b[0;31mNameError\u001b[0m: name 'analysis_df' is not defined"
     ]
    }
   ],
   "source": [
    "for combo in ['combo_0', 'combo_1', 'combo_2', 'combo_3', 'combo_4']: \n",
    "    show_df = (\n",
    "        analysis_df\n",
    "            .groupby(combo)\n",
    "            .agg({'bat_id' : 'count'})\n",
    "            .sort_values(by=['bat_id'], ascending=False)\n",
    "            .head(20)\n",
    "    )\n",
    "    \n",
    "    display(show_df)"
   ]
  },
  {
   "cell_type": "code",
   "execution_count": null,
   "metadata": {},
   "outputs": [],
   "source": []
  }
 ],
 "metadata": {
  "kernelspec": {
   "display_name": "Python 3.7.5 64-bit",
   "language": "python",
   "name": "python37564bit8c17ed74e8c548f7b22d709686d69f6d"
  },
  "language_info": {
   "codemirror_mode": {
    "name": "ipython",
    "version": 3
   },
   "file_extension": ".py",
   "mimetype": "text/x-python",
   "name": "python",
   "nbconvert_exporter": "python",
   "pygments_lexer": "ipython3",
   "version": "3.7.7"
  }
 },
 "nbformat": 4,
 "nbformat_minor": 2
}
