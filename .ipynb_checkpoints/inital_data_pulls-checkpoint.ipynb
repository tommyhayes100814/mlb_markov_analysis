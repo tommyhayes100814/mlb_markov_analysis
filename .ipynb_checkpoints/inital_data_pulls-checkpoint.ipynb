{
 "cells": [
  {
   "cell_type": "code",
   "execution_count": 1,
   "metadata": {},
   "outputs": [],
   "source": [
    "import pandas as pd\n",
    "import matplotlib.pyplot as plt\n",
    "from google.cloud import bigquery\n",
    "import json"
   ]
  },
  {
   "cell_type": "code",
   "execution_count": 2,
   "metadata": {},
   "outputs": [],
   "source": [
    "pd.set_option('display.max_rows', 500)\n",
    "pd.set_option('display.max_columns', 500)\n",
    "pd.set_option('display.width', 1000)"
   ]
  },
  {
   "cell_type": "markdown",
   "metadata": {},
   "source": [
    "### Get an inital dataset that can be used from Google BigQuery"
   ]
  },
  {
   "cell_type": "code",
   "execution_count": 3,
   "metadata": {},
   "outputs": [],
   "source": [
    "client = bigquery.Client()"
   ]
  },
  {
   "cell_type": "markdown",
   "metadata": {},
   "source": [
    "Create a new column to that is the event number of each at bat (the current version includes steals), which will be removed. This query is messy (would usually create temp tables), but google biqQuery charges for that...."
   ]
  },
  {
   "cell_type": "code",
   "execution_count": 17,
   "metadata": {},
   "outputs": [],
   "source": [
    "query = \"\"\"\n",
    "SELECT \n",
    "     CONCAT(gameId, seasonId, hitterId, pitcherId, inningNumber, inningHalf, inningHalfEventSequenceNumber, event_num) AS pitch_id, \n",
    "     last.*\n",
    "     FROM (\n",
    "        SELECT\n",
    "            ROW_NUMBER() OVER (PARTITION BY bat_id ORDER BY createdAt) AS event_num, \n",
    "            deriv.*\n",
    "        FROM (\n",
    "            SELECT \n",
    "                CONCAT(gameId, seasonId, hitterId, pitcherId, inningNumber, inningHalf, inningHalfEventSequenceNumber) AS bat_id, \n",
    "                orig.* \n",
    "            FROM (\n",
    "                SELECT \n",
    "                    gameId, \n",
    "                    seasonId,\n",
    "                    createdAt, \n",
    "                    awayTeamId, \n",
    "                    homeTeamId, \n",
    "                    venueSurface, \n",
    "                    venueCity, \n",
    "                    venueOutfieldDistances,\n",
    "                    inningNumber, \n",
    "                    inningHalf, \n",
    "                    inningEventType,\n",
    "                    inningHalfEventSequenceNumber,  \n",
    "                    atBatEventType, \n",
    "                    atBatEventSequenceNumber, \n",
    "                    outcomeId, \n",
    "                    outcomeDescription, \n",
    "                    hitterFirstName, \n",
    "                    hitterLastName,\n",
    "                    hitterId, \n",
    "                    hitterWeight, \n",
    "                    hitterHeight, \n",
    "                    hitterBatHand, \n",
    "                    pitcherFirstName, \n",
    "                    pitcherLastName,\n",
    "                    pitcherId, \n",
    "                    pitcherThrowHand, \n",
    "                    pitchType, \n",
    "                    pitchSpeed, \n",
    "                    pitchZone, \n",
    "                    pitcherPitchCount, \n",
    "                    hitterPitchCount, \n",
    "                    startingBalls, \n",
    "                    startingStrikes, \n",
    "                    startingOuts, \n",
    "                    balls, \n",
    "                    strikes, \n",
    "                    outs, \n",
    "                    is_ab, \n",
    "                    is_ab_over, \n",
    "                    is_hit, \n",
    "                    is_on_base, \n",
    "                    is_bunt, \n",
    "                    is_bunt_shown, \n",
    "                    is_double_play, \n",
    "                    is_triple_play, \n",
    "                    is_wild_pitch, \n",
    "                    is_passed_ball,\n",
    "                    rob1_outcomeId, \n",
    "                    rob1_outcomeDescription, \n",
    "                    rob2_start, \n",
    "                    rob2_end, \n",
    "                    rob2_isOut,\n",
    "                    rob2_outcomeId, \n",
    "                    rob2_outcomeDescription,\n",
    "                    rob3_start, \n",
    "                    rob3_end, \n",
    "                    rob3_isOut, \n",
    "                    rob3_outcomeId, \n",
    "                    rob3_outcomeDescription, \n",
    "                    description,\n",
    "                    homeCurrentTotalRuns, \n",
    "                    awayCurrentTotalRuns, \n",
    "                    lineupPosition, \n",
    "                    lineupOrder\n",
    "                FROM `bigquery-public-data.baseball.games_wide`\n",
    "            ) orig\n",
    "        ) deriv\n",
    "    ) last\n",
    "    WHERE inningEventType <> 'LINEUP'\n",
    "\"\"\""
   ]
  },
  {
   "cell_type": "code",
   "execution_count": 18,
   "metadata": {},
   "outputs": [
    {
     "name": "stdout",
     "output_type": "stream",
     "text": [
      "CPU times: user 1min 59s, sys: 5.01 s, total: 2min 4s\n",
      "Wall time: 6min 20s\n"
     ]
    }
   ],
   "source": [
    "%%time\n",
    "df = client.query(query).result().to_dataframe()"
   ]
  },
  {
   "cell_type": "code",
   "execution_count": 19,
   "metadata": {},
   "outputs": [
    {
     "name": "stdout",
     "output_type": "stream",
     "text": [
      "CPU times: user 2 µs, sys: 1 µs, total: 3 µs\n",
      "Wall time: 4.05 µs\n"
     ]
    },
    {
     "name": "stderr",
     "output_type": "stream",
     "text": [
      "/usr/local/lib/python3.7/site-packages/ipykernel_launcher.py:8: SettingWithCopyWarning: \n",
      "A value is trying to be set on a copy of a slice from a DataFrame.\n",
      "Try using .loc[row_indexer,col_indexer] = value instead\n",
      "\n",
      "See the caveats in the documentation: http://pandas.pydata.org/pandas-docs/stable/user_guide/indexing.html#returning-a-view-versus-a-copy\n",
      "  \n",
      "/usr/local/lib/python3.7/site-packages/ipykernel_launcher.py:9: SettingWithCopyWarning: \n",
      "A value is trying to be set on a copy of a slice from a DataFrame.\n",
      "Try using .loc[row_indexer,col_indexer] = value instead\n",
      "\n",
      "See the caveats in the documentation: http://pandas.pydata.org/pandas-docs/stable/user_guide/indexing.html#returning-a-view-versus-a-copy\n",
      "  if __name__ == '__main__':\n"
     ]
    }
   ],
   "source": [
    "%time\n",
    "# get a list of all the distinct bat_id where a steal occured\n",
    "steal_bat_ids = df.loc[df['atBatEventType'] == 'STEAL']['bat_id'].unique().tolist()\n",
    "\n",
    "# filter out all those ids from the original dataset\n",
    "clean_df = df.loc[~df['bat_id'].isin(steal_bat_ids)]\n",
    "\n",
    "clean_df['pitcher_full_name'] = clean_df['pitcherFirstName'] + '_' + clean_df['pitcherLastName']\n",
    "clean_df['hitter_full_name'] = clean_df['hitterFirstName'] + '_'  + clean_df['hitterLastName']"
   ]
  },
  {
   "cell_type": "markdown",
   "metadata": {},
   "source": [
    "### Do some QA Checks to make sure things look as expected"
   ]
  },
  {
   "cell_type": "markdown",
   "metadata": {},
   "source": [
    "From the source here: https://twitter.com/highheatstats/status/1105499111531393024?lang=en\n",
    "\n",
    "It looks like there's between 3.8 and 3.9 pitches per plate apperance in 2016 - which has been inreasing over time (batters getting better?) - make sure than aligns with the data"
   ]
  },
  {
   "cell_type": "code",
   "execution_count": 22,
   "metadata": {},
   "outputs": [
    {
     "name": "stdout",
     "output_type": "stream",
     "text": [
      "3.8416341492936477\n"
     ]
    }
   ],
   "source": [
    "unique_abs = len(clean_df['bat_id'].unique())\n",
    "total_pitches = len(clean_df['pitch_id'].unique())\n",
    "print(total_pitches/unique_abs) # looks good"
   ]
  },
  {
   "cell_type": "markdown",
   "metadata": {},
   "source": [
    "Looks to see the usage betweeen various pitch types "
   ]
  },
  {
   "cell_type": "code",
   "execution_count": 23,
   "metadata": {},
   "outputs": [
    {
     "data": {
      "image/png": "[encoded data removed]",
      "text/plain": [
       "<Figure size 1152x288 with 1 Axes>"
      ]
     },
     "metadata": {
      "needs_background": "light"
     },
     "output_type": "display_data"
    }
   ],
   "source": [
    "clean_df.groupby('pitchType')[['pitch_id']].count()\\\n",
    "        .sort_values(by='pitch_id')\\\n",
    "        .plot(kind='barh', figsize=(16, 4)).legend(loc='lower right')\n",
    "plt.show(); # overall as expected"
   ]
  },
  {
   "cell_type": "markdown",
   "metadata": {},
   "source": [
    "See which pitchers had the highest pitch count"
   ]
  },
  {
   "cell_type": "code",
   "execution_count": 33,
   "metadata": {},
   "outputs": [],
   "source": [
    "high_pitch_counts = (\n",
    "    clean_df.groupby(['pitcher_full_name', 'gameId'])\n",
    "            .agg({'pitcherPitchCount' : 'max'})\n",
    "            .reset_index()\n",
    "            .groupby('pitcher_full_name')\n",
    "            .agg({'pitcherPitchCount' : 'sum'})\n",
    "            .rename(columns={'pitcherPitchCount' : 'total_pitches_thrown'})\n",
    "            .sort_values(by=['total_pitches_thrown'], ascending=False)\n",
    ")"
   ]
  },
  {
   "cell_type": "code",
   "execution_count": 35,
   "metadata": {},
   "outputs": [
    {
     "data": {
      "text/html": [
       "<div>\n",
       "<style scoped>\n",
       "    .dataframe tbody tr th:only-of-type {\n",
       "        vertical-align: middle;\n",
       "    }\n",
       "\n",
       "    .dataframe tbody tr th {\n",
       "        vertical-align: top;\n",
       "    }\n",
       "\n",
       "    .dataframe thead th {\n",
       "        text-align: right;\n",
       "    }\n",
       "</style>\n",
       "<table border=\"1\" class=\"dataframe\">\n",
       "  <thead>\n",
       "    <tr style=\"text-align: right;\">\n",
       "      <th></th>\n",
       "      <th>total_pitches_thrown</th>\n",
       "    </tr>\n",
       "    <tr>\n",
       "      <th>pitcher_full_name</th>\n",
       "      <th></th>\n",
       "    </tr>\n",
       "  </thead>\n",
       "  <tbody>\n",
       "    <tr>\n",
       "      <th>Justin_Verlander</th>\n",
       "      <td>3614</td>\n",
       "    </tr>\n",
       "    <tr>\n",
       "      <th>David_Price</th>\n",
       "      <td>3591</td>\n",
       "    </tr>\n",
       "    <tr>\n",
       "      <th>Maxwell_Scherzer</th>\n",
       "      <td>3574</td>\n",
       "    </tr>\n",
       "    <tr>\n",
       "      <th>Madison_Bumgarner</th>\n",
       "      <td>3562</td>\n",
       "    </tr>\n",
       "    <tr>\n",
       "      <th>Christopher_Sale</th>\n",
       "      <td>3417</td>\n",
       "    </tr>\n",
       "    <tr>\n",
       "      <th>Christopher_Archer</th>\n",
       "      <td>3401</td>\n",
       "    </tr>\n",
       "    <tr>\n",
       "      <th>Frederick_Porcello</th>\n",
       "      <td>3395</td>\n",
       "    </tr>\n",
       "    <tr>\n",
       "      <th>Ian_Kennedy</th>\n",
       "      <td>3371</td>\n",
       "    </tr>\n",
       "    <tr>\n",
       "      <th>Tanner_Roark</th>\n",
       "      <td>3348</td>\n",
       "    </tr>\n",
       "    <tr>\n",
       "      <th>Johnny_Cueto</th>\n",
       "      <td>3304</td>\n",
       "    </tr>\n",
       "  </tbody>\n",
       "</table>\n",
       "</div>"
      ],
      "text/plain": [
       "                    total_pitches_thrown\n",
       "pitcher_full_name                       \n",
       "Justin_Verlander                    3614\n",
       "David_Price                         3591\n",
       "Maxwell_Scherzer                    3574\n",
       "Madison_Bumgarner                   3562\n",
       "Christopher_Sale                    3417\n",
       "Christopher_Archer                  3401\n",
       "Frederick_Porcello                  3395\n",
       "Ian_Kennedy                         3371\n",
       "Tanner_Roark                        3348\n",
       "Johnny_Cueto                        3304"
      ]
     },
     "execution_count": 35,
     "metadata": {},
     "output_type": "execute_result"
    }
   ],
   "source": [
    "high_pitch_counts.head(10) # output makes sense"
   ]
  },
  {
   "cell_type": "code",
   "execution_count": 36,
   "metadata": {},
   "outputs": [],
   "source": [
    "# write out the data to read into modeling notebook\n",
    "clean_df.to_csv('data/play_by_play_2016.csv')"
   ]
  },
  {
   "cell_type": "code",
   "execution_count": null,
   "metadata": {},
   "outputs": [],
   "source": []
  }
 ],
 "metadata": {
  "kernelspec": {
   "display_name": "Python 3",
   "language": "python",
   "name": "python3"
  },
  "language_info": {
   "codemirror_mode": {
    "name": "ipython",
    "version": 3
   },
   "file_extension": ".py",
   "mimetype": "text/x-python",
   "name": "python",
   "nbconvert_exporter": "python",
   "pygments_lexer": "ipython3",
   "version": "3.7.7"
  }
 },
 "nbformat": 4,
 "nbformat_minor": 2
}
