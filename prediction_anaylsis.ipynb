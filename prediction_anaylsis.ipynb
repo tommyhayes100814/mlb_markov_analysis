{
 "cells": [
  {
   "cell_type": "code",
   "execution_count": 10,
   "metadata": {},
   "outputs": [],
   "source": [
    "import pandas as pd\n",
    "import matplotlib.pyplot as plt\n",
    "import numpy as np\n",
    "import seaborn as sns; sns.set()\n",
    "import random\n",
    "import os"
   ]
  },
  {
   "cell_type": "code",
   "execution_count": 11,
   "metadata": {},
   "outputs": [],
   "source": [
    "pd.set_option('display.max_rows', 500)\n",
    "pd.set_option('display.max_columns', 500)\n",
    "pd.set_option('display.width', 1000000)\n",
    "pd.options.mode.chained_assignment = None "
   ]
  },
  {
   "cell_type": "code",
   "execution_count": 28,
   "metadata": {},
   "outputs": [
    {
     "data": {
      "text/plain": [
       "['results_df_4000.csv',\n",
       " 'results_df_2500.csv',\n",
       " 'results_df_2000.csv',\n",
       " 'results_df_4500.csv',\n",
       " 'results_df_0.csv',\n",
       " 'results_df_1500.csv',\n",
       " 'results_df_3500.csv',\n",
       " 'results_df_3000.csv',\n",
       " 'results_df_500.csv',\n",
       " 'results_df_1000.csv']"
      ]
     },
     "execution_count": 28,
     "metadata": {},
     "output_type": "execute_result"
    }
   ],
   "source": [
    "# get all of the csvs that have written out from the previous process\n",
    "csvs = [i for i in os.listdir() if i.startswith('results_df')]\n",
    "csvs"
   ]
  },
  {
   "cell_type": "code",
   "execution_count": 30,
   "metadata": {},
   "outputs": [],
   "source": [
    "remove_cols = ['Fielders Choice', 'Sacrifice Fly', 'Fielder\\'s Choice-Adv-2nd', \n",
    "               'Sacrifice Bunt', 'Reached on error-Adv-3rd', 'Reached on error-Adv-2nd', \n",
    "               'Catcher Interference', 'Sacrifice Bunt-Adv-2nd', 'Sacrifice Bunt', \n",
    "               'Dirt Ball', 'Sacrifice Fly-Adv-2nd', 'Fielders Choice - Out at 2nd', \n",
    "               'Sacrifice Fly-Adv-1st', 'Sacrifice Bunt-Adv-1st', 'Reached On Error - Out at 2nd', \n",
    "               'Balk', 'Reached on error', 'Hit by pitch']\n",
    "\n",
    "high_level_groupings = {\n",
    "    'ball' : ['Ball', 'Intentional Ball', 'Pitch Out'], \n",
    "    \n",
    "    'strike' : \n",
    "        ['Strike Looking', 'Strike Swinging', ' Strike Swinging - Out at Home', \n",
    "         'Strike-swinging-Adv-1st', 'Strike-looking-Adv-1st', 'Single - Out at 3rd', \n",
    "         'Strike Looking - Out at 1st'], \n",
    "    \n",
    "    'contact_in_play_out' : \n",
    "        ['Pop Out', 'Ground Out', 'Fly Out', 'Line Out'], \n",
    "    \n",
    "    'contact_in_on_base' : \n",
    "        ['Homerun', 'Single', 'Double', 'Single - Out at 2nd', 'Triple', 'Single-Adv-2nd', \n",
    "         'Double-Adv-3rd', 'Double Out at 3rd', 'Single-Adv-Home', 'Single-Adv-3rd', 'Double-Adv-Home', \n",
    "         'Triple-Adv-Home', 'Triple - Out at Home', 'Double-Adv-Home'], \n",
    "    \n",
    "    'contact_foul' : ['Foul Ball', 'Foul Tip', ]\n",
    "}\n",
    "\n",
    "# remove any bat_id with 'rare' events (~10% of at-bats)\n",
    "remove_ids = clean_df.loc[clean_df['outcomeDescription'].isin(remove_cols)]['bat_id'].unique()\n",
    "clean_df = clean_df.loc[~clean_df['bat_id'].isin(remove_ids)]\n",
    "\n",
    "# theres currently no assignment for a walk; create new column for outcome called walk\n",
    "clean_df['walk_flag'] = np.where(\n",
    "    ((clean_df['startingBalls'] == 3) & \n",
    "     (clean_df['outcomeDescription'].isin(high_level_groupings['ball']))), 1, 0\n",
    ")\n",
    "\n",
    "# do the same for strikes\n",
    "clean_df['strikeout_flag'] = np.where(\n",
    "    ((clean_df['startingStrikes'] == 2) & \n",
    "    (clean_df['outcomeDescription'].isin(high_level_groupings['strike']))), 1, 0\n",
    ")\n",
    "\n",
    "# put the previous ids in the data\n",
    "clean_df['prev_state_id'] = (\n",
    "    clean_df.sort_values(by=['bat_id', 'event_num'], ascending=True)\n",
    "      .groupby('bat_id')['outcomeId']\n",
    "      .shift(1)\n",
    "      .fillna('bFP')\n",
    ")\n",
    "\n",
    "clean_df['prev_state_desc'] = (\n",
    "    clean_df.sort_values(by=['bat_id', 'event_num'], ascending=True)\n",
    "      .groupby('bat_id')['outcomeDescription']\n",
    "      .shift(1)\n",
    "      .fillna('First Pitch')\n",
    ")\n",
    "\n",
    "# assign based on the dictonary above\n",
    "clean_df['assigned_outcome'] = ''\n",
    "clean_df['prev_assigned_outcome'] = ''\n",
    "for outcome, grouping in high_level_groupings.items(): \n",
    "    clean_df['assigned_outcome'] = np.where(\n",
    "        clean_df['walk_flag'] == 1, 'walk', \n",
    "            np.where(clean_df['strikeout_flag'] == 1, 'strikeout',\n",
    "                np.where(\n",
    "                    clean_df['outcomeDescription'].isin(grouping), outcome, clean_df['assigned_outcome']\n",
    "                )\n",
    "            )          \n",
    "        )\n",
    "    \n",
    "    # has the previous outcomes as the same grouping (except itis imporssible to get a walk here)\n",
    "    clean_df['prev_assigned_outcome'] = np.where(\n",
    "            clean_df['prev_state_desc'] == 'First Pitch', 'first_pitch',\n",
    "            np.where(\n",
    "                clean_df['prev_state_desc'].isin(grouping), outcome, clean_df['prev_assigned_outcome']\n",
    "            )\n",
    "    )"
   ]
  },
  {
   "cell_type": "code",
   "execution_count": 20,
   "metadata": {},
   "outputs": [],
   "source": [
    "results_df = pd.DataFrame()\n",
    "for csv in csvs:\n",
    "    t = pd.read_csv(csv)\n",
    "    results_df = pd.concat([results_df, t], axis=0)"
   ]
  },
  {
   "cell_type": "code",
   "execution_count": 21,
   "metadata": {},
   "outputs": [],
   "source": [
    "results_df = results_df.drop(columns='Unnamed: 0')\n",
    "clean_df = pd.read_csv('data/play_by_play_2016.csv').drop(columns='Unnamed: 0')"
   ]
  },
  {
   "cell_type": "code",
   "execution_count": 25,
   "metadata": {},
   "outputs": [
    {
     "data": {
      "text/html": [
       "<div>\n",
       "<style scoped>\n",
       "    .dataframe tbody tr th:only-of-type {\n",
       "        vertical-align: middle;\n",
       "    }\n",
       "\n",
       "    .dataframe tbody tr th {\n",
       "        vertical-align: top;\n",
       "    }\n",
       "\n",
       "    .dataframe thead th {\n",
       "        text-align: right;\n",
       "    }\n",
       "</style>\n",
       "<table border=\"1\" class=\"dataframe\">\n",
       "  <thead>\n",
       "    <tr style=\"text-align: right;\">\n",
       "      <th></th>\n",
       "      <th>previous_play</th>\n",
       "      <th>ball</th>\n",
       "      <th>contact_foul</th>\n",
       "      <th>contact_in_on_base</th>\n",
       "      <th>contact_in_play_out</th>\n",
       "      <th>strike</th>\n",
       "      <th>actual_outcome</th>\n",
       "      <th>pitch_id</th>\n",
       "      <th>strikeout</th>\n",
       "      <th>walk</th>\n",
       "      <th>max_prob</th>\n",
       "      <th>predicted_result</th>\n",
       "      <th>correct_flag</th>\n",
       "    </tr>\n",
       "  </thead>\n",
       "  <tbody>\n",
       "    <tr>\n",
       "      <th>0</th>\n",
       "      <td>first_pitch</td>\n",
       "      <td>0.350211</td>\n",
       "      <td>0.122363</td>\n",
       "      <td>0.037975</td>\n",
       "      <td>0.056259</td>\n",
       "      <td>0.433193</td>\n",
       "      <td>ball</td>\n",
       "      <td>b77ac3a4-673b-4644-b7fd-dcc720bca88b565de4be-d...</td>\n",
       "      <td>NaN</td>\n",
       "      <td>NaN</td>\n",
       "      <td>0.433193</td>\n",
       "      <td>strike</td>\n",
       "      <td>0</td>\n",
       "    </tr>\n",
       "    <tr>\n",
       "      <th>1</th>\n",
       "      <td>ball</td>\n",
       "      <td>0.322581</td>\n",
       "      <td>0.149194</td>\n",
       "      <td>0.060484</td>\n",
       "      <td>0.104839</td>\n",
       "      <td>0.362903</td>\n",
       "      <td>strike</td>\n",
       "      <td>b77ac3a4-673b-4644-b7fd-dcc720bca88b565de4be-d...</td>\n",
       "      <td>NaN</td>\n",
       "      <td>NaN</td>\n",
       "      <td>0.362903</td>\n",
       "      <td>strike</td>\n",
       "      <td>1</td>\n",
       "    </tr>\n",
       "    <tr>\n",
       "      <th>2</th>\n",
       "      <td>strike</td>\n",
       "      <td>0.344444</td>\n",
       "      <td>0.188889</td>\n",
       "      <td>0.066667</td>\n",
       "      <td>0.100000</td>\n",
       "      <td>0.300000</td>\n",
       "      <td>strike</td>\n",
       "      <td>b77ac3a4-673b-4644-b7fd-dcc720bca88b565de4be-d...</td>\n",
       "      <td>NaN</td>\n",
       "      <td>NaN</td>\n",
       "      <td>0.344444</td>\n",
       "      <td>ball</td>\n",
       "      <td>0</td>\n",
       "    </tr>\n",
       "    <tr>\n",
       "      <th>3</th>\n",
       "      <td>strike</td>\n",
       "      <td>0.348837</td>\n",
       "      <td>0.255814</td>\n",
       "      <td>0.116279</td>\n",
       "      <td>0.104651</td>\n",
       "      <td>NaN</td>\n",
       "      <td>contact_in_on_base</td>\n",
       "      <td>b77ac3a4-673b-4644-b7fd-dcc720bca88b565de4be-d...</td>\n",
       "      <td>0.174419</td>\n",
       "      <td>NaN</td>\n",
       "      <td>0.348837</td>\n",
       "      <td>ball</td>\n",
       "      <td>0</td>\n",
       "    </tr>\n",
       "    <tr>\n",
       "      <th>4</th>\n",
       "      <td>first_pitch</td>\n",
       "      <td>0.368347</td>\n",
       "      <td>0.107843</td>\n",
       "      <td>0.036415</td>\n",
       "      <td>0.079832</td>\n",
       "      <td>0.407563</td>\n",
       "      <td>strike</td>\n",
       "      <td>b7b37ed4-5752-4a4f-a581-d7312ed598aa565de4be-d...</td>\n",
       "      <td>NaN</td>\n",
       "      <td>NaN</td>\n",
       "      <td>0.407563</td>\n",
       "      <td>strike</td>\n",
       "      <td>1</td>\n",
       "    </tr>\n",
       "  </tbody>\n",
       "</table>\n",
       "</div>"
      ],
      "text/plain": [
       "  previous_play      ball  contact_foul  contact_in_on_base  contact_in_play_out    strike      actual_outcome                                           pitch_id  strikeout  walk  max_prob predicted_result  correct_flag\n",
       "0   first_pitch  0.350211      0.122363            0.037975             0.056259  0.433193                ball  b77ac3a4-673b-4644-b7fd-dcc720bca88b565de4be-d...        NaN   NaN  0.433193           strike             0\n",
       "1          ball  0.322581      0.149194            0.060484             0.104839  0.362903              strike  b77ac3a4-673b-4644-b7fd-dcc720bca88b565de4be-d...        NaN   NaN  0.362903           strike             1\n",
       "2        strike  0.344444      0.188889            0.066667             0.100000  0.300000              strike  b77ac3a4-673b-4644-b7fd-dcc720bca88b565de4be-d...        NaN   NaN  0.344444             ball             0\n",
       "3        strike  0.348837      0.255814            0.116279             0.104651       NaN  contact_in_on_base  b77ac3a4-673b-4644-b7fd-dcc720bca88b565de4be-d...   0.174419   NaN  0.348837             ball             0\n",
       "4   first_pitch  0.368347      0.107843            0.036415             0.079832  0.407563              strike  b7b37ed4-5752-4a4f-a581-d7312ed598aa565de4be-d...        NaN   NaN  0.407563           strike             1"
      ]
     },
     "execution_count": 25,
     "metadata": {},
     "output_type": "execute_result"
    }
   ],
   "source": [
    "results_df.head()"
   ]
  },
  {
   "cell_type": "markdown",
   "metadata": {},
   "source": [
    "### Check to see how many I got 'right'"
   ]
  },
  {
   "cell_type": "code",
   "execution_count": 26,
   "metadata": {},
   "outputs": [],
   "source": [
    "# create a column for predicted outcome\n",
    "prob_cols = [\n",
    "    'ball', 'contact_foul', 'contact_in_on_base', \n",
    "    'contact_in_play_out', 'strike', 'strikeout', 'walk'\n",
    "]\n",
    "\n",
    "results_df['max_prob'] = results_df[prob_cols].max(axis=1)\n",
    "results_df['predicted_result'] = ''\n",
    "\n",
    "for prob_col in prob_cols: \n",
    "    results_df['predicted_result'] = np.where(\n",
    "        results_df[prob_col] ==  results_df['max_prob'], \n",
    "        prob_col, results_df['predicted_result'] \n",
    "        \n",
    "    )\n",
    "    \n",
    "    \n",
    "# create a marker when I got the 'right' outcome\n",
    "results_df['correct_flag'] = np.where(\n",
    "        results_df['predicted_result'] ==  results_df['actual_outcome'], 1, 0\n",
    ")"
   ]
  },
  {
   "cell_type": "code",
   "execution_count": 27,
   "metadata": {},
   "outputs": [
    {
     "data": {
      "text/plain": [
       "0.40872987980600267"
      ]
     },
     "execution_count": 27,
     "metadata": {},
     "output_type": "execute_result"
    }
   ],
   "source": [
    "# look at accuracy \n",
    "results_df['correct_flag'].sum() / results_df['correct_flag'].count()"
   ]
  },
  {
   "cell_type": "code",
   "execution_count": 55,
   "metadata": {},
   "outputs": [],
   "source": [
    "# if I randomly assign based on percentiles from real data \n",
    "# how well do I do \n",
    "# not the greatest way - because a 'good' model should almost never predict basehits\n",
    "pct_df = clean_df.groupby('assigned_outcome').agg({'pitch_id' : 'count'}).reset_index()\n",
    "pct_df['pct'] = pct_df['pitch_id'] / pct_df['pitch_id'].sum()\n",
    "pct_df = pct_df[['assigned_outcome', 'pct']]\n",
    "outcomes, chance = pct_df['assigned_outcome'].tolist(), pct_df['pct'].tolist()\n",
    "\n",
    "chance_df = results_df\n",
    "chance_df['random_outcome'] = np.random.choice(a=outcomes, p=chance)\n",
    "\n",
    "chance_df['random_correct_flag'] = np.where(\n",
    "    results_df['predicted_result'] ==  results_df['random_outcome'], 1, 0\n",
    ")"
   ]
  },
  {
   "cell_type": "code",
   "execution_count": 57,
   "metadata": {},
   "outputs": [
    {
     "data": {
      "text/plain": [
       "0.09114125723389799"
      ]
     },
     "execution_count": 57,
     "metadata": {},
     "output_type": "execute_result"
    }
   ],
   "source": [
    "chance_df['random_correct_flag'].sum() / chance_df['random_outcome'].count()"
   ]
  },
  {
   "cell_type": "markdown",
   "metadata": {},
   "source": [
    "### Look at the accuacy for each moment (if I give a 30% chance of "
   ]
  },
  {
   "cell_type": "code",
   "execution_count": 52,
   "metadata": {
    "scrolled": true
   },
   "outputs": [
    {
     "data": {
      "text/plain": [
       "Counter({'contact_foul': 18092,\n",
       "         'ball': 33273,\n",
       "         'strike': 22308,\n",
       "         'contact_in_play_out': 12398,\n",
       "         'strikeout': 5501,\n",
       "         'contact_in_on_base': 6461,\n",
       "         'walk': 1967})"
      ]
     },
     "execution_count": 52,
     "metadata": {},
     "output_type": "execute_result"
    }
   ],
   "source": [
    "l = []\n",
    "for _ in range(100000): \n",
    "    v = np.random.choice(a=outcomes, p=chance)\n",
    "    l.append(v)\n",
    "    \n",
    "from collections import Counter\n",
    "Counter(l)"
   ]
  },
  {
   "cell_type": "code",
   "execution_count": null,
   "metadata": {},
   "outputs": [],
   "source": [
    "# check how accurate i am for each prediction\n",
    "pd.pivot_table(results_df, index='predicted_result', columns='actual_outcome', values=)"
   ]
  },
  {
   "cell_type": "code",
   "execution_count": null,
   "metadata": {
    "scrolled": true
   },
   "outputs": [],
   "source": [
    "# look at what results I predicted the most\n",
    "results_df.groupby('predicted_result').agg({'pitch_id' : 'count'})"
   ]
  },
  {
   "cell_type": "code",
   "execution_count": null,
   "metadata": {},
   "outputs": [],
   "source": [
    "# look at what results actually happen the most\n",
    "results_df.groupby('actual_outcome').agg({'pitch_id' : 'count'})"
   ]
  },
  {
   "cell_type": "code",
   "execution_count": null,
   "metadata": {},
   "outputs": [],
   "source": []
  }
 ],
 "metadata": {
  "kernelspec": {
   "display_name": "Python 3",
   "language": "python",
   "name": "python3"
  },
  "language_info": {
   "codemirror_mode": {
    "name": "ipython",
    "version": 3
   },
   "file_extension": ".py",
   "mimetype": "text/x-python",
   "name": "python",
   "nbconvert_exporter": "python",
   "pygments_lexer": "ipython3",
   "version": "3.7.7"
  }
 },
 "nbformat": 4,
 "nbformat_minor": 2
}
